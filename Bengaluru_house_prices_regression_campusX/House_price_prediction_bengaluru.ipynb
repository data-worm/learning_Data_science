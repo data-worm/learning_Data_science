{
 "cells": [
  {
   "cell_type": "code",
   "execution_count": 15,
   "id": "133c098e",
   "metadata": {},
   "outputs": [],
   "source": [
    "import pandas as pd\n",
    "import numpy as np"
   ]
  },
  {
   "cell_type": "code",
   "execution_count": 16,
   "id": "2896bb40",
   "metadata": {},
   "outputs": [],
   "source": [
    "df=pd.read_csv('Bengaluru_House_Data.csv')"
   ]
  },
  {
   "cell_type": "code",
   "execution_count": 17,
   "id": "7c364356",
   "metadata": {},
   "outputs": [
    {
     "name": "stdout",
     "output_type": "stream",
     "text": [
      "<class 'pandas.core.frame.DataFrame'>\n",
      "RangeIndex: 13320 entries, 0 to 13319\n",
      "Data columns (total 9 columns):\n",
      " #   Column        Non-Null Count  Dtype  \n",
      "---  ------        --------------  -----  \n",
      " 0   area_type     13320 non-null  object \n",
      " 1   availability  13320 non-null  object \n",
      " 2   location      13319 non-null  object \n",
      " 3   size          13304 non-null  object \n",
      " 4   society       7818 non-null   object \n",
      " 5   total_sqft    13320 non-null  object \n",
      " 6   bath          13247 non-null  float64\n",
      " 7   balcony       12711 non-null  float64\n",
      " 8   price         13320 non-null  float64\n",
      "dtypes: float64(3), object(6)\n",
      "memory usage: 936.7+ KB\n"
     ]
    }
   ],
   "source": [
    "df.info()"
   ]
  },
  {
   "cell_type": "code",
   "execution_count": 18,
   "id": "dd856d1c",
   "metadata": {},
   "outputs": [
    {
     "data": {
      "text/plain": [
       "529"
      ]
     },
     "execution_count": 18,
     "metadata": {},
     "output_type": "execute_result"
    }
   ],
   "source": [
    "df.duplicated().sum()"
   ]
  },
  {
   "cell_type": "code",
   "execution_count": 19,
   "id": "3e41f806",
   "metadata": {},
   "outputs": [],
   "source": [
    "df.drop_duplicates(inplace=True)"
   ]
  },
  {
   "cell_type": "code",
   "execution_count": 20,
   "id": "adeeb394",
   "metadata": {},
   "outputs": [
    {
     "name": "stdout",
     "output_type": "stream",
     "text": [
      "<class 'pandas.core.frame.DataFrame'>\n",
      "Index: 12791 entries, 0 to 13318\n",
      "Data columns (total 9 columns):\n",
      " #   Column        Non-Null Count  Dtype  \n",
      "---  ------        --------------  -----  \n",
      " 0   area_type     12791 non-null  object \n",
      " 1   availability  12791 non-null  object \n",
      " 2   location      12790 non-null  object \n",
      " 3   size          12775 non-null  object \n",
      " 4   society       7463 non-null   object \n",
      " 5   total_sqft    12791 non-null  object \n",
      " 6   bath          12718 non-null  float64\n",
      " 7   balcony       12186 non-null  float64\n",
      " 8   price         12791 non-null  float64\n",
      "dtypes: float64(3), object(6)\n",
      "memory usage: 999.3+ KB\n"
     ]
    }
   ],
   "source": [
    "df.info()"
   ]
  },
  {
   "cell_type": "code",
   "execution_count": 21,
   "id": "2096f50b",
   "metadata": {},
   "outputs": [
    {
     "data": {
      "text/plain": [
       "array([ 39.07, 120.  ,  62.  , ...,  40.14, 231.  , 488.  ])"
      ]
     },
     "execution_count": 21,
     "metadata": {},
     "output_type": "execute_result"
    }
   ],
   "source": [
    "df['price'].unique()"
   ]
  },
  {
   "cell_type": "code",
   "execution_count": 22,
   "id": "6c32388a",
   "metadata": {},
   "outputs": [
    {
     "data": {
      "text/html": [
       "<div>\n",
       "<style scoped>\n",
       "    .dataframe tbody tr th:only-of-type {\n",
       "        vertical-align: middle;\n",
       "    }\n",
       "\n",
       "    .dataframe tbody tr th {\n",
       "        vertical-align: top;\n",
       "    }\n",
       "\n",
       "    .dataframe thead th {\n",
       "        text-align: right;\n",
       "    }\n",
       "</style>\n",
       "<table border=\"1\" class=\"dataframe\">\n",
       "  <thead>\n",
       "    <tr style=\"text-align: right;\">\n",
       "      <th></th>\n",
       "      <th>area_type</th>\n",
       "      <th>availability</th>\n",
       "      <th>location</th>\n",
       "      <th>size</th>\n",
       "      <th>society</th>\n",
       "      <th>total_sqft</th>\n",
       "      <th>bath</th>\n",
       "      <th>balcony</th>\n",
       "      <th>price</th>\n",
       "    </tr>\n",
       "  </thead>\n",
       "  <tbody>\n",
       "    <tr>\n",
       "      <th>0</th>\n",
       "      <td>Super built-up  Area</td>\n",
       "      <td>19-Dec</td>\n",
       "      <td>Electronic City Phase II</td>\n",
       "      <td>2 BHK</td>\n",
       "      <td>Coomee</td>\n",
       "      <td>1056</td>\n",
       "      <td>2.0</td>\n",
       "      <td>1.0</td>\n",
       "      <td>39.07</td>\n",
       "    </tr>\n",
       "    <tr>\n",
       "      <th>1</th>\n",
       "      <td>Plot  Area</td>\n",
       "      <td>Ready To Move</td>\n",
       "      <td>Chikka Tirupathi</td>\n",
       "      <td>4 Bedroom</td>\n",
       "      <td>Theanmp</td>\n",
       "      <td>2600</td>\n",
       "      <td>5.0</td>\n",
       "      <td>3.0</td>\n",
       "      <td>120.00</td>\n",
       "    </tr>\n",
       "    <tr>\n",
       "      <th>2</th>\n",
       "      <td>Built-up  Area</td>\n",
       "      <td>Ready To Move</td>\n",
       "      <td>Uttarahalli</td>\n",
       "      <td>3 BHK</td>\n",
       "      <td>NaN</td>\n",
       "      <td>1440</td>\n",
       "      <td>2.0</td>\n",
       "      <td>3.0</td>\n",
       "      <td>62.00</td>\n",
       "    </tr>\n",
       "    <tr>\n",
       "      <th>3</th>\n",
       "      <td>Super built-up  Area</td>\n",
       "      <td>Ready To Move</td>\n",
       "      <td>Lingadheeranahalli</td>\n",
       "      <td>3 BHK</td>\n",
       "      <td>Soiewre</td>\n",
       "      <td>1521</td>\n",
       "      <td>3.0</td>\n",
       "      <td>1.0</td>\n",
       "      <td>95.00</td>\n",
       "    </tr>\n",
       "    <tr>\n",
       "      <th>4</th>\n",
       "      <td>Super built-up  Area</td>\n",
       "      <td>Ready To Move</td>\n",
       "      <td>Kothanur</td>\n",
       "      <td>2 BHK</td>\n",
       "      <td>NaN</td>\n",
       "      <td>1200</td>\n",
       "      <td>2.0</td>\n",
       "      <td>1.0</td>\n",
       "      <td>51.00</td>\n",
       "    </tr>\n",
       "  </tbody>\n",
       "</table>\n",
       "</div>"
      ],
      "text/plain": [
       "              area_type   availability  ... balcony   price\n",
       "0  Super built-up  Area         19-Dec  ...     1.0   39.07\n",
       "1            Plot  Area  Ready To Move  ...     3.0  120.00\n",
       "2        Built-up  Area  Ready To Move  ...     3.0   62.00\n",
       "3  Super built-up  Area  Ready To Move  ...     1.0   95.00\n",
       "4  Super built-up  Area  Ready To Move  ...     1.0   51.00\n",
       "\n",
       "[5 rows x 9 columns]"
      ]
     },
     "execution_count": 22,
     "metadata": {},
     "output_type": "execute_result"
    }
   ],
   "source": [
    "df.head()"
   ]
  },
  {
   "cell_type": "markdown",
   "id": "2f4940e2",
   "metadata": {},
   "source": [
    "## Lets go one by one and fix all the columns"
   ]
  },
  {
   "cell_type": "code",
   "execution_count": 23,
   "id": "5929bf13",
   "metadata": {},
   "outputs": [
    {
     "data": {
      "text/plain": [
       "array(['Super built-up  Area', 'Plot  Area', 'Built-up  Area',\n",
       "       'Carpet  Area'], dtype=object)"
      ]
     },
     "execution_count": 23,
     "metadata": {},
     "output_type": "execute_result"
    }
   ],
   "source": [
    "df['area_type'].unique()                   #apply OHE"
   ]
  },
  {
   "cell_type": "code",
   "execution_count": 24,
   "id": "232de42e",
   "metadata": {},
   "outputs": [
    {
     "data": {
      "text/plain": [
       "array(['19-Dec', 'Ready To Move', '18-May', '18-Feb', '18-Nov', '20-Dec',\n",
       "       '17-Oct', '21-Dec', '19-Sep', '20-Sep', '18-Mar', '20-Feb',\n",
       "       '18-Apr', '20-Aug', '18-Oct', '19-Mar', '17-Sep', '18-Dec',\n",
       "       '17-Aug', '19-Apr', '18-Jun', '22-Dec', '22-Jan', '18-Aug',\n",
       "       '19-Jan', '17-Jul', '18-Jul', '21-Jun', '20-May', '19-Aug',\n",
       "       '18-Sep', '17-May', '17-Jun', '21-May', '18-Jan', '20-Mar',\n",
       "       '17-Dec', '16-Mar', '19-Jun', '22-Jun', '19-Jul', '21-Feb',\n",
       "       'Immediate Possession', '19-May', '17-Nov', '20-Oct', '20-Jun',\n",
       "       '19-Feb', '21-Oct', '21-Jan', '17-Mar', '17-Apr', '22-May',\n",
       "       '19-Oct', '21-Jul', '21-Nov', '21-Mar', '16-Dec', '22-Mar',\n",
       "       '20-Jan', '21-Sep', '21-Aug', '14-Nov', '19-Nov', '15-Nov',\n",
       "       '16-Jul', '15-Jun', '17-Feb', '20-Nov', '20-Jul', '16-Sep',\n",
       "       '15-Oct', '15-Dec', '16-Oct', '22-Nov', '15-Aug', '17-Jan',\n",
       "       '16-Nov', '20-Apr', '16-Jan', '14-Jul'], dtype=object)"
      ]
     },
     "execution_count": 24,
     "metadata": {},
     "output_type": "execute_result"
    }
   ],
   "source": [
    "df['availability'].unique()               #Change this to immdiately available or not "
   ]
  },
  {
   "cell_type": "code",
   "execution_count": 25,
   "id": "f91e3b01",
   "metadata": {},
   "outputs": [
    {
     "data": {
      "text/plain": [
       "location\n",
       "Whitefield                        523\n",
       "Sarjapur  Road                    379\n",
       "Electronic City                   287\n",
       "Kanakpura Road                    249\n",
       "Thanisandra                       229\n",
       "                                 ... \n",
       "Bapuji Layout                       1\n",
       "1st Stage Radha Krishna Layout      1\n",
       "BEML Layout 5th stage               1\n",
       "singapura paradise                  1\n",
       "Abshot Layout                       1\n",
       "Name: count, Length: 1305, dtype: int64"
      ]
     },
     "execution_count": 25,
     "metadata": {},
     "output_type": "execute_result"
    }
   ],
   "source": [
    "df['location'].value_counts()                     #lets drop this column but it is an important parameter"
   ]
  },
  {
   "cell_type": "code",
   "execution_count": 26,
   "id": "8fcd33dd",
   "metadata": {},
   "outputs": [
    {
     "data": {
      "text/plain": [
       "array(['2 BHK', '4 Bedroom', '3 BHK', '4 BHK', '6 Bedroom', '3 Bedroom',\n",
       "       '1 BHK', '1 RK', '1 Bedroom', '8 Bedroom', '2 Bedroom',\n",
       "       '7 Bedroom', '5 BHK', '7 BHK', '6 BHK', '5 Bedroom', '11 BHK',\n",
       "       '9 BHK', nan, '9 Bedroom', '27 BHK', '10 Bedroom', '11 Bedroom',\n",
       "       '10 BHK', '19 BHK', '16 BHK', '43 Bedroom', '14 BHK', '8 BHK',\n",
       "       '12 Bedroom', '13 BHK', '18 Bedroom'], dtype=object)"
      ]
     },
     "execution_count": 26,
     "metadata": {},
     "output_type": "execute_result"
    }
   ],
   "source": [
    "df['size'].unique()                            #change this to bedroom column and save as a numerical value"
   ]
  },
  {
   "cell_type": "code",
   "execution_count": 27,
   "id": "eb567f1f",
   "metadata": {},
   "outputs": [],
   "source": [
    "# nearly 16 values are missing in size so we will drop the missing rows"
   ]
  },
  {
   "cell_type": "code",
   "execution_count": 28,
   "id": "8600fb09",
   "metadata": {},
   "outputs": [
    {
     "data": {
      "text/plain": [
       "society\n",
       "GrrvaGr    68\n",
       "PrarePa    63\n",
       "Sryalan    56\n",
       "Prtates    54\n",
       "GMown E    52\n",
       "Bhmesy     51\n",
       "Prarkun    48\n",
       "IBityin    45\n",
       "PrityTr    42\n",
       "Prityel    41\n",
       "Prtanha    39\n",
       "Soresea    38\n",
       "SNity S    38\n",
       "Dhalsh     37\n",
       "Adeatlm    37\n",
       "Soitya     36\n",
       "Bhe 2ko    34\n",
       "SNnia E    33\n",
       "Rosha I    28\n",
       "RothaVa    27\n",
       "PuandHi    27\n",
       "PhestOn    26\n",
       "MenueNo    26\n",
       "GoAirej    26\n",
       "Puachal    25\n",
       "Prncyrn    25\n",
       "JRrnauv    24\n",
       "Dieldli    23\n",
       "Prlla C    23\n",
       "Shitt S    23\n",
       "Itelaa     23\n",
       "ViistLa    23\n",
       "DLhtsnd    23\n",
       "PualeSk    23\n",
       "Soazak     22\n",
       "Soiewre    22\n",
       "Brnia G    21\n",
       "Brway G    21\n",
       "DLhtsan    20\n",
       "Raard B    20\n",
       "DLhtsen    20\n",
       "Sodgere    19\n",
       "SunceEs    19\n",
       "Shthi S    19\n",
       "SoechHa    19\n",
       "AsastDe    18\n",
       "Prersis    18\n",
       "Eladero    17\n",
       "Brica E    17\n",
       "PueraRi    17\n",
       "Name: count, dtype: int64"
      ]
     },
     "execution_count": 28,
     "metadata": {},
     "output_type": "execute_result"
    }
   ],
   "source": [
    "df['society'].value_counts().nlargest(50)     #if society name is present assign 1 and 0 if the name is missing"
   ]
  },
  {
   "cell_type": "code",
   "execution_count": 29,
   "id": "e3723150",
   "metadata": {},
   "outputs": [
    {
     "data": {
      "text/plain": [
       "bath\n",
       "2.0     6546\n",
       "3.0     3180\n",
       "4.0     1198\n",
       "1.0      762\n",
       "5.0      520\n",
       "6.0      271\n",
       "7.0      102\n",
       "8.0       64\n",
       "9.0       42\n",
       "10.0      13\n",
       "12.0       7\n",
       "13.0       3\n",
       "11.0       3\n",
       "16.0       2\n",
       "27.0       1\n",
       "40.0       1\n",
       "15.0       1\n",
       "14.0       1\n",
       "18.0       1\n",
       "Name: count, dtype: int64"
      ]
     },
     "execution_count": 29,
     "metadata": {},
     "output_type": "execute_result"
    }
   ],
   "source": [
    "df['bath'].value_counts()                # impute missing values with mean"
   ]
  },
  {
   "cell_type": "code",
   "execution_count": 30,
   "id": "21b18320",
   "metadata": {},
   "outputs": [
    {
     "data": {
      "text/plain": [
       "balcony\n",
       "2.0    4846\n",
       "1.0    4700\n",
       "3.0    1630\n",
       "0.0    1010\n",
       "Name: count, dtype: int64"
      ]
     },
     "execution_count": 30,
     "metadata": {},
     "output_type": "execute_result"
    }
   ],
   "source": [
    "df['balcony'].value_counts()               #impute with mean, cant drop this as >20 %"
   ]
  },
  {
   "cell_type": "markdown",
   "id": "6a843a2a",
   "metadata": {},
   "source": [
    "## steps for processing:\n",
    "1. do all other preprocessing first \n",
    "2. apply OHE where needed"
   ]
  },
  {
   "cell_type": "code",
   "execution_count": 31,
   "id": "c7b42a7a",
   "metadata": {},
   "outputs": [],
   "source": [
    "# df[(df['availability']=='Ready To Move')|(df['availability']=='Immediate Possession')]['availability']='20-Jan'"
   ]
  },
  {
   "cell_type": "code",
   "execution_count": 32,
   "id": "b61507a5",
   "metadata": {},
   "outputs": [],
   "source": [
    "df['Ready to move']=df['availability'].apply(lambda x:1 if (x=='Ready To Move' or x=='Immediate Possession') else 0)"
   ]
  },
  {
   "cell_type": "code",
   "execution_count": 33,
   "id": "86d966c6",
   "metadata": {},
   "outputs": [
    {
     "data": {
      "text/plain": [
       "array([0, 1], dtype=int64)"
      ]
     },
     "execution_count": 33,
     "metadata": {},
     "output_type": "execute_result"
    }
   ],
   "source": [
    "df['Ready to move'].unique()"
   ]
  },
  {
   "cell_type": "code",
   "execution_count": 34,
   "id": "22bf07ae",
   "metadata": {},
   "outputs": [],
   "source": [
    "# df['availability']=df['availability'].apply(lambda x:'20-Jan' if (x=='Immediate Possession')|(x=='Ready To Move') else x)"
   ]
  },
  {
   "cell_type": "code",
   "execution_count": 35,
   "id": "afabdad4",
   "metadata": {},
   "outputs": [
    {
     "data": {
      "text/html": [
       "<div>\n",
       "<style scoped>\n",
       "    .dataframe tbody tr th:only-of-type {\n",
       "        vertical-align: middle;\n",
       "    }\n",
       "\n",
       "    .dataframe tbody tr th {\n",
       "        vertical-align: top;\n",
       "    }\n",
       "\n",
       "    .dataframe thead th {\n",
       "        text-align: right;\n",
       "    }\n",
       "</style>\n",
       "<table border=\"1\" class=\"dataframe\">\n",
       "  <thead>\n",
       "    <tr style=\"text-align: right;\">\n",
       "      <th></th>\n",
       "      <th>area_type</th>\n",
       "      <th>availability</th>\n",
       "      <th>location</th>\n",
       "      <th>size</th>\n",
       "      <th>society</th>\n",
       "      <th>total_sqft</th>\n",
       "      <th>bath</th>\n",
       "      <th>balcony</th>\n",
       "      <th>price</th>\n",
       "      <th>Ready to move</th>\n",
       "    </tr>\n",
       "  </thead>\n",
       "  <tbody>\n",
       "    <tr>\n",
       "      <th>0</th>\n",
       "      <td>Super built-up  Area</td>\n",
       "      <td>19-Dec</td>\n",
       "      <td>Electronic City Phase II</td>\n",
       "      <td>2 BHK</td>\n",
       "      <td>Coomee</td>\n",
       "      <td>1056</td>\n",
       "      <td>2.0</td>\n",
       "      <td>1.0</td>\n",
       "      <td>39.07</td>\n",
       "      <td>0</td>\n",
       "    </tr>\n",
       "    <tr>\n",
       "      <th>1</th>\n",
       "      <td>Plot  Area</td>\n",
       "      <td>Ready To Move</td>\n",
       "      <td>Chikka Tirupathi</td>\n",
       "      <td>4 Bedroom</td>\n",
       "      <td>Theanmp</td>\n",
       "      <td>2600</td>\n",
       "      <td>5.0</td>\n",
       "      <td>3.0</td>\n",
       "      <td>120.00</td>\n",
       "      <td>1</td>\n",
       "    </tr>\n",
       "    <tr>\n",
       "      <th>2</th>\n",
       "      <td>Built-up  Area</td>\n",
       "      <td>Ready To Move</td>\n",
       "      <td>Uttarahalli</td>\n",
       "      <td>3 BHK</td>\n",
       "      <td>NaN</td>\n",
       "      <td>1440</td>\n",
       "      <td>2.0</td>\n",
       "      <td>3.0</td>\n",
       "      <td>62.00</td>\n",
       "      <td>1</td>\n",
       "    </tr>\n",
       "    <tr>\n",
       "      <th>3</th>\n",
       "      <td>Super built-up  Area</td>\n",
       "      <td>Ready To Move</td>\n",
       "      <td>Lingadheeranahalli</td>\n",
       "      <td>3 BHK</td>\n",
       "      <td>Soiewre</td>\n",
       "      <td>1521</td>\n",
       "      <td>3.0</td>\n",
       "      <td>1.0</td>\n",
       "      <td>95.00</td>\n",
       "      <td>1</td>\n",
       "    </tr>\n",
       "    <tr>\n",
       "      <th>4</th>\n",
       "      <td>Super built-up  Area</td>\n",
       "      <td>Ready To Move</td>\n",
       "      <td>Kothanur</td>\n",
       "      <td>2 BHK</td>\n",
       "      <td>NaN</td>\n",
       "      <td>1200</td>\n",
       "      <td>2.0</td>\n",
       "      <td>1.0</td>\n",
       "      <td>51.00</td>\n",
       "      <td>1</td>\n",
       "    </tr>\n",
       "    <tr>\n",
       "      <th>5</th>\n",
       "      <td>Super built-up  Area</td>\n",
       "      <td>Ready To Move</td>\n",
       "      <td>Whitefield</td>\n",
       "      <td>2 BHK</td>\n",
       "      <td>DuenaTa</td>\n",
       "      <td>1170</td>\n",
       "      <td>2.0</td>\n",
       "      <td>1.0</td>\n",
       "      <td>38.00</td>\n",
       "      <td>1</td>\n",
       "    </tr>\n",
       "    <tr>\n",
       "      <th>6</th>\n",
       "      <td>Super built-up  Area</td>\n",
       "      <td>18-May</td>\n",
       "      <td>Old Airport Road</td>\n",
       "      <td>4 BHK</td>\n",
       "      <td>Jaades</td>\n",
       "      <td>2732</td>\n",
       "      <td>4.0</td>\n",
       "      <td>NaN</td>\n",
       "      <td>204.00</td>\n",
       "      <td>0</td>\n",
       "    </tr>\n",
       "    <tr>\n",
       "      <th>7</th>\n",
       "      <td>Super built-up  Area</td>\n",
       "      <td>Ready To Move</td>\n",
       "      <td>Rajaji Nagar</td>\n",
       "      <td>4 BHK</td>\n",
       "      <td>Brway G</td>\n",
       "      <td>3300</td>\n",
       "      <td>4.0</td>\n",
       "      <td>NaN</td>\n",
       "      <td>600.00</td>\n",
       "      <td>1</td>\n",
       "    </tr>\n",
       "    <tr>\n",
       "      <th>8</th>\n",
       "      <td>Super built-up  Area</td>\n",
       "      <td>Ready To Move</td>\n",
       "      <td>Marathahalli</td>\n",
       "      <td>3 BHK</td>\n",
       "      <td>NaN</td>\n",
       "      <td>1310</td>\n",
       "      <td>3.0</td>\n",
       "      <td>1.0</td>\n",
       "      <td>63.25</td>\n",
       "      <td>1</td>\n",
       "    </tr>\n",
       "    <tr>\n",
       "      <th>9</th>\n",
       "      <td>Plot  Area</td>\n",
       "      <td>Ready To Move</td>\n",
       "      <td>Gandhi Bazar</td>\n",
       "      <td>6 Bedroom</td>\n",
       "      <td>NaN</td>\n",
       "      <td>1020</td>\n",
       "      <td>6.0</td>\n",
       "      <td>NaN</td>\n",
       "      <td>370.00</td>\n",
       "      <td>1</td>\n",
       "    </tr>\n",
       "    <tr>\n",
       "      <th>10</th>\n",
       "      <td>Super built-up  Area</td>\n",
       "      <td>18-Feb</td>\n",
       "      <td>Whitefield</td>\n",
       "      <td>3 BHK</td>\n",
       "      <td>NaN</td>\n",
       "      <td>1800</td>\n",
       "      <td>2.0</td>\n",
       "      <td>2.0</td>\n",
       "      <td>70.00</td>\n",
       "      <td>0</td>\n",
       "    </tr>\n",
       "    <tr>\n",
       "      <th>11</th>\n",
       "      <td>Plot  Area</td>\n",
       "      <td>Ready To Move</td>\n",
       "      <td>Whitefield</td>\n",
       "      <td>4 Bedroom</td>\n",
       "      <td>Prrry M</td>\n",
       "      <td>2785</td>\n",
       "      <td>5.0</td>\n",
       "      <td>3.0</td>\n",
       "      <td>295.00</td>\n",
       "      <td>1</td>\n",
       "    </tr>\n",
       "    <tr>\n",
       "      <th>12</th>\n",
       "      <td>Super built-up  Area</td>\n",
       "      <td>Ready To Move</td>\n",
       "      <td>7th Phase JP Nagar</td>\n",
       "      <td>2 BHK</td>\n",
       "      <td>Shncyes</td>\n",
       "      <td>1000</td>\n",
       "      <td>2.0</td>\n",
       "      <td>1.0</td>\n",
       "      <td>38.00</td>\n",
       "      <td>1</td>\n",
       "    </tr>\n",
       "    <tr>\n",
       "      <th>13</th>\n",
       "      <td>Built-up  Area</td>\n",
       "      <td>Ready To Move</td>\n",
       "      <td>Gottigere</td>\n",
       "      <td>2 BHK</td>\n",
       "      <td>NaN</td>\n",
       "      <td>1100</td>\n",
       "      <td>2.0</td>\n",
       "      <td>2.0</td>\n",
       "      <td>40.00</td>\n",
       "      <td>1</td>\n",
       "    </tr>\n",
       "    <tr>\n",
       "      <th>14</th>\n",
       "      <td>Plot  Area</td>\n",
       "      <td>Ready To Move</td>\n",
       "      <td>Sarjapur</td>\n",
       "      <td>3 Bedroom</td>\n",
       "      <td>Skityer</td>\n",
       "      <td>2250</td>\n",
       "      <td>3.0</td>\n",
       "      <td>2.0</td>\n",
       "      <td>148.00</td>\n",
       "      <td>1</td>\n",
       "    </tr>\n",
       "  </tbody>\n",
       "</table>\n",
       "</div>"
      ],
      "text/plain": [
       "               area_type   availability  ...   price Ready to move\n",
       "0   Super built-up  Area         19-Dec  ...   39.07             0\n",
       "1             Plot  Area  Ready To Move  ...  120.00             1\n",
       "2         Built-up  Area  Ready To Move  ...   62.00             1\n",
       "3   Super built-up  Area  Ready To Move  ...   95.00             1\n",
       "4   Super built-up  Area  Ready To Move  ...   51.00             1\n",
       "5   Super built-up  Area  Ready To Move  ...   38.00             1\n",
       "6   Super built-up  Area         18-May  ...  204.00             0\n",
       "7   Super built-up  Area  Ready To Move  ...  600.00             1\n",
       "8   Super built-up  Area  Ready To Move  ...   63.25             1\n",
       "9             Plot  Area  Ready To Move  ...  370.00             1\n",
       "10  Super built-up  Area         18-Feb  ...   70.00             0\n",
       "11            Plot  Area  Ready To Move  ...  295.00             1\n",
       "12  Super built-up  Area  Ready To Move  ...   38.00             1\n",
       "13        Built-up  Area  Ready To Move  ...   40.00             1\n",
       "14            Plot  Area  Ready To Move  ...  148.00             1\n",
       "\n",
       "[15 rows x 10 columns]"
      ]
     },
     "execution_count": 35,
     "metadata": {},
     "output_type": "execute_result"
    }
   ],
   "source": [
    "df.head(15)"
   ]
  },
  {
   "cell_type": "code",
   "execution_count": 36,
   "id": "4128ac16",
   "metadata": {},
   "outputs": [],
   "source": [
    "df.drop(columns='availability',inplace=True)"
   ]
  },
  {
   "cell_type": "code",
   "execution_count": 37,
   "id": "90b0ad32",
   "metadata": {},
   "outputs": [],
   "source": [
    "# from datatime import date\n",
    "\n",
    "# today=date.today()\n",
    "# print(\"Current month:\", today.month)"
   ]
  },
  {
   "cell_type": "code",
   "execution_count": 38,
   "id": "113c6d67",
   "metadata": {},
   "outputs": [
    {
     "data": {
      "text/html": [
       "<div>\n",
       "<style scoped>\n",
       "    .dataframe tbody tr th:only-of-type {\n",
       "        vertical-align: middle;\n",
       "    }\n",
       "\n",
       "    .dataframe tbody tr th {\n",
       "        vertical-align: top;\n",
       "    }\n",
       "\n",
       "    .dataframe thead th {\n",
       "        text-align: right;\n",
       "    }\n",
       "</style>\n",
       "<table border=\"1\" class=\"dataframe\">\n",
       "  <thead>\n",
       "    <tr style=\"text-align: right;\">\n",
       "      <th></th>\n",
       "      <th>area_type</th>\n",
       "      <th>location</th>\n",
       "      <th>size</th>\n",
       "      <th>society</th>\n",
       "      <th>total_sqft</th>\n",
       "      <th>bath</th>\n",
       "      <th>balcony</th>\n",
       "      <th>price</th>\n",
       "      <th>Ready to move</th>\n",
       "    </tr>\n",
       "  </thead>\n",
       "  <tbody>\n",
       "    <tr>\n",
       "      <th>0</th>\n",
       "      <td>Super built-up  Area</td>\n",
       "      <td>Electronic City Phase II</td>\n",
       "      <td>2 BHK</td>\n",
       "      <td>Coomee</td>\n",
       "      <td>1056</td>\n",
       "      <td>2.0</td>\n",
       "      <td>1.0</td>\n",
       "      <td>39.07</td>\n",
       "      <td>0</td>\n",
       "    </tr>\n",
       "    <tr>\n",
       "      <th>1</th>\n",
       "      <td>Plot  Area</td>\n",
       "      <td>Chikka Tirupathi</td>\n",
       "      <td>4 Bedroom</td>\n",
       "      <td>Theanmp</td>\n",
       "      <td>2600</td>\n",
       "      <td>5.0</td>\n",
       "      <td>3.0</td>\n",
       "      <td>120.00</td>\n",
       "      <td>1</td>\n",
       "    </tr>\n",
       "    <tr>\n",
       "      <th>2</th>\n",
       "      <td>Built-up  Area</td>\n",
       "      <td>Uttarahalli</td>\n",
       "      <td>3 BHK</td>\n",
       "      <td>NaN</td>\n",
       "      <td>1440</td>\n",
       "      <td>2.0</td>\n",
       "      <td>3.0</td>\n",
       "      <td>62.00</td>\n",
       "      <td>1</td>\n",
       "    </tr>\n",
       "    <tr>\n",
       "      <th>3</th>\n",
       "      <td>Super built-up  Area</td>\n",
       "      <td>Lingadheeranahalli</td>\n",
       "      <td>3 BHK</td>\n",
       "      <td>Soiewre</td>\n",
       "      <td>1521</td>\n",
       "      <td>3.0</td>\n",
       "      <td>1.0</td>\n",
       "      <td>95.00</td>\n",
       "      <td>1</td>\n",
       "    </tr>\n",
       "    <tr>\n",
       "      <th>4</th>\n",
       "      <td>Super built-up  Area</td>\n",
       "      <td>Kothanur</td>\n",
       "      <td>2 BHK</td>\n",
       "      <td>NaN</td>\n",
       "      <td>1200</td>\n",
       "      <td>2.0</td>\n",
       "      <td>1.0</td>\n",
       "      <td>51.00</td>\n",
       "      <td>1</td>\n",
       "    </tr>\n",
       "  </tbody>\n",
       "</table>\n",
       "</div>"
      ],
      "text/plain": [
       "              area_type                  location  ...   price Ready to move\n",
       "0  Super built-up  Area  Electronic City Phase II  ...   39.07             0\n",
       "1            Plot  Area          Chikka Tirupathi  ...  120.00             1\n",
       "2        Built-up  Area               Uttarahalli  ...   62.00             1\n",
       "3  Super built-up  Area        Lingadheeranahalli  ...   95.00             1\n",
       "4  Super built-up  Area                  Kothanur  ...   51.00             1\n",
       "\n",
       "[5 rows x 9 columns]"
      ]
     },
     "execution_count": 38,
     "metadata": {},
     "output_type": "execute_result"
    }
   ],
   "source": [
    "df.head()"
   ]
  },
  {
   "cell_type": "code",
   "execution_count": 39,
   "id": "c8a20f78",
   "metadata": {},
   "outputs": [],
   "source": [
    "df.drop(columns='location',inplace=True)"
   ]
  },
  {
   "cell_type": "code",
   "execution_count": 40,
   "id": "311a9473",
   "metadata": {},
   "outputs": [
    {
     "data": {
      "text/html": [
       "<div>\n",
       "<style scoped>\n",
       "    .dataframe tbody tr th:only-of-type {\n",
       "        vertical-align: middle;\n",
       "    }\n",
       "\n",
       "    .dataframe tbody tr th {\n",
       "        vertical-align: top;\n",
       "    }\n",
       "\n",
       "    .dataframe thead th {\n",
       "        text-align: right;\n",
       "    }\n",
       "</style>\n",
       "<table border=\"1\" class=\"dataframe\">\n",
       "  <thead>\n",
       "    <tr style=\"text-align: right;\">\n",
       "      <th></th>\n",
       "      <th>area_type</th>\n",
       "      <th>size</th>\n",
       "      <th>society</th>\n",
       "      <th>total_sqft</th>\n",
       "      <th>bath</th>\n",
       "      <th>balcony</th>\n",
       "      <th>price</th>\n",
       "      <th>Ready to move</th>\n",
       "    </tr>\n",
       "  </thead>\n",
       "  <tbody>\n",
       "    <tr>\n",
       "      <th>0</th>\n",
       "      <td>Super built-up  Area</td>\n",
       "      <td>2 BHK</td>\n",
       "      <td>Coomee</td>\n",
       "      <td>1056</td>\n",
       "      <td>2.0</td>\n",
       "      <td>1.0</td>\n",
       "      <td>39.07</td>\n",
       "      <td>0</td>\n",
       "    </tr>\n",
       "    <tr>\n",
       "      <th>1</th>\n",
       "      <td>Plot  Area</td>\n",
       "      <td>4 Bedroom</td>\n",
       "      <td>Theanmp</td>\n",
       "      <td>2600</td>\n",
       "      <td>5.0</td>\n",
       "      <td>3.0</td>\n",
       "      <td>120.00</td>\n",
       "      <td>1</td>\n",
       "    </tr>\n",
       "    <tr>\n",
       "      <th>2</th>\n",
       "      <td>Built-up  Area</td>\n",
       "      <td>3 BHK</td>\n",
       "      <td>NaN</td>\n",
       "      <td>1440</td>\n",
       "      <td>2.0</td>\n",
       "      <td>3.0</td>\n",
       "      <td>62.00</td>\n",
       "      <td>1</td>\n",
       "    </tr>\n",
       "    <tr>\n",
       "      <th>3</th>\n",
       "      <td>Super built-up  Area</td>\n",
       "      <td>3 BHK</td>\n",
       "      <td>Soiewre</td>\n",
       "      <td>1521</td>\n",
       "      <td>3.0</td>\n",
       "      <td>1.0</td>\n",
       "      <td>95.00</td>\n",
       "      <td>1</td>\n",
       "    </tr>\n",
       "    <tr>\n",
       "      <th>4</th>\n",
       "      <td>Super built-up  Area</td>\n",
       "      <td>2 BHK</td>\n",
       "      <td>NaN</td>\n",
       "      <td>1200</td>\n",
       "      <td>2.0</td>\n",
       "      <td>1.0</td>\n",
       "      <td>51.00</td>\n",
       "      <td>1</td>\n",
       "    </tr>\n",
       "  </tbody>\n",
       "</table>\n",
       "</div>"
      ],
      "text/plain": [
       "              area_type       size  society  ... balcony   price  Ready to move\n",
       "0  Super built-up  Area      2 BHK  Coomee   ...     1.0   39.07              0\n",
       "1            Plot  Area  4 Bedroom  Theanmp  ...     3.0  120.00              1\n",
       "2        Built-up  Area      3 BHK      NaN  ...     3.0   62.00              1\n",
       "3  Super built-up  Area      3 BHK  Soiewre  ...     1.0   95.00              1\n",
       "4  Super built-up  Area      2 BHK      NaN  ...     1.0   51.00              1\n",
       "\n",
       "[5 rows x 8 columns]"
      ]
     },
     "execution_count": 40,
     "metadata": {},
     "output_type": "execute_result"
    }
   ],
   "source": [
    "df.head()"
   ]
  },
  {
   "cell_type": "code",
   "execution_count": 41,
   "id": "d75ae055",
   "metadata": {
    "scrolled": true
   },
   "outputs": [],
   "source": [
    "df.dropna(subset=[\"size\"], inplace=True)"
   ]
  },
  {
   "cell_type": "code",
   "execution_count": 42,
   "id": "d9792835",
   "metadata": {},
   "outputs": [
    {
     "data": {
      "text/plain": [
       "0"
      ]
     },
     "execution_count": 42,
     "metadata": {},
     "output_type": "execute_result"
    }
   ],
   "source": [
    "df['size'].isna().sum()"
   ]
  },
  {
   "cell_type": "code",
   "execution_count": 43,
   "id": "5c449af0",
   "metadata": {},
   "outputs": [],
   "source": [
    "df['size']=df['size'].apply(lambda x:int(x.split(\" \")[0]))    #initially it waws not working as there were some NAN values"
   ]
  },
  {
   "cell_type": "code",
   "execution_count": 44,
   "id": "40c9c1af",
   "metadata": {},
   "outputs": [
    {
     "data": {
      "text/plain": [
       "array([ 2,  4,  3,  6,  1,  8,  7,  5, 11,  9, 27, 10, 19, 16, 43, 14, 12,\n",
       "       13, 18], dtype=int64)"
      ]
     },
     "execution_count": 44,
     "metadata": {},
     "output_type": "execute_result"
    }
   ],
   "source": [
    "df['size'].unique()"
   ]
  },
  {
   "cell_type": "code",
   "execution_count": 45,
   "id": "aa5d8a6d",
   "metadata": {},
   "outputs": [],
   "source": [
    "# int(df['size'][0].split(\" \")[0])"
   ]
  },
  {
   "cell_type": "code",
   "execution_count": 46,
   "id": "a353c4ed",
   "metadata": {},
   "outputs": [
    {
     "data": {
      "text/plain": [
       "numpy.int64"
      ]
     },
     "execution_count": 46,
     "metadata": {},
     "output_type": "execute_result"
    }
   ],
   "source": [
    "type(df['size'][10])"
   ]
  },
  {
   "cell_type": "code",
   "execution_count": 47,
   "id": "c2bdcd16",
   "metadata": {},
   "outputs": [
    {
     "name": "stdout",
     "output_type": "stream",
     "text": [
      "['Coomee ' 'Theanmp' nan ... 'SJovest' 'ThhtsV ' 'RSntsAp']\n"
     ]
    }
   ],
   "source": [
    "unique_vals=df['society'].unique()\n",
    "print(unique_vals)"
   ]
  },
  {
   "cell_type": "code",
   "execution_count": 48,
   "id": "4bc328ae",
   "metadata": {},
   "outputs": [
    {
     "name": "stdout",
     "output_type": "stream",
     "text": [
      "['Coomee ' 'Theanmp' nan 'Soiewre' 'DuenaTa' 'Jaades ' 'Brway G' 'Prrry M'\n",
      " 'Shncyes' 'Skityer' 'PrntaEn' 'Prityel' 'GrrvaGr' 'PeBayle' 'She 2rk'\n",
      " 'Soitya ' 'Bhe 2ko' 'Itelaa ' 'ViistLa' 'KBityo ' 'LedorSa' 'Mahosya'\n",
      " 'Kantsce' 'PrarePa' 'Dieldli' 'Gentson' 'Soini T' 'Ceove G' 'Soazak '\n",
      " 'LancyRe' 'Goted U' 'Bhncyis' 'Rosha I' 'Suent V' 'RothaVa' 'NCowsar'\n",
      " 'Dhalsh ' 'BrereAt' 'Laavevi' 'Chranya' 'HioraTr' 'BMineis' 'Pruthg '\n",
      " 'Sonosty' 'SNnia E' 'Anavi B' 'Viony H' 'AdentEl' 'Gollela' 'Niareum'\n",
      " 'SJlynro' 'Tavenew' 'Srire S' 'Saenti ' 'Bhmesy ' 'Goardth' 'IBityin'\n",
      " 'KHityry' 'BDensar' 'Makeser' 'Maest N' 'Oznuean' 'Reeroce' 'Sonviik'\n",
      " 'DSgmax ' 'Cetattu' 'Vaens G' 'Moity S' 'HiahsLa' 'SNontle' 'Sabixtt'\n",
      " 'Sragei ' 'SyidaCr' 'Jahts H' 'Inensba' 'Srier P' 'Wiowsri' 'Derdsig'\n",
      " 'Vaarech' 'TiaksAa' 'HMwerCo' 'ViensRK' 'Somumys' 'HoiewLa' 'Dwity T'\n",
      " 'Brama P' 'VBownre' 'Betatsi' 'Prcan P' 'Sryalan' 'G conTh' 'SStusan'\n",
      " 'ETens G' 'Hohnari' 'Kinuerg' 'Naods W' 'GMown E' 'Sancyra' 'Jae 1hu'\n",
      " 'Prarkun' 'Srshq T' 'Utntspa' 'Aniona ' 'Goateds' 'Saahaat' 'MCvarar'\n",
      " 'VRave E' 'MaidoPl' 'Aiitya ' 'PuziaVe' 'NRosete' 'Sancya ' 'MSingco'\n",
      " 'Pyikad ' 'CaIRSCr' 'Prcesvy' 'Emstael' 'SNdri N' 'HodhiSa' 'Syonyph'\n",
      " 'Itvir M' 'Klark L' 'Piityra' 'AsastDe' 'Jurdsig' 'MacleK ' 'Brnia G'\n",
      " 'PrityTr' 'AlEcone' 'Laowsba' 'Saave R' 'Anave S' 'Saityat' 'SunceEs'\n",
      " 'SJcerpe' 'Supams ' 'CoapeSo' 'Bisic C' 'Sreat R' 'Inntsa ' 'BriumMi'\n",
      " 'Calyxy ' 'Thessrm' 'JJortom' 'Usquaya' 'Natic T' 'DSapeSk' 'Jahtsa '\n",
      " 'Prillot' 'Sodgere' 'SoitaCa' 'Soestin' 'Alestrb' 'DLhtsen' 'Mauner '\n",
      " 'GaicaVe' 'Saesttt' 'Nae 2El' 'Bhinglv' 'GolusLi' 'Coush W' 'Prersis'\n",
      " 'NaensGa' 'Arzzo P' 'SMikaay' 'Prave E' 'Ahriaup' 'Priewhi' 'Shodsth'\n",
      " 'Swadeh ' 'Soran U' 'Puestig' 'Prntsrt' 'Maerar ' 'Vaesh T' 'MaisePa'\n",
      " 'JRrnauv' 'Gotis A' 'Puodse ' 'Mileeou' 'PhestOn' 'NRowse ' 'Abncy R'\n",
      " 'Baowsig' 'Itala A' 'HMinebo' 'K borja' 'Oreldhi' 'Sungspr' 'Prtanha'\n",
      " 'Clntsrt' 'PuamaPa' 'Brngsal' 'SSestth' 'Vancy R' 'PrhyaK ' 'Miwel M'\n",
      " 'SrEndPo' 'Puens G' 'SagasSa' 'SNbay G' 'Soianal' 'Vrenty ' 'AriosHe'\n",
      " 'SLureSi' 'Siissi ' 'Mangsr ' 'HovasTe' 'Exncene' 'Shyas S' 'NadelCi'\n",
      " 'Sothadr' 'Puarent' 'MaionPa' 'Maian M' 'ShstaAl' 'Shard T' 'Neagar '\n",
      " 'Eladero' 'Lancyey' 'Suiseit' 'Aroomba' 'Courf T' 'VMowsea' 'S onsMa'\n",
      " 'Tuentpa' 'Tovesee' 'Vailsaf' 'BrlisCo' 'Haestt ' 'Hoxiaa ' 'VBvenal'\n",
      " 'Hoeatan' 'Asity S' 'DSoodil' 'SJarkte' 'Dhgraas' 'HiqueMa' 'SPontna'\n",
      " 'Prionad' 'PuendWe' 'Danna S' 'Bltonin' 'MSanaer' 'Plowsri' 'Ocavees'\n",
      " 'SoystAm' 'Prlla C' 'SMaxyay' 'SosicCl' 'Bancyri' 'PualeSk' 'ElavuHo'\n",
      " 'Gontyol' 'DSutyng' 'RKntsrt' 'Vantspa' 'Prowsi ' 'SMuilan' 'Proodt '\n",
      " 'Sryamar' 'Prldsri' 'LiaveEn' 'Bemesrm' 'Vrensn ' 'VDdonel' 'Brica E'\n",
      " 'GoAirej' 'Prenty ' 'Shinei ' 'Apows M' 'SVineun' 'Caycend' 'DSvvyx '\n",
      " 'Prrtht ' 'Brareio' 'OlarkLa' 'SuMTBPr' 'Lecco C' 'Jahidva' 'PuoodSk'\n",
      " 'Arano M' 'Amngsag' 'SNity S' 'Kacesh ' 'SrisePo' 'Bilya A' 'Amsomun'\n",
      " 'Shdhia ' 'Foconna' 'Aincy R' 'Shxorm ' 'Brium C' 'Sadhii ' 'Sahanra'\n",
      " 'Jae 2hu' 'Icncy R' 'Hiatei ' 'Puarero' 'PuineSu' 'Grare S' 'PrOakSi'\n",
      " 'Supleon' 'LGestbo' 'Pridsi ' 'Aahts H' 'Kolisl ' 'Toindls' 'Puceswn'\n",
      " 'i1odsne' 'Ansna K' 'ARnamru' 'Veyalin' 'SomonCi' 'Daill S' 'DSureSi'\n",
      " 'MancyRe' 'Prasa W' 'Kaantth' 'Drente ' 'SGandea' 'Eline P' 'GoityEt'\n",
      " 'SosonGa' 'NSezeBr' 'Tahtsla' 'Sronda ' 'Prntsax' 'PueraRi' 'Chnts A'\n",
      " 'GaityEt' 'ShshaSa' 'Taonte ' 'Ahownve' 'Cevely ' 'Vaodspe' 'DSldsen'\n",
      " 'NaonySy' 'Rarthne' 'Malex C' 'Pehtsa ' 'Toainnt' 'Edreelm' 'RMcesa '\n",
      " 'Krreera' 'PaantPl' 'Golmsoy' 'Sohea A' 'MSvelek' 'SLtias ' 'Hentye '\n",
      " 'Prony S' 'PaisePa' 'Arcia S' 'TealeRo' 'Umods W' 'SSarlPe' 'MauilTr'\n",
      " 'Soeurri' 'Daives ' 'PNncysi' 'Socon Z' 'Krite D' 'Srisei ' 'Soestrn'\n",
      " 'Coa 3t ' 'MB-laan' 'BrontLa' 'JahanSa' 'DNlleks' 'Alncy R' 'RMaanSa'\n",
      " 'Prtates' 'Soiniy ' 'MenueNo' 'VMianri' 'GKityel' 'Jaise P' 'Siayayo'\n",
      " 'Trnce A' 'PuilaMi' 'Prodsth' 'Brens7 ' 'PaontWa' 'HMRWAyo' 'UKkente'\n",
      " 'Icingpy' 'SLireap' 'VaitySe' 'Sklls C' 'Vaanda ' 'Sutte C' 'DSnjh S'\n",
      " 'VSomepi' 'Krryll ' 'Palleon' 'Soite E' 'Zostaa ' 'Prdowth' 'BMityre'\n",
      " 'HMonymp' 'SuVue S' 'KHatsFl' 'Veodsar' 'OsrdsOr' 'Hirio L' 'Leino C'\n",
      " 'Detat H' 'Shana S' 'Disical' 'SLaceda' 'Brsiaen' 'Ratlet ' 'PuandHi'\n",
      " 'SrncyRe' 'Bintsee' 'Mapleer' 'Diacee ' 'Prowshi' 'Shitt S' 'DSagax '\n",
      " 'Prs 2hi' 'LVniaar' 'Sancy L' 'Sueneu ' 'Laihai ' 'Adeatlm' 'Brersld'\n",
      " 'Leton A' 'Uptusol' 'Soinequ' 'Mayne A' 'SaireSa' 'Daosts ' 'Prncyrn'\n",
      " 'UKe 2nz' 'SontsAp' 'DLhtsan' 'Maantr ' 'Foodasa' 'BrdgeNo' 'Asorai '\n",
      " 'Omter A' 'Skume R' 'SoechHa' 'Raard B' 'Prhtsok' 'Ocrda M' 'Kesomrn'\n",
      " 'Vaidsi ' 'K ncy R' 'EsniaGa' 'Aaire S' 'Pamesy ' 'Puitea ' 'Saowson'\n",
      " 'Myple M' 'Spdoren' 'Spanda ' 'Shelash' 'Vasta C' 'Mahesr ' 'DSousyl'\n",
      " 'Goeur G' 'Abeesmi' 'SoisoCa' 'Graceik' 'Shvarji' 'ArsiaEx' 'Puestol'\n",
      " 'Sovar S' 'RInceeg' 'ARngsd ' 'Gruesaf' 'Saite G' 'RKncyha' 'AritaFe'\n",
      " 'SRidePr' 'Krrbsil' 'Emine P' 'Saowsri' 'DLhtsnd' 'PuontBe' 'Arldsyo'\n",
      " 'RMudeat' 'Saarea ' 'Soena A' 'Raaden ' 'Srvasks' 'SheldGr' 'RMncy R'\n",
      " 'Pritehi' 'Soyleif' 'CoiewSy' 'Velas V' 'Aklia R' 'BrardCo' 'Ceral C'\n",
      " 'Orens G' 'Pronyt ' 'GoontLa' 'KonteiT' 'GRhtiru' 'Aentsbe' 'Alivae '\n",
      " 'DSimaUl' 'Shateor' 'ProdsWe' 'Saersel' 'Saark H' 'Suncy R' 'Srsica '\n",
      " 'APncyla' 'EmardBo' 'Assha A' 'PancyRe' 'FeowsMe' 'Esnamin' 'NatisAt'\n",
      " 'Spows M' 'Maentr ' 'Saade E' 'Neite T' 'Shiew T' 'Maens G' 'Un 46th'\n",
      " 'Prensya' 'Shthi S' 'VaoldMa' 'SLityee' 'DSingSt' 'Suashen' 'SSthamh'\n",
      " 'Skave E' 'Shierhi' 'Magiaya' 'PrityFa' 'Daivon ' 'SihtsHe' 'AbnceEs'\n",
      " 'Siace P' 'Koagati' 'Salisal' 'SLnorMa' 'Skensk ' 'Sothin ' 'Puwerun'\n",
      " 'TGjraVa' 'Apavea ' 'Sungsha' 'Adsia F' 'ArnzaFi' 'Foghaa ' 'Lancy R'\n",
      " 'Pronege' 'Puallhi' 'VDe 1Du' 'BrlisMe' 'Mithmn ' 'Sapus S' 'Asoilul'\n",
      " 'Shalkri' 'CharkGr' 'Srncy R' 'RortsCo' 'GClmsun' 'SoapeSu' 'Iseenst'\n",
      " 'SLourle' 'IDlleri' 'Unm 2El' 'Adowslm' 'Shestlo' 'ArzzaRe' 'DSgam S'\n",
      " 'Arera V' 'Brersge' 'MCnexva' 'Keers S' 'Niateki' 'Vadel C' 'HIideSu'\n",
      " 'DSesthr' 'Krine C' 'AsNowre' 'SatatHa' 'SoineC ' 'ChodsGr' 'WoarkEm'\n",
      " 'Maentor' 'SNeur G' 'Leilo E' 'Caiya D' 'Shmes O' 'PrestSe' 'Siourpl'\n",
      " 'Halms S' 'Wiass G' 'Asene S' 'Camesa ' 'PrensKe' 'Marnaer' 'Kaestid'\n",
      " 'GonumPl' 'Avlya A' 'Krine O' 'SocusHi' 'Sondaka' 'Dintsmi' 'Prianhi'\n",
      " 'ETntsce' 'i1rtsCo' 'GoandAc' 'Priesla' 'PrliaRe' 'Hoens T' 'Brntsal'\n",
      " 'SVon hn' 'BSlasin' 'Ronty C' 'BSisear' 'GeereEc' 'Ravashw' 'AjityIn'\n",
      " 'Vaour S' 'Vaaveeh' 'Brstaue' 'Macanr ' 'Krtiqa ' 'GradeMR' 'Ceezey '\n",
      " 'AdndeBe' 'Oztarol' 'Arentpa' 'Pethaai' 'Viiniai' 'NRnoral' 'Ardanru'\n",
      " 'KlarkBe' 'Ozana U' 'DSncele' 'Paarklu' 'Shony S' 'Cearkry' 'Niimet '\n",
      " 'PritaDo' 'ARomee ' 'DNeremo' 'Laderav' 'Vangsld' 'Soamsay' 'A rtsai'\n",
      " 'Sasta S' 'MJeusyl' 'Klort C' 'A idse ' 'SPavenc' 'SLnssPr' 'FiriaVi'\n",
      " 'Peide L' 'Cemesti' 'MNtha A' 'Asarqz ' 'SVmesVi' 'AWharde' 'Vaunei '\n",
      " 'SNncypa' 'InockHo' 'Prtusth' 'Keids O' 'SSdhimr' 'KVersuj' 'Sanzaat'\n",
      " 'DSndsod' 'Sancei ' 'Esale O' 'Puachal' 'MGave E' 'Soresea' 'Kamesar'\n",
      " 'CaaveEn' 'NadriNe' 'BSarknd' 'Dural C' 'SJmesst' 'Srkha S' 'Copust '\n",
      " 'Shntsan' 'SNavenc' 'DSidePr' 'Prllsan' 'Siisega' 'HRnyaAn' 'PrrloMo'\n",
      " 'Maana E' 'DSineun' 'Somns T' 'Nillsre' 'Sudama ' 'Goelsn ' 'SudenEd'\n",
      " 'Brtiael' 'AkletBa' 'Raiyai ' 'Prana S' 'Vaodak ' 'Maaveal' 'ImiteEl'\n",
      " 'SLwernf' 'TealdEm' 'PadgeOa' 'NDrelau' 'Peentn ' 'Riave E' 'TNaldme'\n",
      " 'Gaent R' 'Gotaten' 'NaaveEn' 'GRlpank' 'MBodsen' 'DSillto' 'Sosisic'\n",
      " 'Prigh L' 'Saiewas' 'Shlashi' 'Adity S' 'AkncyRe' 'BruntPa' 'Gats He'\n",
      " 'ToSky F' 'Fanorrt' 'Raave E' 'Vadidpl' 'Hiestre' 'ViisePa' 'Keharya'\n",
      " 'Duoveoo' 'Viaree ' 'Hiows C' 'Putus L' 'Saace P' 'Kuownri' 'Edleyil'\n",
      " 'Valipf ' 'MaentNa' 'ACersd ' 'Advash ' 'Adace P' 'DNncasa' 'Inuseda'\n",
      " 'RatosAr' 'EvestPi' 'BhncyRe' 'Kehts H' 'Vaaram ' 'DancyRe' 'Frhts H'\n",
      " 'Mauil T' 'N iewak' 'Loente ' 'DubowRa' 'Mamespa' 'NCdgerj' 'Hiate F'\n",
      " 'Bamita ' 'DSestSt' 'VBn 2lm' 'Saageat' 'MJtroty' 'Clood E' 'Mames M'\n",
      " 'SirlsPe' 'SoniaPe' 'Muncy R' 'InllaPa' 'GKncysi' 'SGiewrk' 'AnaveEn'\n",
      " 'Sahtsva' 'SLncyaj' 'ColeyNa' 'Samesan' 'VBavaai' 'MaaveEn' 'Soe 2as'\n",
      " 'Prareth' 'NiarkHy' 'Sholaya' 'Kaamai ' 'Sulla S' 'Arade A' 'DSdidSp'\n",
      " 'K dotna' 'Soikaa ' 'AnncyRe' 'Bregae ' 'Kinumsh' 'Prensin' 'Siise R'\n",
      " 'NiCodCa' 'Jeshan ' 'Sariaat' 'Rencyed' 'Prurten' 'Reicace' 'Incksaf'\n",
      " 'Niara S' 'AkonyHa' 'Elentrk' 'NDionas' 'ItRRVna' 'Soweray' 'LencyRe'\n",
      " 'ChionCo' 'Dhnts A' 'Aaityi ' 'RNvasth' 'Deiveer' 'Vasisvi' 'ArndsSk'\n",
      " 'Bhgarve' 'SVnamnd' 'Itnaia ' 'MCtleas' 'SJodsed' 'Kenia G' 'Leate O'\n",
      " 'SodilDa' 'Jancyva' 'Prthand' 'Brods W' 'Marnara' 'Feowsdi' 'ACiteda'\n",
      " 'Malowr ' 'Arnorya' 'Vaonyi ' 'Prlmsge' 'Paion P' 'Elidet ' 'Brstark'\n",
      " 'NeendLe' 'Ulure S' 'Saeina ' 'DNionfl' 'Inasy E' 'Frides ' 'SVyam N'\n",
      " 'Ceste C' 'Koestpt' 'Skacak ' 'SVstos ' 'Paoliy ' 'Mebhaee' 'Sioma A'\n",
      " 'SoderLa' 'Foity S' 'PrwarSa' 'Rasom B' 'Prarkhi' 'Gintsar' 'Daden G'\n",
      " 'Collsrn' 'Sourtal' 'Sancyi ' 'PoetyHo' 'GMentAp' 'Sooneoo' 'Ceiti I'\n",
      " 'Asareur' 'Caiseha' 'Pricae ' 'Akvam P' 'SrireSo' 'Mavelr ' 'SrntsRV'\n",
      " 'Brglede' 'Neess P' 'KuisePa' 'IBictnd' 'Aaniaa ' 'VeSkyva' 'Sowerew'\n",
      " 'AnialPa' 'Diaste ' 'Dhows M' 'Baveles' 'Oca 2 V' 'Maunt M' 'Maonsrn'\n",
      " 'LGDewke' 'Saitya ' 'Meentan' 'GRe 2iv' 'PlhtsHe' 'Swhtsna' 'R ra  R'\n",
      " 'Bhise P' 'SaisePa' 'Co IIla' 'Vidil D' 'PaigeMa' 'FoapeWa' 'AreraRe'\n",
      " 'Sancybr' 'Lallere' 'Exitym ' 'GRvanun' 'SastyDy' 'Asadacy' 'Chara N'\n",
      " 'EGdiaAr' 'Saconp ' 'ElaleSp' 'Rakulai' 'Srhts P' 'Miitat ' 'Suelsa '\n",
      " 'Vaniai ' 'Mades G' 'Vatra N' 'Saent A' 'Brony H' 'Chllsev' 'Sagnage'\n",
      " 'DSera S' 'Adion M' 'M denGa' 'Skarkev' 'Coowsri' 'Sid 2ss' 'Solia D'\n",
      " 'Etuney ' 'DNtonri' 'Sonue A' 'Diisein' 'JDensar' 'CSvelMa' 'RRnumn '\n",
      " 'Saeur G' 'Prmesad' 'Puodsm ' 'Siaraa ' 'SancyRe' 'NCiteEl' 'Sraveks'\n",
      " 'Frowsru' 'Suryais' 'Coa It ' 'Akave E' 'Nadhian' 'Prineth' 'Suitea '\n",
      " 'Brsic C' 'Maidei ' 'ShourSp' 'BMtusLo' 'Raourpl' 'Saavem ' 'Prhar G'\n",
      " 'Caiseur' 'Cerdsga' 'Maierr ' 'Aling10' 'PraleSi' 'Veitaus' 'Guenoa '\n",
      " 'Tentsw ' 'Nanorkr' 'Ahntyve' 'Shestut' 'Siageal' 'Jants V' 'Hivesdr'\n",
      " 'OriewLa' 'SNe 2ev' 'SaeneSe' 'Mae 2ow' 'Trurea ' 'GSnts A' 'Sorta S'\n",
      " 'Binorn ' 'Crentt ' 'Vador S' 'Nathira' 'Esave E' 'BainePr' 'KsonsCa'\n",
      " 'Rainet ' 'Esatea ' 'Amhidte' 'Arensh ' 'Prsun S' 'Haaceal' 'Aconyit'\n",
      " 'MJilayl' 'AdingSV' 'Drerspe' 'Asncywo' 'Tinori ' 'Teilsaf' 'MJarlPe'\n",
      " 'NDclenn' 'ShdhiSa' 'Spensas' 'PSterAs' 'NianaKe' 'RBersll' 'DSdorSp'\n",
      " 'ALtonea' 'Rauil T' 'Teire G' 'Maine J' 'Rathira' 'Trows M' 'Gopia O'\n",
      " 'CharkR ' 'Diaveic' 'Shmolti' 'SKterAs' 'Goandn ' 'MavarSa' 'Rilor C'\n",
      " 'SSoraba' 'Rallse ' 'Goe 3la' 'Pumesim' 'GSideS ' 'Srrnasa' 'DSestma'\n",
      " 'Lelia M' 'Inurave' 'Gencysi' 'Chpana ' 'Dhowsyo' 'Cehosy ' 'Rancy R'\n",
      " 'KuncyRe' 'Goeesem' 'Asneren' 'Janaala' 'PrrvaPl' 'PuonsSe' 'Veisear'\n",
      " 'Vandak ' 'Sanetra' 'HintsAp' 'RohtsHe' 'Krestee' 'Dimes E' 'TRensre'\n",
      " 'Tencyes' 'Shise P' 'MNlam G' 'Evood S' 'HRaniIb' 'Maity W' 'Jalot C'\n",
      " 'Clell D' 'SoronSa' 'Emceske' 'ManceEl' 'JaaldEm' 'Whosone' 'BMttaor'\n",
      " 'PintsAp' 'Briumri' 'DShtsow' 'RBRWAyo' 'VDenaWa' 'Srhan P' 'PrstaTe'\n",
      " 'KBaleoy' 'Saestde' 'Kierser' 'Jalonht' 'Leora E' 'Coner C' 'NRodsen'\n",
      " 'Sanne E' 'GMilse ' 'ARineha' 'AnazaPl' 'MJinele' 'Unezes ' 'Pralmat'\n",
      " 'Cerasy ' 'Gonorir' 'Krllael' 'VKvenas' 'Shensit' 'DSellil' 'ARvasV '\n",
      " 'Samittv' 'Sorisa ' 'Mancy R' 'SoageHe' 'SNadeAr' 'Mazler ' 'SoersTo'\n",
      " 'Suntsan' 'Riousd ' 'Mandsi ' 'Mazzo P' 'DwntsAp' 'Sheurre' 'AztheBr'\n",
      " 'Goues A' 'Vaoodar' 'Pu270a ' 'SVdhaig' 'Niine J' 'Niidet ' 'T ZedZe'\n",
      " 'Naashi ' 'DSata S' 'Srtusi ' 'SLiewce' 'Srncykh' 'CMoryma' 'Gonoril'\n",
      " 'Srnumum' 'Jaiewke' 'ShanaSp' 'SVovelm' 'Undge T' 'Saavear' 'Sonyxa '\n",
      " 'Prone M' 'VSlistr' 'Skstark' 'Vancya ' 'Adity T' 'DaniaNe' 'Adthm R'\n",
      " 'NCaveun' 'Brrds O' 'Haows M' 'Apitea ' 'Mas 2 H' 'ARntyne' 'Aaubyya'\n",
      " 'Prllasw' 'Brlms P' 'Mae 2ra' 'Naireru' 'GaentAp' 'Ascid P' 'SaodySa'\n",
      " 'SryleHo' 'MCngeha' 'Phhidx ' 'Amivace' 'SruntFa' 'Ihnueut' 'Vehes L'\n",
      " 'BModsen' 'UpowsMe' 'CidgeKn' 'ShentAp' 'Sancy R' 'Srowsee' 'BaiseBa'\n",
      " 'MIalerd' 'Jaangm ' 'Contsci' 'Villeka' 'Pridei ' 'VaarkMe' 'Cimeshw'\n",
      " 'Radhian' 'Hincy R' 'SNiew L' 'Nileyap' 'Vestas ' 'Puownm ' 'PrdgeLa'\n",
      " 'FoGemna' 'Cestama' 'Ahhtser' 'BMmesHo' 'SRzonhu' 'Asintas' 'Glnetch'\n",
      " 'Suensda' 'MKllei ' 'SrnesSr' 'Niway G' 'Roima A' 'Maows M' 'Soowsa '\n",
      " 'SantsAp' 'Vaharvi' 'Sonet G' 'Kelia R' 'DSdhiSa' 'AHavenc' 'Pranthi'\n",
      " 'Keersto' 'Mania G' 'Zonce E' 'YCnce R' 'JRichee' 'SRageri' 'DSOakil'\n",
      " 'FlsicFl' 'ICoolon' 'Raeusiy' 'Puide P' 'Jaers S' 'Preaunt' 'Sinde G'\n",
      " 'Vayali ' 'VaasaPr' 'Mancyhi' 'Omy 2es' 'Srestve' 'Flretes' 'Kritel '\n",
      " 'Sooutnu' 'Ceise P' 'Suurtni' 'Visic C' 'Saaveas' 'Prageta' 'Kiagar '\n",
      " 'Nastadr' 'GathiVa' 'ArowsMe' 'Radenta' 'Riodsri' 'Mahla T' 'Sainei '\n",
      " 'Dhise P' 'SNpalaj' 'Soionar' 'Valdsic' 'Ajomaa ' 'Ayaya A' 'Niiewem'\n",
      " 'Kencyes' 'IBaveen' 'PrncyRe' 'Ocock R' 'Pa II E' 'Sithand' 'Clint E'\n",
      " 'Blisera' 'Kaiew L' 'Mamesi ' 'Vahid O' 'Naasyak' 'Sie 2is' 'Rallaa '\n",
      " 'VisicCl' 'Pae 1ov' 'SoliaMa' 'Siite E' 'Thiced ' 'Dhncyud' 'PrpiaSr'\n",
      " 'MDncyhi' 'Pudgear' 'SApusnu' 'Srayatr' 'Srmitev' 'RotatHa' 'Dehts H'\n",
      " 'LGapeon' 'GancyRe' 'Salle F' 'ArrdsOr' 'Vaw 2il' 'Fants A' 'VRrtsa '\n",
      " 'Coona A' 'Viaxy G' 'Cadel C' 'Epllan ' 'Vabow R' 'MDoseim' 'Koowsis'\n",
      " 'Shntsad' 'Sriseva' 'Vastael' 'Roiti A' 'SSonsvi' 'Masta A' 'Gaodsch'\n",
      " 'Srconor' 'NCondia' 'Mameser' 'Veales ' 'Suriaa ' 'Metrais' 'Prowser'\n",
      " 'ValiaCa' 'MamalPr' 'Masser ' 'Pathira' 'AriosPa' 'AxvamTa' 'NStusD '\n",
      " 'Goourta' 'IDldsin' 'SJityaz' 'Adstah ' 'NatanNi' 'Karchru' 'ShaleSp'\n",
      " 'Saavenc' 'Rabow R' 'S2oveat' 'Prook M' 'Itvas S' 'MBncele' 'Inion P'\n",
      " 'Ciques ' 'Saire S' 'UNERA P' 'Vaows M' 'Deens G' 'SBoneuc' 'Jaood G'\n",
      " 'Srhamra' 'Grmes L' 'ZeodsWo' 'SRidsrc' 'SearkHy' 'Niacesa' 'Papusa '\n",
      " 'KHage G' 'Vaodssh' 'Foncync' 'Patust ' 'Prdenth' 'DStra S' 'GoncyRe'\n",
      " 'V2avei ' 'NDpalSe' 'KPhtsei' 'Viisear' 'Ozensve' 'Ste 2al' 'Paentta'\n",
      " 'Sisice ' 'Fea 3Al' 'AltesEs' 'Srncya ' 'Seasare' 'Prood P' 'SLavena'\n",
      " 'DSvar S' 'Asira E' 'Swers T' 'Jaanaa ' 'Cangse ' 'Pao 3ow' 'Sanumn '\n",
      " 'Viers S' 'SrarkSk' 'LoentKr' 'Srvasi ' 'MJtumty' 'Chorda ' 'SPllain'\n",
      " 'SuBayin' 'Naandit' 'ElentAp' 'Chllea ' 'Arata A' 'Giconal' 'Mae 1Ar'\n",
      " 'Darsh S' 'Niarknt' 'AgaveEn' 'CoaveAt' 'NCold G' 'Suiumy ' 'SVlesas'\n",
      " 'Krala D' 'Suhamra' 'DiaveEn' 'Rencyes' 'SLtalry' 'Viium E' 'Axdam V'\n",
      " 'VMlet C' 'Keony H' 'Revane ' 'Upoutks' 'Soubya ' 'Tepleee' 'Siilka '\n",
      " 'Madener' 'AcisePa' 'Brity U' 'DSeldpr' 'Jauraht' 'Gincyi ' 'JaghtDe'\n",
      " 'Amionce' 'K tlete' 'CoinoCu' 'Soisy D' 'Srncyla' 'Satle C' 'Ahciace'\n",
      " 'MaaveDu' 'RKhipwn' 'RRersow' 'Paestol' 'Pelle P' 'Vapasrk' 'Shine S'\n",
      " 'BDlexHo' 'Sants A' 'Saarep ' 'Eltert ' 'PaownNe' 'Emhtsl ' 'Goty  E'\n",
      " 'Dovel M' 'SRhtsa ' 'Frhtsr ' 'NVanat ' 'Baentgi' 'KMnorab' 'Asncyes'\n",
      " 'Soodsa ' 'Srowsrj' 'SaareNo' 'DSvil S' 'Srers T' 'SollaMa' 'Salms G'\n",
      " 'Names H' 'Feissx ' 'SVodsve' 'Srthaa ' 'PaanaCh' 'AxinoCi' 'WishiVa'\n",
      " 'PronsEn' 'Dwterai' 'J isear' 'Mallad ' 'BMoldar' 'Ikmesay' 'V2gesre'\n",
      " 'Srayai ' 'Prndsde' 'Solle V' 'MaeamSu' 'Sulesil' 'Reyle L' 'Vaurtar'\n",
      " 'Hemai D' 'HivanBr' 'Prsisge' 'Malmsri' 'TGeepga' 'Vaensia' 'SraveHi'\n",
      " 'Saciatt' 'ARureig' 'TuiteIn' 'Pantym ' 'ThBayah' 'UKanema' 'Niiman '\n",
      " 'Gilleon' 'Komesa ' 'SatraNa' 'Lehidrc' 'Prood G' 'Arhtsth' 'Shestth'\n",
      " 'Wiaysld' 'UmrldDr' 'ACopsva' 'Bhhmi L' 'Sariana' 'Alows M' 'Prclee '\n",
      " 'Hanar I' 'Goezell' 'DiamiSa' 'J axyGa' 'Afncyad' 'KroneMo' 'AdhriPa'\n",
      " 'Srods P' 'NellsKo' 'Shenshi' 'Ammesss' 'Soarkig' 'Rocid P' 'May 2ge'\n",
      " 'Vantsra' 'Ablmsol' 'Goaysn ' 'Akdorli' 'Myace P' 'Arhid O' 'PantsAp'\n",
      " 'Elodsre' 'Krone S' 'DSise S' 'ViionMa' 'Veale R' 'Varlsa ' 'Grntsd '\n",
      " 'Amelllu' 'Kut 3or' 'MGBay T' 'Vixirri' 'Inaxyga' 'Vehida ' 'Aseenh '\n",
      " 'Nimesch' 'AdadeEs' 'ARipsul' 'Gundaa ' 'Sueesti' 'Srmesun' 'Sparam '\n",
      " 'Sonumy ' 'Covelrs' 'Saaveir' 'Javasi ' 'ReudePr' 'Vacesi ' 'SNtua S'\n",
      " 'Akncyes' 'GRvasth' 'S2kaaan' 'Roale D' 'SaignSo' 'LIandee' 'Rarelt '\n",
      " 'Inntsth' 'MRowsea' 'Viockit' 'Jaw 2 L' '7 ise P' 'Coise P' 'SVoutow'\n",
      " 'Shhin S' 'Cearuy ' 'Apentir' '3Codeli' 'NVdenic' 'Prhna S' 'Ajacea '\n",
      " 'GoilsDa' 'Shmai D' 'Duavenc' 'Saowsou' 'Palanla' 'Fencyes' 'Maenara'\n",
      " 'SrentAp' 'Matrai ' 'DSapete' 'MBireap' 'Neisei ' 'PriumMi' 'DSity S'\n",
      " 'Adntsra' 'VaiteEx' 'V6estde' 'PentyVB' 'SNityVe' 'Patri M' 'Brine J'\n",
      " 'Koillph' 'SrageGl' 'Pride S' 'HoAcela' 'Rahidhi' 'Nihtsur' 'Soond R'\n",
      " 'Heatee ' 'Inenshe' 'Ceeury ' 'Shbhi S' 'KAMESRI' 'Diensso' 'NianaBr'\n",
      " 'CMhamai' 'VRdelit' 'APusenc' 'Nisisn ' 'Srncyya' 'Vincyat' 'Amais V'\n",
      " 'Shireru' 'Caonand' 'SJerse ' 'Sanstya' 'MItatHa' 'Goodsrb' 'Jainaht'\n",
      " 'Hoston ' 'PrBayGa' 'Shers S' 'ARineun' 'SMshi M' 'Shodsir' 'Maager '\n",
      " 'Mancya ' 'Neestna' 'Soacyst' 'Thuse F' 'SaageWi' 'SiidsGa' 'Thowsil'\n",
      " 'SuncyRe' 'PrdgeSo' 'CMhidal' 'Prodsm ' 'NRncyrk' 'Putere ' 'MBncyh '\n",
      " 'MJinala' 'DSestil' 'SamesHo' 'Cee 2du' 'Opamaan' 'LendaVi' 'CMDewun'\n",
      " 'Saaintv' 'SGncy R' 'Soire A' 'Soral C' 'KencyRe' 'ISeekon' 'Chiteny'\n",
      " 'Nauha G' 'Giaver ' 'PrawnRa' 'Raide P' 'DSapeto' 'KKdenng' 'Vaent V'\n",
      " 'Dheusag' 'SMllay ' 'Adaveth' 'Shissut' 'SiineSu' 'Prora F' 'Giersin'\n",
      " 'SavanBr' 'MNikaas' 'MJlese ' 'HMigond' 'Hincy V' 'LeDuvMy' 'Asara S'\n",
      " 'Jaaveha' 'Baanise' 'Skinaa ' 'BDectou' 'KancyRe' 'ItAnuna' 'Prmes H'\n",
      " 'ShtalCr' 'Gopus O' 'Elleyt ' 'Prian E' 'SaSkyBl' 'Sencys ' 'C ensnd'\n",
      " 'Pyvenas' 'Asuilnc' 'LoLeoen' 'Shentpa' 'Elacet ' 'FoityIn' 'Reiteee'\n",
      " 'ThntsAp' 'LGeete ' 'PavesGr' 'Shrds O' 'HooudSi' 'Lalipa ' 'HMtesle'\n",
      " 'DSe 2ie' 'RMerslu' 'NDiteio' 'Kiare S' 'Saacesa' 'DSineSt' 'Gamesti'\n",
      " 'Omncy R' 'Varala ' 'Roeekbl' 'AvensGa' 'Keera R' 'Javasya' 'Stkarrd'\n",
      " 'Toeadp ' 'TGasyhu' 'Stndeil' 'Bhiya N' 'MBpleca' 'Vedhias' 'Pantsce'\n",
      " 'SLarei ' 'ARaveSa' 'Sarlsm ' 'Naiewre' 'Arora A' 'AMaveon' 'Oaeze B'\n",
      " 'Riiew L' 'Sksia A' 'Prsichi' 'Srllaan' 'PuhtsHe' 'Hotat H' 'Prard B'\n",
      " 'SLarkic' 'JSonyar' 'GSodsee' 'Maita R' 'V2anags' 'PisomSu' 'Satanan'\n",
      " 'Roareta' 'Emsic C' 'Uncioe ' 'Bhncy V' 'Paurt C' 'SSaveik' 'Nentsan'\n",
      " 'K ensad' 'RookaJh' 'Vatlede' 'EcEONfe' 'CSncele' 'Esree8 ' 'Krberl '\n",
      " 'Golmsn ' 'Kobhiil' 'Skvasa ' 'NChtsun' 'Maodser' 'ValleCi' 'UbreeAn'\n",
      " 'Peace P' 'Thessie' 'Mawerer' 'Chhalut' 'RatatHa' 'Matlelp' 'AMAKS O'\n",
      " 'Saowsi ' 'CoLeoen' 'Dhndsh ' 'Srandir' 'Rie 2ri' 'Lancysi' 'Inentva'\n",
      " 'Siows M' 'SLionan' 'SNillin' 'AszarAl' 'Vanusn ' 'Maionra' 'BlibuMa'\n",
      " 'Pontspa' 'Aliewe ' 'AbiewLa' 'ArierPr' 'Lants A' 'DSestre' 'SLestde'\n",
      " 'MBaleRo' 'Unateit' 'CLdiaAr' 'DSidsrc' 'Madgeer' 'Chhamku' 'Liwerun'\n",
      " 'Muistry' 'GoratAr' 'Elrisnt' 'SReafin' 'Amlisai' 'Undraro' 'Deiten '\n",
      " 'Niowshi' 'Leeno S' 'SraveSL' 'Scsta V' 'Manha M' 'Vaaldak' 'Arnts A'\n",
      " 'Inave R' 'TNrdet ' 'B ncysi' 'PancyPr' 'Chtali ' 'GrhtiSr' 'SriewGr'\n",
      " 'DSalehn' 'RatraNa' 'PSdenGa' 'Srise P' 'NCs 2rj' 'Visom B' 'Srntsha'\n",
      " 'Oce 1nd' 'Shsom B' 'Suent A' 'BancyRe' 'Ranorar' 'VVbhion' 'Aharlve'\n",
      " 'Soarkge' 'Mahtsba' 'Reodsnc' 'Krtonwe' 'Ceonyy ' 'Inden O' 'BVeneSe'\n",
      " 'Naenti ' 'Jahipa ' 'Chtert ' 'Seityen' 'Bebalrk' 'RaontWa' 'Esareap'\n",
      " 'KohraNa' 'Tiare S' 'SuanaNa' 'Prtor N' 'Pranai ' 'Bhide P' 'Ciisera'\n",
      " 'Duals P' 'Toiasle' 'Thisea ' 'SGllaav' 'Bhave E' 'Bhsic C' 'GMownTe'\n",
      " 'NRtesnd' 'Shnto F' 'Alarke ' 'Gancy P' 'Sohti S' 'Avlls H' 'HViesar'\n",
      " 'Ozdiaan' 'Redarav' 'MYncysi' 'Shont F' 'MadorSp' 'SLtraks' 'Amarere'\n",
      " 'Daganva' 'Saisena' 'Elayabh' 'Gaenty ' 'Almid P' 'SaMTBai' 'SoineJa'\n",
      " 'Jhntspa' 'Vaeva E' 'Sravema' 'JahtsHe' 'Grterrr' 'Baesta ' 'Trade E'\n",
      " 'GModsNR' 'Vetanan' 'SaaceSa' 'ARestco' 'GCngsn ' 'Suram S' 'SLoven '\n",
      " 'Prmesi ' 'Inods A' 'Leora D' 'BKideor' 'JSlipTu' 'Apvas N' 'GKityde'\n",
      " 'Myhrie ' 'Spiteid' 'Hiowsi ' 'Fleepi ' 'Foisha ' 'Vacle P' 'Usnexra'\n",
      " 'Priew P' 'Aincyev' 'Vaenev ' 'Shyalha' 'DSpazTo' 'Asnts a' 'Jancyes'\n",
      " 'Smentha' 'DSensn ' 'Amageru' 'Srg Bnc' 'Gohts H' 'Duity C' 'NCierar'\n",
      " 'Ajens G' 'Viodspr' 'PSmalsh' 'Lancya ' 'Meowns ' 'Ladenea' 'M ondit'\n",
      " 'GCbowai' 'Kreera ' 'SMncyy ' 'Aimesya' 'KrineAq' 'IcudiMa' 'MDonta '\n",
      " 'NCarkna' 'LGlarAs' 'Kames S' 'Gllas V' 'DScon S' 'AnentAp' 'Shiaa S'\n",
      " 'MVkleiw' 'Stlomg ' 'Peles P' 'ViaarSa' 'Henue A' 'Sastaat' 'Gontsoo'\n",
      " 'Agtiaur' 'Vithm R' 'Vancyat' 'Arentra' 'SoosePr' 'PavanSa' 'Sohid O'\n",
      " 'VBeriav' 'Bustain' 'MSureRR' 'Suvals ' 'Prncy R' 'DSionhe' 'KKersow'\n",
      " 'Skdia A' 'MSuntra' 'Indesve' 'Pancy R' 'Sotosty' 'AReenui' 'Jae 1ke'\n",
      " 'RailsDa' 'Sravehi' 'LeeyaCa' 'Conixt ' 'P num P' 'Hedosme' 'Mosom B'\n",
      " 'Mancyes' 'CaestSr' 'Raony C' 'DSons S' 'NCensun' 'Silusti' 'JaniaGa'\n",
      " 'Prldsum' 'Cruran ' 'Sidin J' 'Saalpas' 'Saenett' 'Unuil T' 'Pardst '\n",
      " 'Concyvi' 'Shntie ' 'KPiteEl' 'MNnia E' 'Inulat ' 'Avine A' 'Anensva'\n",
      " 'Srarkha' 'BSian M' 'GRarken' 'Saentva' 'Tiitela' 'Vimesar' 'JKmesHo'\n",
      " 'BrriaLu' 'DSerste' 'Raesta ' 'VRowsa ' 'Maidsr ' 'Sutesga' 'Suise S'\n",
      " 'Panorse' 'Owlotou' 'MaitySe' 'Yaenti ' 'Viissmi' 'SoniaEt' 'Koncyad'\n",
      " 'Siestr ' 'PrinePr' 'SRgio V' 'Srasy F' 'Miiewa ' 'Saive L' 'Nihtsss'\n",
      " 'VDarmlo' 'Krshi G' 'StodsWa' 'Naepa D' 'Pardsri' 'Saandvi' 'Reverve'\n",
      " 'Inaadd ' 'MyhtsHe' 'Saacela' 'Srldsri' 'Kelmsoy' 'Prvanai' 'PindsWo'\n",
      " 'Neony H' 'Rie 2 P' 'SJityVe' 'G ceses' 'JPoldGo' 'JRaderc' 'DStik S'\n",
      " 'GRlas V' 'Spess C' 'Prentra' 'Krntsee' 'DSireSo' 'Pry 2 R' 'JClyner'\n",
      " 'Dhistee' 'Amconi ' 'Srrtsu ' 'Say 3 R' 'DencyRe' 'Srluei ' 'Eledst '\n",
      " 'Rehtsna' 'IJent A' 'Anineu ' 'VaMarll' 'Saavena' 'Srdids ' 'Jaity H'\n",
      " 'Eznuee ' 'Wharl P' 'GRhtsei' 'Choomu ' 'Corus C' 'Soncy R' 'Laave E'\n",
      " 'VKe 1 M' 'Sryam N' 'Amazaa ' 'SivelMa' 'SwionMa' 'Arndesa' 'Krton S'\n",
      " 'Miershi' 'Dee 2 P' 'VSineDi' 'ApallEn' 'Cores V' 'OadraCh' 'Unarlth'\n",
      " 'Hameson' 'Daxir E' 'Malyxer' 'Maletr ' 'EsadeNS' 'Monorh ' 'Atntspa'\n",
      " 'SRrnauv' 'Muiseek' 'MoaveEn' 'MaionMa' 'Saandtt' 'MVmesle' 'Pridel '\n",
      " 'Saage V' 'Gomeseg' 'Shika A' 'Prdhue ' 'SVacyeg' 'Apion M' 'Jaitira'\n",
      " 'Tenceen' 'Paony H' 'Ceureld' 'Hahtsya' 'AsineSu' 'Solip T' 'DSstaen'\n",
      " 'ShyamSh' 'Apntsal' 'VBpleMa' 'Music C' 'HMriast' 'Juoryma' 'LGifeew'\n",
      " 'Fosic C' 'NevenLi' 'Maorai ' 'VmlleRo' 'Adevo S' 'Srarkav' 'Srhida '\n",
      " 'Bront A' 'Chsilut' 'DRnerns' 'SuaveRa' 'LuncyRe' 'Evanaan' 'Sphts H'\n",
      " 'MyigePr' 'NRniad ' 'Bhacy L' 'DSoodSh' 'Satlea ' 'Viave E' 'Viise P'\n",
      " 'Rallsdr' 'Unris E' 'VMityre' 'Omaveai' 'SVhyaga' 'SMdesy ' 'Isncasa'\n",
      " 'Deonsxp' 'Matonr ' 'AiIIIpl' 'Savarar' 'Coora S' 'Tincyum' 'Sahidri'\n",
      " 'AnnceEl' 'MGntsar' 'Vidgema' 'Brtondd' 'Inntss ' 'Vaw 1il' 'URodsmb'\n",
      " 'SKvanin' 'SSaleRo' 'DRens A' 'Nanuena' 'Atreli ' 'Ajows V' 'TrryaAi'\n",
      " 'SurtsCo' 'Aangsur' 'APuraen' 'Sririth' 'Tusom B' 'Mykyayi' 'BrriaIm'\n",
      " 'Guranya' 'Saata S' 'Saaksa ' 'Asuceis' 'AdestAs' 'Anlthmo' 'Maavera'\n",
      " 'Mavanru' 'Chisea ' 'Shncy R' 'Icaryan' 'FoncyRe' 'Niborik' 'Itbhaa '\n",
      " 'Adion A' 'Krz 2 Q' 'Goeenes' 'GKowsea' 'Arntyi ' 'Maade P' 'Esnamth'\n",
      " 'MIntare' 'Nioutar' 'Maourit' 'Shionya' 'PuontFa' 'V htsji' 'Srcha S'\n",
      " 'Stide B' 'Goner C' 'Loals P' 'Reunee ' 'GilomSh' 'AuRISa ' 'VRiewke'\n",
      " 'Aples M' 'DSlesSp' 'KeureSi' 'Foinade' 'SyavuHo' 'Rerelve' 'BhreeBa'\n",
      " 'Aduil T' 'MCrds S' 'Vaarai ' 'ARncy R' 'Arncyd ' 'Ameur G' 'Tantsod'\n",
      " 'RahtsHe' 'DatroGo' 'Pae 2ov' 'MavanK ' 'Caxusnd' 'SoncyRe' 'InhtsHe'\n",
      " 'Bhentne' 'Hoensti' 'Sotus L' 'Nehalri' 'Cilip J' 'Soosea ' 'Skesta '\n",
      " 'KSideas' 'Raellil' 'Asarkia' 'SuodsAc' 'VHistal' 'Doissa ' 'Ajnue A'\n",
      " 'Sagalhi' 'Xeitaa ' 'Maoma P' 'Beesta ' 'JRarlPe' 'Prleaou' 'Phens G'\n",
      " 'AdniaSk' 'Clsto C' 'Trntska' 'Sriffhi' 'Ranuetz' 'Prionve' 'Niiewin'\n",
      " 'Sashaa ' 'Malmser' 'Vaontos' 'Saa 2Ai' 'Ocuil T' 'Sarch M' 'Veiewak'\n",
      " 'MBrrySt' 'VaiewV ' 'Honcyju' 'NDivaOl' 'Viine P' 'Arria G' 'AraraSa'\n",
      " 'Goe 2me' 'Suavea ' 'Aroveth' 'V2lasna' 'Jatish ' 'MSopsw ' 'AmthaIn'\n",
      " 'Santste' 'HawerMa' 'Oznzaes' 'HMityld' 'MamelKa' 'Smrryny' 'Chisei '\n",
      " 'Reion M' 'Srdor S' 'MRvar S' 'Spews L' 'Sumesa ' 'SRbiaxu' 'Prlis A'\n",
      " 'MVnexde' 'Ieuseut' 'Saavean' 'Asnex A' 'SRldsnt' 'FBazaah' 'LGrldti'\n",
      " 'Naavehi' 'Puncyya' 'Roarkan' 'SunetSo' 'Coronte' 'AkArkti' 'Deade A'\n",
      " 'KHnumla' 'DiiteR ' 'Maisehi' 'Reitice' 'Alsta F' 'SVthaho' 'MyeurGr'\n",
      " 'Vaensnd' 'Essic C' 'JSyane ' 'Pao 2Sm' 'Maarkr ' 'Saeraep' 'Marthur'\n",
      " 'Srntssh' 'Santspa' 'DSsorin' 'Srtasno' 'Mailsaf' 'Jaisemi' 'AmiewLa'\n",
      " 'Samukja' 'DSeme S' 'NDfelip' 'Vencyha' 'Tenetee' 'Oaines ' 'Phaku K'\n",
      " 'Dhave E' 'SLiand ' 'VRest N' 'Saisei ' 'Mancyi ' 'KSliaor' 'M1riaa '\n",
      " 'Stensg ' 'Prsorhi' 'Prwer S' 'Vemes H' 'SLontel' 'Srrlsnu' 'Epwnee '\n",
      " 'URncysi' 'ImncyTa' 'Sanorpa' 'MVisear' 'GontsAp' 'Thessmm' 'ArariGo'\n",
      " 'Vicony ' 'Srhemay' 'AjhalNa' 'ShtonDw' 'BCivell' 'SradeSr' 'CVnetnc'\n",
      " 'SViseun' 'Evvan V' 'Siiewag' 'Hisic G' 'UKicte ' 'Saacy A' 'Emodsel'\n",
      " 'AdlasRe' 'CiaksRi' 'SLoraFl' 'Grensak' 'CMard B' 'Ely 3Em' 'Prhtsua'\n",
      " 'VSaya A' 'Prngshi' 'InadeAr' 'Prvaska' 'PyonsCa' 'Keave E' 'Mairer '\n",
      " 'SyOnen ' 'BrlonAv' 'Sasicha' 'AlourAr' 'NVaree ' 'Cotaror' 'Sapazta'\n",
      " 'EAvarum' 'Niaveha' 'Ardaseo' 'Varve R' 'Kr 10Ca' 'E onsg ' 'Sravea '\n",
      " 'Savar S' 'YMhenLi' 'Naory G' 'Aplanje' 'Sharlth' 'Srersas' 'KrodsNo'\n",
      " 'Ciris P' 'MMowsik' 'Soy 1Iv' 'GCiewty' 'AkoreEn' 'Loe 1st' 'Rooodre'\n",
      " 'Goareir' 'Saoneil' 'Bhmesa ' 'Puops R' 'Mantsce' 'Neise P' 'DStus S'\n",
      " 'Laiteya' 'Heate L' 'Srsami ' 'Gasom B' 'Elley B' 'AbarkVa' 'SRensar'\n",
      " 'S2ionrn' 'Atarebe' 'Roa 2ha' 'CMoneoo' 'Maowsve' 'VHinoel' 'Shentnd'\n",
      " 'Sulya A' 'SLowse ' 'VSletes' 'KBnnupu' 'Spity E' 'Soose P' 'SollyCl'\n",
      " 'Suwerlo' 'DSersus' 'Femes S' 'Dhniail' 'CMionsy' 'Amnavdr' 'Veyal V'\n",
      " 'Raisys ' 'Corix B' 'BaisePa' 'VincyRe' 'Viowsen' 'StwarSi' 'Catle C'\n",
      " 'Bhensa ' 'Vanami ' 'AGoutLa' 'Chntsat' 'NCenega' 'Somus A' 'BrnoxEq'\n",
      " 'Hahtsde' 'GKiewke' 'SuntsAp' 'Raenti ' 'HoDewy ' 'Rintspa' 'Indanrt'\n",
      " 'Brnumnn' 'Leuseut' 'SuentAp' 'KSidems' 'BadorSp' 'BhisePa' 'Adarkya'\n",
      " 'TNnumla' 'SKisyDa' 'MJiyayl' 'Chuti S' 'Jaensa ' 'SLhidOr' 'Sortz Q'\n",
      " 'Meines ' 'Coleyli' 'Esncyth' 'SrSaira' 'SBiewid' 'Pre 1ri' 'Chaldi '\n",
      " 'AsensGa' 'DSrry S' 'Prarat ' 'Srigmsw' 'DSsicky' 'MSadeed' 'Brwernn'\n",
      " 'Ozquaba' 'Jyavet ' 'SPthara' 'Srentea' 'PulokPu' 'Prorath' 'SoestSu'\n",
      " 'Toodyit' 'Juclend' 'BSiumly' 'Goyalir' 'Srystme' 'RaosePr' 'RSntsja'\n",
      " 'Aantspa' 'MAnceun' 'Malah A' 'Vauna F' 'SoasaSa' 'PrianM ' 'DSeak S'\n",
      " 'Asncy P' 'Rewelav' 'Myitece' 'Saionl ' 'AaineSi' 'HMqueu ' 'Toreeic'\n",
      " 'Sriferi' 'JPismPr' 'EsaceLe' 'SaodsGr' 'BSersTo' 'Srure S' 'ViortCo'\n",
      " 'Diarknt' 'ShnyeSy' 'Maionus' 'Seardac' 'Spsic C' 'Shidei ' 'Juaxyan'\n",
      " 'NDncysi' 'SraruSr' 'Krs A C' 'Prdomt ' 'ArBayeb' 'Viconth' 'Peora P'\n",
      " 'Saineiv' 'S mesci' 'Apmes H' 'Puentpa' 'SaideHi' 'Thesseg' 'Soe 2Sa'\n",
      " 'RaiewLa' 'Keorai ' 'Akone R' 'Saent G' 'EmrchAn' 'Salesni' 'MancyEl'\n",
      " 'PrstaLa' 'Keort F' 'Apise P' 'Prandm ' 'SLayaer' 'Siuntar' 'Vitat H'\n",
      " 'Ajresre' 'Bousey ' 'VancyRe' 'SSityri' 'Leero C' 'Keleti ' 'Vincy R'\n",
      " 'MRsicla' 'VaantPl' 'AHodsWo' 'Thionav' 'Shaceop' 'Asmosz ' 'Maoseer'\n",
      " 'Emsisy ' 'DSreerk' 'Sringlv' 'Adxira ' 'VaireSo' 'FetatHa' 'TCncyn '\n",
      " 'Puveshe' 'Raood R' 'Alnorrm' 'SatonLi' 'Invenai' 'Canoroy' 'Vaine S'\n",
      " 'Viuliap' 'AWharan' 'Shiumi ' 'AdtusAn' 'AFe 3Ph' 'Saarlth' 'EiionCa'\n",
      " 'Sahtsi ' 'SneurGr' 'Ranor M' 'Aavelis' 'Arnis A' 'VentsAp' 'Inshath'\n",
      " 'Prncyay' 'MKensi ' 'Vandaac' 'Saensar' 'Nencei ' 'Spngsin' 'SLenssh'\n",
      " 'Aaentpa' 'SKthaAa' 'Reciale' 'LuntsAp' 'Vaderla' 'Unentsi' 'BSensth'\n",
      " 'Moquach' 'Cemesal' 'SuezeLa' 'Gaaran ' 'Sillaa ' 'JHk 1en' 'ARnts A'\n",
      " 'Suvasre' 'CalanGo' 'Enodsed' 'Cuohahi' 'Seamaha' 'Saood S' 'Shusehi'\n",
      " 'Dwntsli' 'Bhath N' 'MadinJa' 'Baalp S' 'Viara M' 'DSthian' 'Suncyu '\n",
      " 'Niers S' 'ALoraAu' 'Suleyli' 'Shncyhi' 'SKdesa ' 'Scenth ' 'MasicCl'\n",
      " 'Anair A' 'G harth' 'Prarkll' 'HMeuran' 'Apinaa ' 'i1ncyRe' 'CoDast '\n",
      " 'SLiritn' 'Upldsin' 'VRaceer' 'Siacen ' 'Arity S' 'Cedusy ' 'RodenGa'\n",
      " 'Saniai ' 'PronsAs' 'NantsGa' 'Vemit S' 'Shamzm ' 'SJces R' 'SRanail'\n",
      " 'Anncyar' 'JJr 2e ' 'Saentpa' 'Emtat H' 'Maa 5a ' 'AeisePV' 'SJovest'\n",
      " 'ThhtsV ' 'RSntsAp']\n"
     ]
    }
   ],
   "source": [
    "with np.printoptions(threshold=np.inf):\n",
    "    print(unique_vals)"
   ]
  },
  {
   "cell_type": "code",
   "execution_count": 49,
   "id": "54300caa",
   "metadata": {},
   "outputs": [
    {
     "data": {
      "text/plain": [
       "5325"
      ]
     },
     "execution_count": 49,
     "metadata": {},
     "output_type": "execute_result"
    }
   ],
   "source": [
    "df['society'].isna().sum()"
   ]
  },
  {
   "cell_type": "code",
   "execution_count": 50,
   "id": "dc83734a",
   "metadata": {},
   "outputs": [],
   "source": [
    "df['society']=df['society'].fillna(0)"
   ]
  },
  {
   "cell_type": "code",
   "execution_count": 51,
   "id": "39683af4",
   "metadata": {},
   "outputs": [
    {
     "name": "stdout",
     "output_type": "stream",
     "text": [
      "<class 'pandas.core.frame.DataFrame'>\n",
      "Index: 12775 entries, 0 to 13318\n",
      "Data columns (total 8 columns):\n",
      " #   Column         Non-Null Count  Dtype  \n",
      "---  ------         --------------  -----  \n",
      " 0   area_type      12775 non-null  object \n",
      " 1   size           12775 non-null  int64  \n",
      " 2   society        12775 non-null  object \n",
      " 3   total_sqft     12775 non-null  object \n",
      " 4   bath           12718 non-null  float64\n",
      " 5   balcony        12186 non-null  float64\n",
      " 6   price          12775 non-null  float64\n",
      " 7   Ready to move  12775 non-null  int64  \n",
      "dtypes: float64(3), int64(2), object(3)\n",
      "memory usage: 1.4+ MB\n"
     ]
    }
   ],
   "source": [
    "df.info()"
   ]
  },
  {
   "cell_type": "code",
   "execution_count": 52,
   "id": "ab046763",
   "metadata": {},
   "outputs": [],
   "source": [
    "df['society']=df['society'].apply(lambda x:x if x==0 else 1)"
   ]
  },
  {
   "cell_type": "code",
   "execution_count": 53,
   "id": "fe35c136",
   "metadata": {},
   "outputs": [
    {
     "data": {
      "text/plain": [
       "society\n",
       "1    7450\n",
       "0    5325\n",
       "Name: count, dtype: int64"
      ]
     },
     "execution_count": 53,
     "metadata": {},
     "output_type": "execute_result"
    }
   ],
   "source": [
    "df['society'].value_counts()"
   ]
  },
  {
   "cell_type": "code",
   "execution_count": 54,
   "id": "ea3f68b1",
   "metadata": {},
   "outputs": [
    {
     "data": {
      "text/plain": [
       "57"
      ]
     },
     "execution_count": 54,
     "metadata": {},
     "output_type": "execute_result"
    }
   ],
   "source": [
    "df['bath'].isna().sum()"
   ]
  },
  {
   "cell_type": "code",
   "execution_count": 55,
   "id": "73b1ff5d",
   "metadata": {},
   "outputs": [
    {
     "data": {
      "text/plain": [
       "2.708601981443623"
      ]
     },
     "execution_count": 55,
     "metadata": {},
     "output_type": "execute_result"
    }
   ],
   "source": [
    "df['bath'].mean()"
   ]
  },
  {
   "cell_type": "code",
   "execution_count": 56,
   "id": "be5e931c",
   "metadata": {},
   "outputs": [],
   "source": [
    "df['bath']=df['bath'].fillna(df['bath'].mean())"
   ]
  },
  {
   "cell_type": "code",
   "execution_count": 57,
   "id": "908bb991",
   "metadata": {},
   "outputs": [
    {
     "data": {
      "text/plain": [
       "0"
      ]
     },
     "execution_count": 57,
     "metadata": {},
     "output_type": "execute_result"
    }
   ],
   "source": [
    "df['bath'].isna().sum()"
   ]
  },
  {
   "cell_type": "code",
   "execution_count": 58,
   "id": "9624062a",
   "metadata": {},
   "outputs": [],
   "source": [
    "df['balcony']=df['balcony'].fillna(df['balcony'].mean())"
   ]
  },
  {
   "cell_type": "code",
   "execution_count": 59,
   "id": "13fde59b",
   "metadata": {},
   "outputs": [
    {
     "data": {
      "text/plain": [
       "0"
      ]
     },
     "execution_count": 59,
     "metadata": {},
     "output_type": "execute_result"
    }
   ],
   "source": [
    "df['balcony'].isna().sum()"
   ]
  },
  {
   "cell_type": "code",
   "execution_count": 60,
   "id": "8cfb4802",
   "metadata": {},
   "outputs": [
    {
     "name": "stdout",
     "output_type": "stream",
     "text": [
      "<class 'pandas.core.frame.DataFrame'>\n",
      "Index: 12775 entries, 0 to 13318\n",
      "Data columns (total 8 columns):\n",
      " #   Column         Non-Null Count  Dtype  \n",
      "---  ------         --------------  -----  \n",
      " 0   area_type      12775 non-null  object \n",
      " 1   size           12775 non-null  int64  \n",
      " 2   society        12775 non-null  int64  \n",
      " 3   total_sqft     12775 non-null  object \n",
      " 4   bath           12775 non-null  float64\n",
      " 5   balcony        12775 non-null  float64\n",
      " 6   price          12775 non-null  float64\n",
      " 7   Ready to move  12775 non-null  int64  \n",
      "dtypes: float64(3), int64(3), object(2)\n",
      "memory usage: 1.4+ MB\n"
     ]
    }
   ],
   "source": [
    "df.info()"
   ]
  },
  {
   "cell_type": "code",
   "execution_count": 61,
   "id": "aaae4b41",
   "metadata": {},
   "outputs": [
    {
     "name": "stdout",
     "output_type": "stream",
     "text": [
      "['1056' '2600' '1440' '1521' '1200' '1170' '2732' '3300' '1310' '1020'\n",
      " '1800' '2785' '1000' '1100' '2250' '1175' '1180' '1540' '2770' '600'\n",
      " '1755' '2800' '1767' '510' '1250' '660' '1610' '1151' '1025'\n",
      " '2100 - 2850' '1075' '1760' '1693' '1925' '700' '1070' '1724' '1290'\n",
      " '1143' '1296' '1254' '1330.74' '970' '1459' '800' '869' '1270' '1670'\n",
      " '2010' '1185' '1600' '3010 - 3410' '1500' '1407' '840' '4395' '845'\n",
      " '5700' '1160' '3000' '1140' '1220' '1350' '1005' '500' '1358' '1569'\n",
      " '1240' '2089' '1206' '1150' '2511' '460' '4400' '1660' '2957 - 3450'\n",
      " '1326' '1325' '1499' '1665' '708' '1060' '710' '1450' '2894' '1330'\n",
      " '2502' '650' '2400' '1007' '966' '1630' '1640' '782' '1260' '1413' '1116'\n",
      " '1530' '3700' '2497' '1436' '276' '1427' '2061' '3067 - 8156' '2650'\n",
      " '1282' '1050' '945' '950' '1870' '880' '1535' '1360' '1042 - 1105' '1280'\n",
      " '5000' '3050' '1563.05' '1167' '4000' '1828' '890' '1612' '1034' '1710'\n",
      " '957' '2795' '1125' '1735' '2050' '3750' '1063' '1904' '4200' '2000'\n",
      " '1145 - 1340' '1425' '1470' '1300' '450' '1152' '1550' '400' '705' '770'\n",
      " '1242' '1700' '2144' '1704' '1846' '1340' '1015 - 1540' '1327' '1186'\n",
      " '1783' '1400' '980' '1285' '912' '1225' '1909' '1359' '1207' '1736'\n",
      " '2850' '1595' '1798' '1475' '1580' '1295' '3600' '589' '1415' '1787'\n",
      " '984' '1520 - 1740' '2405' '1080' '1900' '805' '1153' '1148' '1110'\n",
      " '1933' '3500' '645' '1644' '910' '1577' '4050' '2420' '900' '1108' '3045'\n",
      " '2900' '1162' '1035' '1464' '1866' '1804' '913' '1868' '883' '1664'\n",
      " '2026' '1210' '4111' '1762' '1252' '861' '1420' '1490' '1084' '1015'\n",
      " '1017' '1027' '1069' '1349' '1417' '1863' '1010' '1847' '525' '1850'\n",
      " '1438' '1560' '850' '1113' '1385' '1128' '2390' '1645' '1192' '2135'\n",
      " '1173' '3122' '1230' '11' '1508' '1592' '1388' '630' '3252' '1308' '530'\n",
      " '1205' '930' '1380' '2483' '1166' '2023.71' '1935' '451' '1801' '1451'\n",
      " '1629' '1826' '1245' '1145' '825' '1113.27' '1460' '1656' '1208' '1910'\n",
      " '12000' '550' '34.46Sq. Meter' '750' '1090' '1991' '1105' '985' '1533'\n",
      " '1590' '1120' '1194' '1419' '2150' '11890' '1750' '1404' '1715' '1752.12'\n",
      " '1650' '1346' '3309' '1190' '1620' '2450' '1130' '1320' '4800' '929'\n",
      " '1753' '4500' '1196' '1040' '720' '1511' '1545' '375' '1062' '1115'\n",
      " '1195' '1246' '8500' '2805' '1584' '1353' '1599' '5230' '1155' '1867'\n",
      " '1251' '1028' '1222' '1372' '1135' '1768' '2610' '1286' '2845'\n",
      " '1195 - 1440' '3450' '1102' '656' '1780' '595' '2225' '1126' '4144'\n",
      " '2100' '2230' '1544' '1305' '967' '540' '715' '2500' '1578' '1253' '961'\n",
      " '1709' '416' '1430' '1249' '2791' '834' '2060' '891' '1133' '2440' '940'\n",
      " '2160' '4104' '1790' '1920' '1374' '1445' '711' '1720' '1030' '1375'\n",
      " '469' '3800' '1820' '875' '4125Perch' '2378' '3385' '1641' '1120 - 1145'\n",
      " '2200' '1702' '1141' '2072' '4400 - 6640' '3090 - 5002' '35000' '1355'\n",
      " '1019' '1875' '1683' '1515' '2118' '1083' '2300' '4400 - 6800' '1092'\n",
      " '2264' '1033' '810' '1045' '1337' '1570' '1855' '1823' '1094' '1202'\n",
      " '1688' '1235' '3205' '1077' '2330' '425' '5270' '1468' '4300' '2280'\n",
      " '1341' '1279' '2760' '1101' '775' '667' '735' '4360' '1215' '820'\n",
      " '1160 - 1195' '1779' '1000Sq. Meter' '1694' '2376' '1975' '674' '445'\n",
      " '1618' '2181' '1556' '1179' '1275' '1615' '4000 - 5249' '920' '1602'\n",
      " '1176' '675' '1352' '1717' '10961' '2119' '1157' '1566' '2830' '1091'\n",
      " '3670' '918' '1950' '1695' '1705' '1447' '1114' '1022' '3761' '1339'\n",
      " '1198' '1691' '1115 - 1130' '2489' '1142' '1976' '5500' '1853' '1567'\n",
      " '995' '884' '1342' '1345' '1100Sq. Yards' '1652' '1740' '1278'\n",
      " '520 - 645' '1356' '823' '1897' '1575' '975' '686' '1410' '2238' '1174'\n",
      " '793' '1082' '1001' '1554' '1000 - 1285' '4239' '1680' '2470' '2825'\n",
      " '2480' '1799' '3606 - 5091' '1047' '1495' '3260' '1611' '3206' '1639'\n",
      " '1303' '650 - 665' '901' '1725' '1396' '1825' '1565' '1891' '1161'\n",
      " '633 - 666' '315' '665' '1255' '2112.95' '1810' '1548' '1485' '1256'\n",
      " '2268' '4100' '5.31Acres' '15' '1843' '1467' '1209' '1315' '3968' '1563'\n",
      " '2169' '3235' '1036' '1662' '1234' '1403' '915' '3900' '1405' '2557'\n",
      " '1480' '30Acres' '6136' '1390' '3100' '1824' '1561' '812' '1243' '1637'\n",
      " '1265' '24' '1666' '1357' '1093' '1865' '1039' '1985' '1520' '6000'\n",
      " '1117' '1937' '1053' '1625' '1397' '1523' '996' '3095' '1445 - 1455'\n",
      " '697' '884 - 1116' '1453' '3335' '850 - 1093' '1281' '565' '1024' '1233'\n",
      " '1510' '1945' '1008' '2689' '1697' '1651' '1078' '1314' '856' '1621'\n",
      " '1484' '14000' '485' '1617' '1384' '1408' '2292' '2006' '1984' '1960'\n",
      " '3024' '1586' '2325' '1440 - 1884' '924' '1006' '2842' '1558.67' '1542'\n",
      " '2750' '3596' '1635' '1239' '1596' '1009' '1726' '925' '3356' '1395'\n",
      " '1121' '1606' '4634' '1232' '680' '3467.86' '1132' '1262' '1840' '1655'\n",
      " '1730' '2195' '1079' '1085' '3200' '1739' '4346' '935' '1178' '1065'\n",
      " '999' '1835' '2090' '1519' '1267' '1146' '3329' '785' '921' '2700' '1197'\n",
      " '716Sq. Meter' '3073' '755' '1213' '1654' '1367' '620' '982' '440' '1614'\n",
      " '1363' '1156' '1455' '1890' '2197' '3522' '764' '1381' '340' '2465'\n",
      " '547.34 - 827.31' '865' '1756' '628' '1765' '1532' '804.1' '1525' '1435'\n",
      " '1272' '1541' '1201' '1785' '1258' '1297' '1291' '1012' '2790'\n",
      " '580 - 650' '1373' '1052' '3680' '2863' '2424' '2710' '3040' '1294'\n",
      " '1808' '3516' '3850' '3770' '1537' '1512' '1378' '1277' '8000' '2550'\n",
      " '3198' '1690' '2572' '520' '1219' '1564' '3425 - 3435' '1482' '1469'\n",
      " '551' '1745' '1269.72' '1266' '1168' '1552' '1804 - 2273' '817' '2070'\n",
      " '1815' '654' '1181' '1616' '1306' '1626' '1585' '1370' '3250'\n",
      " '3630 - 3800' '660 - 670' '1193' '1678' '1500Sq. Meter' '2780' '2422'\n",
      " '882' '620 - 933' '1757' '142.61Sq. Meter' '2028' '2611' '1163' '1098'\n",
      " '1418' '2695 - 2940' '727' '2774' '1722' '914' '1184' '927' '1488' '1699'\n",
      " '712' '1476' '1429' '1188' '1574Sq. Yards' '1026' '2690' '3606' '3630'\n",
      " '1494' '1758' '3450 - 3472' '3675' '2337' '5800' '682' '1632' '1041'\n",
      " '5080' '3012' '1072' '52272' '726' '993' '1743' '1204' '640' '972' '955'\n",
      " '2479.13' '3042' '1068' '1354' '1238' '2204' '1364' '1329' '916' '688'\n",
      " '1331' '2106' '1718' '1936' '2172.65' '990' '1685' '740' '1172' '896'\n",
      " '2460' '2025' '2475' '765' '3155' '1980' '3555' '585' '2045' '6150' '671'\n",
      " '2017' '1139' '581.91' '1158' '3951' '360' '1307' '1703' '1343' '1852'\n",
      " '1546' '1424' '1398' '1322' '432' '4750' '1250 - 1305' '1571' '1031'\n",
      " '1109' '2350' '1003' '824' '9600' '1111' '2519' '1837' '1673' '1112'\n",
      " '545' '670 - 980' '1754' '3584' '2168' '3125' '1095' '870' '1708' '1183'\n",
      " '3067' '1929' '1775' '1268' '1687' '3526' '983' '2039' '1316'\n",
      " '1005.03 - 1252.49' '1605' '1313' '1934' '877' '936' '1901' '1819' '3245'\n",
      " '1845' '2254' '515' '1893' '3025' '830' '2145' '1004 - 1204'\n",
      " '361.33Sq. Yards' '987' '2556' '946' '2121' '860' '1223' '1788' '1144'\n",
      " '1862' '1646' '1995' '1692' '6040' '2040' '1311' '4850' '645 - 936'\n",
      " '1942' '668' '1089' '960' '1583' '1018' '3400' '2710 - 3360' '395' '1259'\n",
      " '1216' '1428' '605' '1444' '1187' '1452.55' '2357' '1448' '296' '1058'\n",
      " '1411' '2249.81 - 4112.19' '2503' '2524' '1634' '1603' '714' '1573'\n",
      " '1465' '351' '2526' '3436 - 3643' '965' '1229' '2830 - 2882' '1055'\n",
      " '1304' '2720' '596 - 804' '1365' '1165' '1776.42' '1107' '2319' '1536'\n",
      " '1164' '11338' '30000' '3190' '1917' '1071' '4460' '3297' '693' '1021'\n",
      " '1608' '2289' '2257' '1263' '1255 - 1863' '1043' '1300 - 1405' '590'\n",
      " '1299' '3161' '1124' '871' '3515' '1118' '1051' '1478' '1226' '3366'\n",
      " '760' '1728' '2215' '1562' '1555' '2105' '6200' '606' '527' '2321' '2167'\n",
      " '1274' '117Sq. Yards' '780' '7500' '904' '730' '977' '2540' '795' '1463'\n",
      " '2401' '2065' '934 - 1437' '980 - 1030' '1549' '1564 - 1850' '1452.19'\n",
      " '2849' '734' '799' '1896' '3875' '1493' '1366' '3010' '1446 - 1506'\n",
      " '4235' '2002' '1419.59' '5530' '1392' '1675' '792' '1248' '1147' '1527'\n",
      " '1332' '933' '461.82' '2392' '989' '1199' '1149' '2180' '1818' '2430'\n",
      " '2820' '4772' '3960' '5600' '1553' '5400' '794' '4051' '1351' '8321'\n",
      " '1777' '1576' '648' '2721' '2265' '2220' '1070 - 1315' '1888' '1559'\n",
      " '905' '829' '3040Sq. Meter' '2409' '3640' '1749' '1127' '4190' '1247'\n",
      " '420' '1672' '500Sq. Yards' '1817' '2043' '2779' '1224' '1517' '1086'\n",
      " '1588' '1020.07' '5965' '2806 - 3019' '613 - 648' '3537' '615'\n",
      " '1430 - 1630' '956' '1218' '2559' '2363' '3895' '885' '1451.5' '3016'\n",
      " '1336' '673' '1719' '664' '1011' '704 - 730' '1231' '2024' '2408' '2240'\n",
      " '1584.01' '685' '1858' '3530' '3436' '1335' '1999' '3950' '1205.47' '923'\n",
      " '3595' '1482 - 1846' '944' '832' '3259' '1457' '858' '1689.28'\n",
      " '2805 - 3565' '1241' '2340' '596' '10000' '3126' '1318' '4428' '2912'\n",
      " '1301' '1819.18' '2059' '1269' '888' '532' '902' '4025' '1676' '1137'\n",
      " '3227' '2170' '2940' '1915' '963' '1682' '1371' '3785' '1203' '350' '835'\n",
      " '815' '1134' '769' '1712' '1088' '1106' '1591' '1918' '2990' '1344'\n",
      " '2113' '1884' '703' '1302' '3262' '919' '1159' '1386' '3293 - 5314'\n",
      " '2080' '2386' '1531' '1839' '1210 - 1477' '1513' '892' '1104' '4818'\n",
      " '4355' '908' '3369 - 3464' '3216' '1023' '1574' '2360' '1452'\n",
      " '1125 - 1500' '813' '3884' '3876' '1880' '2425' '1097' '937' '897' '1653'\n",
      " '1212' '2776' '3480' '1965' '1' '1738' '2372' '167Sq. Meter' '1016'\n",
      " '1076 - 1199' '1827' '2651' '1752' '2270' '971' '7000' '2342' '381 - 535'\n",
      " '6600' '1627.86' '3004' '1182' '2215 - 2475' '635' '2062' '1874' '1171'\n",
      " '2020' '1059' '524 - 894' '2388' '1369.1' '1938' '2462' '1636' '2885'\n",
      " '1462' '607' '3295' '1076' '1053.4' '540 - 670' '315Sq. Yards' '1505'\n",
      " '1698' '2560' '1856' '1650 - 2538' '3445' '2283' '1382' '3815' '3730'\n",
      " '1391' '4827' '745' '1276' '833' '669' '1594' '1037' '3811' '1996' '2275'\n",
      " '1842' '1048' '1466' '3860' '3027' '1734' '704' '3657' '1096' '580'\n",
      " '2725 - 3250' '1830' '1746' '1732.46' '2592' '4470' '624' '722' '2775'\n",
      " '706' '610' '4356' '1394' '2138' '910.2' '4960' '575' '3179' '2928' '909'\n",
      " '1932' '655' '662' '2182' '2416' '1948' '3905' '2107' '2431' '1257'\n",
      " '1789' '2675' '1081' '3360' '2882' '2320' '1402' '4640' '818' '9000'\n",
      " '1169' '997' '958' '1288' '3035' '1974 - 2171' '661' '300' '1751' '1778'\n",
      " '814' '2006.8' '435' '1922' '888 - 1290' '3754' '1449' '1360 - 1890'\n",
      " '2658' '1711' '418' '2370' '3520' '5' '1539' '1004' '5985' '1046' '2493'\n",
      " '992' '2466 - 2856' '3580' '1067' '2461' '1437' '1795' '2155' '4260'\n",
      " '1486' '555' '4830' '2383' '1103' '1721' '2266' '1123' '1328' '2111'\n",
      " '1538' '3080' '787' '938' '660 - 700' '6613' '502' '3339' '670' '1483'\n",
      " '2162' '1733' '1221' '1376' '1832' '1974' '849' '1706' '385 - 440' '2631'\n",
      " '2792' '1518' '480' '1930' '1679' '2448' '770 - 841' '2171' '1136' '1477'\n",
      " '42000' '1312' '1793' '1551' '3563' '462' '3Cents' '1310 - 1615' '36000'\n",
      " '1113.12' '2640' '1782 - 2000' '1643' '621' '1309' '981' '1548.3' '2302'\n",
      " '1525.84' '1227' '188.89Sq. Yards' '797' '2396' '1939' '3401'\n",
      " '1469 - 1766' '1434' '2246' '4510' '560' '1138' '204Sq. Meter'\n",
      " '1255 - 1350' '725' '1766' '870 - 1080' '625' '45Sq. Yards' '948' '1914'\n",
      " '1334' '3940' '2777.29' '1014' '695' '2273' '3160' '1769'\n",
      " '133.3Sq. Yards' '1554.3' '4920' '627' '3405.1' '1498' '922' '2403'\n",
      " '1236' '2570' '1442' '1732' '2580 - 2591' '881' '951' '1652.5' '3532'\n",
      " '2601' '2159' '906' '4700' '2384' '941' '1414' '2563 - 2733' '2005'\n",
      " '605 - 624' '4260 - 4408' '2582' '2663' '2127' '1349 - 3324' '3930'\n",
      " '1293' '45' '658' '78.03Sq. Meter' '1208.51' '3300 - 3335' '1622' '2435'\n",
      " '1737' '1776' '1347' '2259' '2328' '1180 - 1630' '602' '806' '1416'\n",
      " '1628' '1660.4' '1507' '1949' '4075' '2880' '1987' '1191' '497' '672'\n",
      " '2245' '1597' '2423' '3131' '827' '396' '4273' '1261' '1458'\n",
      " '1365 - 1700' '876' '690' '3500 - 3600' '1073' '122Sq. Yards' '2172'\n",
      " '1689' '1667' '934' '84.53Sq. Meter' '651' '2.09Acres' '1482 - 1684'\n",
      " '2075' '583' '981 - 1249' '2099' '1237' '2108' '2968' '644' '1859'\n",
      " '1100 - 1225' '1565 - 1595' '2232' '2932' '3425' '1504' '3820' '24Guntha'\n",
      " '1831' '1270 - 1275' '840 - 1010' '947' '697Sq. Meter' '1805' '1677'\n",
      " '1716' '1864' '638' '4856' '4003' '1492' '1489' '1431' '3664' '539'\n",
      " '2520' '2173' '655 - 742' '3170' '907' '1741' '3463' '2120' '1107.83'\n",
      " '505' '1408 - 1455' '2901' '4050 - 4075' '1713' '1266.67' '942 - 1117'\n",
      " '2679' '1777.26' '3044' '3150' '3090' '1750 - 2640' '2093' '790' '1744'\n",
      " '2476' '1877' '1649' '766' '1593' '1333' '1390 - 1600' '598 - 958' '1631'\n",
      " '1013' '1500Cents' '4250' '1829' '5720' '2047' '2132' '1412' '1044'\n",
      " '7200' '646' '2456' '1439' '2210' '1409' '5924' '552' '2365' '864' '1806'\n",
      " '1066' '2293' '1903' '1567.2' '26136' '959' '132Sq. Yards' '855' '1885'\n",
      " '1691.2' '1010 - 1300' '2122' '11000' '1099' '2Acres' '1283'\n",
      " '3103 - 3890' '1450 - 1950' '2023' '2274.24' '4900' '2079' '3589' '1770'\n",
      " '1244' '470' '2095' '2134' '2515' '1970' '2665' '2130' '1100Sq. Meter'\n",
      " '947.55' '1421' '15Acres' '3990' '2501' '381' '3301.8' '1450 - 1595'\n",
      " '3204' '3408' '1496' '1860' '3489' '4166' '1763' '763 - 805' '1002'\n",
      " '3307 - 3464' '2260' '1.26Acres' '5422' '620 - 934' '1542.14' '3746'\n",
      " '5100' '2144.6' '1087' '1061' '2462 - 2467' '540 - 740' '10200' '5200'\n",
      " '1618 - 1929' '20000' '1284' '3508 - 4201' '1613' '6830' '3692' '1503'\n",
      " '4408' '7800' '1962' '1894' '1568' '4900 - 4940' '3060' '873' '2666'\n",
      " '1610 - 1880' '3633' '755 - 770' '3978' '3621' '2008' '1362' '694' '1674'\n",
      " '3033' '1181.7' '1338' '2625' '2041' '3565' '1502' '3870' '4097' '1601'\n",
      " '664 - 722' '2380' '3569' '151.11Sq. Yards' '3435' '3144' '700 - 900'\n",
      " '3602' '1074' '596 - 861' '952' '1432' '2251' '2439' '1032' '1998' '3056'\n",
      " '808' '1836' '826' '2317' '666' '3293' '3197' '1516' '1491' '1881' '1217'\n",
      " '3230' '1925 - 2680' '973' '4110' '2533' '615 - 985' '2297' '1057' '1471'\n",
      " '3855' '7400' '4170' '2375' '1506' '1872' '5108' '1393' '2496' '8400'\n",
      " '1558' '1054' '2646' '1633' '540 - 565' '2736' '616' '6500' '1547' '663'\n",
      " '1707' '1324' '1786' '1368' '535' '2003' '2504' '4290' '410' '2087.01'\n",
      " '750 - 800' '1660 - 1805' '2704' '3760' '3071' '4600' '2429' '2925'\n",
      " '1919' '1719.3' '1668' '1609' '3420' '1861' '3362' '1410 - 1710'\n",
      " '1079 - 1183' '2800 - 2870' '2015' '1230 - 1290' '2048' '1119'\n",
      " '943 - 1220' '1797' '1816' '2041 - 2090' '588' '1234.6' '492' '1902'\n",
      " '1214' '753' '1763.25' '527 - 639' '1129' '2367' '456' '4320' '534'\n",
      " '2249.81' '3626' '2110' '4560' '1Grounds' '1160 - 1315' '706 - 716'\n",
      " '3560' '1441' '3508' '2940Sq. Yards' '2996' '994' '702' '3496' '612'\n",
      " '1623' '1792' '1587' '2125' '1529' '1319' '991' '717' '3117' '1844'\n",
      " '1791 - 4000' '2648' '2223' '45.06Sq. Meter' '799 - 803' '2185' '998'\n",
      " '2733' '1389' '2970' '1907' '4446' '2470 - 2790' '3009' '783 - 943'\n",
      " '1905' '5384' '1723' '1607' '5150' '2956' '1522' '3210' '5425' '978'\n",
      " '4041' '3628' '2437' '3270' '857' '2247' '2980' '570' '2087' '4278'\n",
      " '4500 - 5540' '10030' '3005' '4201' '4382' '2140' '1921' '1669' '2285'\n",
      " '1642' '1361' '2801.25' '1688.12' '939' '1298' '3350' '1255 - 1375'\n",
      " '2950' '1733.5' '10624' '3418' '691' '3092' '610 - 615' '3913' '1049'\n",
      " '2030' '2404' '1423' '633' '854 - 960' '2597' '1211' '1981' '2650 - 2990'\n",
      " '7514' '1.25Acres' '86.72Sq. Meter' '2735' '1287' '284' '2077' '499'\n",
      " '2826' '4550' '524' '1230 - 1490' '2495' '3075' '1426' '2082' '2214'\n",
      " '896.9' '2064' '488' '660 - 780' '2916' '2088' '581' '516' '2569' '3758'\n",
      " '1383' '2316' '1626.6' '1348' '4303' '1990' '1940' '1189' '4482' '986'\n",
      " '1150 - 1194' '2507' '684 - 810' '866.28' '3410' '2098' '1761' '509'\n",
      " '3535' '1154' '3019' '1510 - 1670' '1748' '1604' '1248.52' '1370.07'\n",
      " '1550 - 1590' '777.4' '1886' '3453' '623' '2546' '943' '1879' '1401'\n",
      " '1235 - 1410' '3484 - 3550' '1139.7' '1323' '38Guntha' '3280' '1581'\n",
      " '929 - 1078' '2150 - 2225' '2051' '3381' '2312' '1520 - 1759' '4450'\n",
      " '784' '6652' '976' '4694' '302' '629 - 1026' '2282' '1814' '2695' '60'\n",
      " '1215 - 1495' '842' '6Acres' '1140 - 1250' '4304' '4209' '2415' '1731'\n",
      " '1589' '1473' '4040' '2406' '2400 - 2600' '2137' '2787' '3175'\n",
      " '1052 - 1322' '2035' '8840' '1684' '5666 - 5669' '614' '2162.03' '6729'\n",
      " '893' '2019' '1747' '1524' '1273' '2615' '772' '2999.97' '1289' '1377'\n",
      " '1892' '2176' '3554' '3671' '1681' '2236' '2955' '1950.2' '712 - 938'\n",
      " '2171.66' '1783 - 1878' '120Sq. Yards' '3729' '953' '5515' '24Sq. Meter'\n",
      " '1321' '1317' '2528 - 3188' '2031' '1454' '2153' '475' '1623.29'\n",
      " '650 - 760' '5480' '5656' '866' '3504' '4723' '2453' '2505' '567'\n",
      " '1400 - 1421' '4350' '1443' '886' '16335' '747' '1857' '1876' '1916'\n",
      " '4000 - 4450' '142.84Sq. Meter' '3734' '964' '4007' '300Sq. Yards' '2875'\n",
      " '2295' '1686' '1989' '754' '2444' '3290' '1932.47' '2086' '2204 - 2362'\n",
      " '911' '2206' '1659' '2485' '1437 - 1629' '850 - 1060' '30400' '1701'\n",
      " '1264' '1557' '1200 - 1470' '7150' '1369' '5665.84' '2920' '6688'\n",
      " '1331.95' '2872' '1648' '1379' '3124' '9200' '613' '250' '2395'\n",
      " '1020 - 1130' '2758' '1133 - 1384' '774' '4689']\n"
     ]
    }
   ],
   "source": [
    "uniq=df['total_sqft'].unique()\n",
    "with np.printoptions(threshold=np.inf):\n",
    "    print(uniq)"
   ]
  },
  {
   "cell_type": "code",
   "execution_count": 62,
   "id": "e0ec87a1",
   "metadata": {},
   "outputs": [],
   "source": [
    "#droping sq area as values are inconsistent"
   ]
  },
  {
   "cell_type": "code",
   "execution_count": 63,
   "id": "0d9f72ab",
   "metadata": {},
   "outputs": [],
   "source": [
    "df.drop(columns='total_sqft',inplace=True)"
   ]
  },
  {
   "cell_type": "code",
   "execution_count": 64,
   "id": "7b6445b3",
   "metadata": {},
   "outputs": [],
   "source": [
    "df.drop(columns='area_type',inplace=True)"
   ]
  },
  {
   "cell_type": "code",
   "execution_count": 65,
   "id": "5c314e42",
   "metadata": {},
   "outputs": [
    {
     "data": {
      "text/html": [
       "<div>\n",
       "<style scoped>\n",
       "    .dataframe tbody tr th:only-of-type {\n",
       "        vertical-align: middle;\n",
       "    }\n",
       "\n",
       "    .dataframe tbody tr th {\n",
       "        vertical-align: top;\n",
       "    }\n",
       "\n",
       "    .dataframe thead th {\n",
       "        text-align: right;\n",
       "    }\n",
       "</style>\n",
       "<table border=\"1\" class=\"dataframe\">\n",
       "  <thead>\n",
       "    <tr style=\"text-align: right;\">\n",
       "      <th></th>\n",
       "      <th>size</th>\n",
       "      <th>society</th>\n",
       "      <th>bath</th>\n",
       "      <th>balcony</th>\n",
       "      <th>price</th>\n",
       "      <th>Ready to move</th>\n",
       "    </tr>\n",
       "  </thead>\n",
       "  <tbody>\n",
       "    <tr>\n",
       "      <th>0</th>\n",
       "      <td>2</td>\n",
       "      <td>1</td>\n",
       "      <td>2.0</td>\n",
       "      <td>1.000000</td>\n",
       "      <td>39.07</td>\n",
       "      <td>0</td>\n",
       "    </tr>\n",
       "    <tr>\n",
       "      <th>1</th>\n",
       "      <td>4</td>\n",
       "      <td>1</td>\n",
       "      <td>5.0</td>\n",
       "      <td>3.000000</td>\n",
       "      <td>120.00</td>\n",
       "      <td>1</td>\n",
       "    </tr>\n",
       "    <tr>\n",
       "      <th>2</th>\n",
       "      <td>3</td>\n",
       "      <td>0</td>\n",
       "      <td>2.0</td>\n",
       "      <td>3.000000</td>\n",
       "      <td>62.00</td>\n",
       "      <td>1</td>\n",
       "    </tr>\n",
       "    <tr>\n",
       "      <th>3</th>\n",
       "      <td>3</td>\n",
       "      <td>1</td>\n",
       "      <td>3.0</td>\n",
       "      <td>1.000000</td>\n",
       "      <td>95.00</td>\n",
       "      <td>1</td>\n",
       "    </tr>\n",
       "    <tr>\n",
       "      <th>4</th>\n",
       "      <td>2</td>\n",
       "      <td>0</td>\n",
       "      <td>2.0</td>\n",
       "      <td>1.000000</td>\n",
       "      <td>51.00</td>\n",
       "      <td>1</td>\n",
       "    </tr>\n",
       "    <tr>\n",
       "      <th>5</th>\n",
       "      <td>2</td>\n",
       "      <td>1</td>\n",
       "      <td>2.0</td>\n",
       "      <td>1.000000</td>\n",
       "      <td>38.00</td>\n",
       "      <td>1</td>\n",
       "    </tr>\n",
       "    <tr>\n",
       "      <th>6</th>\n",
       "      <td>4</td>\n",
       "      <td>1</td>\n",
       "      <td>4.0</td>\n",
       "      <td>1.582308</td>\n",
       "      <td>204.00</td>\n",
       "      <td>0</td>\n",
       "    </tr>\n",
       "    <tr>\n",
       "      <th>7</th>\n",
       "      <td>4</td>\n",
       "      <td>1</td>\n",
       "      <td>4.0</td>\n",
       "      <td>1.582308</td>\n",
       "      <td>600.00</td>\n",
       "      <td>1</td>\n",
       "    </tr>\n",
       "    <tr>\n",
       "      <th>8</th>\n",
       "      <td>3</td>\n",
       "      <td>0</td>\n",
       "      <td>3.0</td>\n",
       "      <td>1.000000</td>\n",
       "      <td>63.25</td>\n",
       "      <td>1</td>\n",
       "    </tr>\n",
       "    <tr>\n",
       "      <th>9</th>\n",
       "      <td>6</td>\n",
       "      <td>0</td>\n",
       "      <td>6.0</td>\n",
       "      <td>1.582308</td>\n",
       "      <td>370.00</td>\n",
       "      <td>1</td>\n",
       "    </tr>\n",
       "  </tbody>\n",
       "</table>\n",
       "</div>"
      ],
      "text/plain": [
       "   size  society  bath   balcony   price  Ready to move\n",
       "0     2        1   2.0  1.000000   39.07              0\n",
       "1     4        1   5.0  3.000000  120.00              1\n",
       "2     3        0   2.0  3.000000   62.00              1\n",
       "3     3        1   3.0  1.000000   95.00              1\n",
       "4     2        0   2.0  1.000000   51.00              1\n",
       "5     2        1   2.0  1.000000   38.00              1\n",
       "6     4        1   4.0  1.582308  204.00              0\n",
       "7     4        1   4.0  1.582308  600.00              1\n",
       "8     3        0   3.0  1.000000   63.25              1\n",
       "9     6        0   6.0  1.582308  370.00              1"
      ]
     },
     "execution_count": 65,
     "metadata": {},
     "output_type": "execute_result"
    }
   ],
   "source": [
    "df.head(10)"
   ]
  },
  {
   "cell_type": "code",
   "execution_count": 66,
   "id": "fa9cf39b",
   "metadata": {},
   "outputs": [],
   "source": [
    "df=df.rename(columns={\"size\":\"Bedrooms\",\"bath\":\"bathrooms\"})"
   ]
  },
  {
   "cell_type": "code",
   "execution_count": 67,
   "id": "aac59c0a",
   "metadata": {},
   "outputs": [
    {
     "data": {
      "text/html": [
       "<div>\n",
       "<style scoped>\n",
       "    .dataframe tbody tr th:only-of-type {\n",
       "        vertical-align: middle;\n",
       "    }\n",
       "\n",
       "    .dataframe tbody tr th {\n",
       "        vertical-align: top;\n",
       "    }\n",
       "\n",
       "    .dataframe thead th {\n",
       "        text-align: right;\n",
       "    }\n",
       "</style>\n",
       "<table border=\"1\" class=\"dataframe\">\n",
       "  <thead>\n",
       "    <tr style=\"text-align: right;\">\n",
       "      <th></th>\n",
       "      <th>Bedrooms</th>\n",
       "      <th>society</th>\n",
       "      <th>bathrooms</th>\n",
       "      <th>balcony</th>\n",
       "      <th>price</th>\n",
       "      <th>Ready to move</th>\n",
       "    </tr>\n",
       "  </thead>\n",
       "  <tbody>\n",
       "    <tr>\n",
       "      <th>0</th>\n",
       "      <td>2</td>\n",
       "      <td>1</td>\n",
       "      <td>2.0</td>\n",
       "      <td>1.000000</td>\n",
       "      <td>39.07</td>\n",
       "      <td>0</td>\n",
       "    </tr>\n",
       "    <tr>\n",
       "      <th>1</th>\n",
       "      <td>4</td>\n",
       "      <td>1</td>\n",
       "      <td>5.0</td>\n",
       "      <td>3.000000</td>\n",
       "      <td>120.00</td>\n",
       "      <td>1</td>\n",
       "    </tr>\n",
       "    <tr>\n",
       "      <th>2</th>\n",
       "      <td>3</td>\n",
       "      <td>0</td>\n",
       "      <td>2.0</td>\n",
       "      <td>3.000000</td>\n",
       "      <td>62.00</td>\n",
       "      <td>1</td>\n",
       "    </tr>\n",
       "    <tr>\n",
       "      <th>3</th>\n",
       "      <td>3</td>\n",
       "      <td>1</td>\n",
       "      <td>3.0</td>\n",
       "      <td>1.000000</td>\n",
       "      <td>95.00</td>\n",
       "      <td>1</td>\n",
       "    </tr>\n",
       "    <tr>\n",
       "      <th>4</th>\n",
       "      <td>2</td>\n",
       "      <td>0</td>\n",
       "      <td>2.0</td>\n",
       "      <td>1.000000</td>\n",
       "      <td>51.00</td>\n",
       "      <td>1</td>\n",
       "    </tr>\n",
       "    <tr>\n",
       "      <th>...</th>\n",
       "      <td>...</td>\n",
       "      <td>...</td>\n",
       "      <td>...</td>\n",
       "      <td>...</td>\n",
       "      <td>...</td>\n",
       "      <td>...</td>\n",
       "    </tr>\n",
       "    <tr>\n",
       "      <th>13314</th>\n",
       "      <td>3</td>\n",
       "      <td>1</td>\n",
       "      <td>3.0</td>\n",
       "      <td>3.000000</td>\n",
       "      <td>112.00</td>\n",
       "      <td>1</td>\n",
       "    </tr>\n",
       "    <tr>\n",
       "      <th>13315</th>\n",
       "      <td>5</td>\n",
       "      <td>1</td>\n",
       "      <td>4.0</td>\n",
       "      <td>0.000000</td>\n",
       "      <td>231.00</td>\n",
       "      <td>1</td>\n",
       "    </tr>\n",
       "    <tr>\n",
       "      <th>13316</th>\n",
       "      <td>4</td>\n",
       "      <td>0</td>\n",
       "      <td>5.0</td>\n",
       "      <td>1.582308</td>\n",
       "      <td>400.00</td>\n",
       "      <td>1</td>\n",
       "    </tr>\n",
       "    <tr>\n",
       "      <th>13317</th>\n",
       "      <td>2</td>\n",
       "      <td>1</td>\n",
       "      <td>2.0</td>\n",
       "      <td>1.000000</td>\n",
       "      <td>60.00</td>\n",
       "      <td>1</td>\n",
       "    </tr>\n",
       "    <tr>\n",
       "      <th>13318</th>\n",
       "      <td>4</td>\n",
       "      <td>1</td>\n",
       "      <td>4.0</td>\n",
       "      <td>1.000000</td>\n",
       "      <td>488.00</td>\n",
       "      <td>0</td>\n",
       "    </tr>\n",
       "  </tbody>\n",
       "</table>\n",
       "<p>12775 rows × 6 columns</p>\n",
       "</div>"
      ],
      "text/plain": [
       "       Bedrooms  society  bathrooms   balcony   price  Ready to move\n",
       "0             2        1        2.0  1.000000   39.07              0\n",
       "1             4        1        5.0  3.000000  120.00              1\n",
       "2             3        0        2.0  3.000000   62.00              1\n",
       "3             3        1        3.0  1.000000   95.00              1\n",
       "4             2        0        2.0  1.000000   51.00              1\n",
       "...         ...      ...        ...       ...     ...            ...\n",
       "13314         3        1        3.0  3.000000  112.00              1\n",
       "13315         5        1        4.0  0.000000  231.00              1\n",
       "13316         4        0        5.0  1.582308  400.00              1\n",
       "13317         2        1        2.0  1.000000   60.00              1\n",
       "13318         4        1        4.0  1.000000  488.00              0\n",
       "\n",
       "[12775 rows x 6 columns]"
      ]
     },
     "execution_count": 67,
     "metadata": {},
     "output_type": "execute_result"
    }
   ],
   "source": [
    "df"
   ]
  },
  {
   "cell_type": "code",
   "execution_count": 68,
   "id": "3fbc9204",
   "metadata": {},
   "outputs": [],
   "source": [
    "new_cols=['Ready to move','society','Bedrooms','bathrooms','balcony','price']\n",
    "df_final=df.reindex(columns=new_cols)"
   ]
  },
  {
   "cell_type": "code",
   "execution_count": 69,
   "id": "5f96ee50",
   "metadata": {},
   "outputs": [
    {
     "data": {
      "text/html": [
       "<div>\n",
       "<style scoped>\n",
       "    .dataframe tbody tr th:only-of-type {\n",
       "        vertical-align: middle;\n",
       "    }\n",
       "\n",
       "    .dataframe tbody tr th {\n",
       "        vertical-align: top;\n",
       "    }\n",
       "\n",
       "    .dataframe thead th {\n",
       "        text-align: right;\n",
       "    }\n",
       "</style>\n",
       "<table border=\"1\" class=\"dataframe\">\n",
       "  <thead>\n",
       "    <tr style=\"text-align: right;\">\n",
       "      <th></th>\n",
       "      <th>Ready to move</th>\n",
       "      <th>society</th>\n",
       "      <th>Bedrooms</th>\n",
       "      <th>bathrooms</th>\n",
       "      <th>balcony</th>\n",
       "      <th>price</th>\n",
       "    </tr>\n",
       "  </thead>\n",
       "  <tbody>\n",
       "    <tr>\n",
       "      <th>0</th>\n",
       "      <td>0</td>\n",
       "      <td>1</td>\n",
       "      <td>2</td>\n",
       "      <td>2.0</td>\n",
       "      <td>1.0</td>\n",
       "      <td>39.07</td>\n",
       "    </tr>\n",
       "    <tr>\n",
       "      <th>1</th>\n",
       "      <td>1</td>\n",
       "      <td>1</td>\n",
       "      <td>4</td>\n",
       "      <td>5.0</td>\n",
       "      <td>3.0</td>\n",
       "      <td>120.00</td>\n",
       "    </tr>\n",
       "    <tr>\n",
       "      <th>2</th>\n",
       "      <td>1</td>\n",
       "      <td>0</td>\n",
       "      <td>3</td>\n",
       "      <td>2.0</td>\n",
       "      <td>3.0</td>\n",
       "      <td>62.00</td>\n",
       "    </tr>\n",
       "    <tr>\n",
       "      <th>3</th>\n",
       "      <td>1</td>\n",
       "      <td>1</td>\n",
       "      <td>3</td>\n",
       "      <td>3.0</td>\n",
       "      <td>1.0</td>\n",
       "      <td>95.00</td>\n",
       "    </tr>\n",
       "    <tr>\n",
       "      <th>4</th>\n",
       "      <td>1</td>\n",
       "      <td>0</td>\n",
       "      <td>2</td>\n",
       "      <td>2.0</td>\n",
       "      <td>1.0</td>\n",
       "      <td>51.00</td>\n",
       "    </tr>\n",
       "  </tbody>\n",
       "</table>\n",
       "</div>"
      ],
      "text/plain": [
       "   Ready to move  society  Bedrooms  bathrooms  balcony   price\n",
       "0              0        1         2        2.0      1.0   39.07\n",
       "1              1        1         4        5.0      3.0  120.00\n",
       "2              1        0         3        2.0      3.0   62.00\n",
       "3              1        1         3        3.0      1.0   95.00\n",
       "4              1        0         2        2.0      1.0   51.00"
      ]
     },
     "execution_count": 69,
     "metadata": {},
     "output_type": "execute_result"
    }
   ],
   "source": [
    "df_final.head()"
   ]
  },
  {
   "cell_type": "code",
   "execution_count": 70,
   "id": "749390ac",
   "metadata": {},
   "outputs": [
    {
     "name": "stdout",
     "output_type": "stream",
     "text": [
      "Defaulting to user installation because normal site-packages is not writeable\n",
      "Requirement already satisfied: seaborn in c:\\users\\mrchi\\appdata\\local\\packages\\pythonsoftwarefoundation.python.3.12_qbz5n2kfra8p0\\localcache\\local-packages\\python312\\site-packages (0.13.2)\n",
      "Requirement already satisfied: numpy!=1.24.0,>=1.20 in c:\\users\\mrchi\\appdata\\local\\packages\\pythonsoftwarefoundation.python.3.12_qbz5n2kfra8p0\\localcache\\local-packages\\python312\\site-packages (from seaborn) (1.26.4)\n",
      "Requirement already satisfied: pandas>=1.2 in c:\\users\\mrchi\\appdata\\local\\packages\\pythonsoftwarefoundation.python.3.12_qbz5n2kfra8p0\\localcache\\local-packages\\python312\\site-packages (from seaborn) (2.2.3)\n",
      "Requirement already satisfied: matplotlib!=3.6.1,>=3.4 in c:\\users\\mrchi\\appdata\\local\\packages\\pythonsoftwarefoundation.python.3.12_qbz5n2kfra8p0\\localcache\\local-packages\\python312\\site-packages (from seaborn) (3.10.0)\n",
      "Requirement already satisfied: contourpy>=1.0.1 in c:\\users\\mrchi\\appdata\\local\\packages\\pythonsoftwarefoundation.python.3.12_qbz5n2kfra8p0\\localcache\\local-packages\\python312\\site-packages (from matplotlib!=3.6.1,>=3.4->seaborn) (1.3.1)\n",
      "Requirement already satisfied: cycler>=0.10 in c:\\users\\mrchi\\appdata\\local\\packages\\pythonsoftwarefoundation.python.3.12_qbz5n2kfra8p0\\localcache\\local-packages\\python312\\site-packages (from matplotlib!=3.6.1,>=3.4->seaborn) (0.12.1)\n",
      "Requirement already satisfied: fonttools>=4.22.0 in c:\\users\\mrchi\\appdata\\local\\packages\\pythonsoftwarefoundation.python.3.12_qbz5n2kfra8p0\\localcache\\local-packages\\python312\\site-packages (from matplotlib!=3.6.1,>=3.4->seaborn) (4.55.3)\n",
      "Requirement already satisfied: kiwisolver>=1.3.1 in c:\\users\\mrchi\\appdata\\local\\packages\\pythonsoftwarefoundation.python.3.12_qbz5n2kfra8p0\\localcache\\local-packages\\python312\\site-packages (from matplotlib!=3.6.1,>=3.4->seaborn) (1.4.8)\n",
      "Requirement already satisfied: packaging>=20.0 in c:\\users\\mrchi\\appdata\\local\\packages\\pythonsoftwarefoundation.python.3.12_qbz5n2kfra8p0\\localcache\\local-packages\\python312\\site-packages (from matplotlib!=3.6.1,>=3.4->seaborn) (24.1)\n",
      "Requirement already satisfied: pillow>=8 in c:\\users\\mrchi\\appdata\\local\\packages\\pythonsoftwarefoundation.python.3.12_qbz5n2kfra8p0\\localcache\\local-packages\\python312\\site-packages (from matplotlib!=3.6.1,>=3.4->seaborn) (11.0.0)\n",
      "Requirement already satisfied: pyparsing>=2.3.1 in c:\\users\\mrchi\\appdata\\local\\packages\\pythonsoftwarefoundation.python.3.12_qbz5n2kfra8p0\\localcache\\local-packages\\python312\\site-packages (from matplotlib!=3.6.1,>=3.4->seaborn) (3.2.0)\n",
      "Requirement already satisfied: python-dateutil>=2.7 in c:\\users\\mrchi\\appdata\\local\\packages\\pythonsoftwarefoundation.python.3.12_qbz5n2kfra8p0\\localcache\\local-packages\\python312\\site-packages (from matplotlib!=3.6.1,>=3.4->seaborn) (2.9.0.post0)\n",
      "Requirement already satisfied: pytz>=2020.1 in c:\\users\\mrchi\\appdata\\local\\packages\\pythonsoftwarefoundation.python.3.12_qbz5n2kfra8p0\\localcache\\local-packages\\python312\\site-packages (from pandas>=1.2->seaborn) (2024.2)\n",
      "Requirement already satisfied: tzdata>=2022.7 in c:\\users\\mrchi\\appdata\\local\\packages\\pythonsoftwarefoundation.python.3.12_qbz5n2kfra8p0\\localcache\\local-packages\\python312\\site-packages (from pandas>=1.2->seaborn) (2024.2)\n",
      "Requirement already satisfied: six>=1.5 in c:\\users\\mrchi\\appdata\\local\\packages\\pythonsoftwarefoundation.python.3.12_qbz5n2kfra8p0\\localcache\\local-packages\\python312\\site-packages (from python-dateutil>=2.7->matplotlib!=3.6.1,>=3.4->seaborn) (1.17.0)\n"
     ]
    }
   ],
   "source": [
    "!pip install seaborn"
   ]
  },
  {
   "cell_type": "code",
   "execution_count": 71,
   "id": "96645e5a",
   "metadata": {},
   "outputs": [
    {
     "data": {
      "text/plain": [
       "<Axes: >"
      ]
     },
     "execution_count": 71,
     "metadata": {},
     "output_type": "execute_result"
    },
    {
     "data": {
      "image/png": "[encoded data removed]",
      "text/plain": [
       "<Figure size 640x480 with 2 Axes>"
      ]
     },
     "metadata": {},
     "output_type": "display_data"
    }
   ],
   "source": [
    "import seaborn as sns\n",
    "sns.heatmap(df_final.corr(),annot=True)"
   ]
  },
  {
   "cell_type": "markdown",
   "id": "f37875e3",
   "metadata": {},
   "source": [
    "It can be clearly seen that ready to move and society has no impacts on the price so we will drop these columns to make things simple."
   ]
  },
  {
   "cell_type": "code",
   "execution_count": 72,
   "id": "68fa31a0",
   "metadata": {},
   "outputs": [],
   "source": [
    "df_final.drop(columns=['Ready to move','society'],inplace=True)"
   ]
  },
  {
   "cell_type": "code",
   "execution_count": 73,
   "id": "70e9d57a",
   "metadata": {},
   "outputs": [
    {
     "data": {
      "text/html": [
       "<div>\n",
       "<style scoped>\n",
       "    .dataframe tbody tr th:only-of-type {\n",
       "        vertical-align: middle;\n",
       "    }\n",
       "\n",
       "    .dataframe tbody tr th {\n",
       "        vertical-align: top;\n",
       "    }\n",
       "\n",
       "    .dataframe thead th {\n",
       "        text-align: right;\n",
       "    }\n",
       "</style>\n",
       "<table border=\"1\" class=\"dataframe\">\n",
       "  <thead>\n",
       "    <tr style=\"text-align: right;\">\n",
       "      <th></th>\n",
       "      <th>Bedrooms</th>\n",
       "      <th>bathrooms</th>\n",
       "      <th>balcony</th>\n",
       "      <th>price</th>\n",
       "    </tr>\n",
       "  </thead>\n",
       "  <tbody>\n",
       "    <tr>\n",
       "      <th>0</th>\n",
       "      <td>2</td>\n",
       "      <td>2.0</td>\n",
       "      <td>1.000000</td>\n",
       "      <td>39.07</td>\n",
       "    </tr>\n",
       "    <tr>\n",
       "      <th>1</th>\n",
       "      <td>4</td>\n",
       "      <td>5.0</td>\n",
       "      <td>3.000000</td>\n",
       "      <td>120.00</td>\n",
       "    </tr>\n",
       "    <tr>\n",
       "      <th>2</th>\n",
       "      <td>3</td>\n",
       "      <td>2.0</td>\n",
       "      <td>3.000000</td>\n",
       "      <td>62.00</td>\n",
       "    </tr>\n",
       "    <tr>\n",
       "      <th>3</th>\n",
       "      <td>3</td>\n",
       "      <td>3.0</td>\n",
       "      <td>1.000000</td>\n",
       "      <td>95.00</td>\n",
       "    </tr>\n",
       "    <tr>\n",
       "      <th>4</th>\n",
       "      <td>2</td>\n",
       "      <td>2.0</td>\n",
       "      <td>1.000000</td>\n",
       "      <td>51.00</td>\n",
       "    </tr>\n",
       "    <tr>\n",
       "      <th>...</th>\n",
       "      <td>...</td>\n",
       "      <td>...</td>\n",
       "      <td>...</td>\n",
       "      <td>...</td>\n",
       "    </tr>\n",
       "    <tr>\n",
       "      <th>13314</th>\n",
       "      <td>3</td>\n",
       "      <td>3.0</td>\n",
       "      <td>3.000000</td>\n",
       "      <td>112.00</td>\n",
       "    </tr>\n",
       "    <tr>\n",
       "      <th>13315</th>\n",
       "      <td>5</td>\n",
       "      <td>4.0</td>\n",
       "      <td>0.000000</td>\n",
       "      <td>231.00</td>\n",
       "    </tr>\n",
       "    <tr>\n",
       "      <th>13316</th>\n",
       "      <td>4</td>\n",
       "      <td>5.0</td>\n",
       "      <td>1.582308</td>\n",
       "      <td>400.00</td>\n",
       "    </tr>\n",
       "    <tr>\n",
       "      <th>13317</th>\n",
       "      <td>2</td>\n",
       "      <td>2.0</td>\n",
       "      <td>1.000000</td>\n",
       "      <td>60.00</td>\n",
       "    </tr>\n",
       "    <tr>\n",
       "      <th>13318</th>\n",
       "      <td>4</td>\n",
       "      <td>4.0</td>\n",
       "      <td>1.000000</td>\n",
       "      <td>488.00</td>\n",
       "    </tr>\n",
       "  </tbody>\n",
       "</table>\n",
       "<p>12775 rows × 4 columns</p>\n",
       "</div>"
      ],
      "text/plain": [
       "       Bedrooms  bathrooms   balcony   price\n",
       "0             2        2.0  1.000000   39.07\n",
       "1             4        5.0  3.000000  120.00\n",
       "2             3        2.0  3.000000   62.00\n",
       "3             3        3.0  1.000000   95.00\n",
       "4             2        2.0  1.000000   51.00\n",
       "...         ...        ...       ...     ...\n",
       "13314         3        3.0  3.000000  112.00\n",
       "13315         5        4.0  0.000000  231.00\n",
       "13316         4        5.0  1.582308  400.00\n",
       "13317         2        2.0  1.000000   60.00\n",
       "13318         4        4.0  1.000000  488.00\n",
       "\n",
       "[12775 rows x 4 columns]"
      ]
     },
     "execution_count": 73,
     "metadata": {},
     "output_type": "execute_result"
    }
   ],
   "source": [
    "df_final"
   ]
  },
  {
   "cell_type": "code",
   "execution_count": 74,
   "id": "72f2175c",
   "metadata": {},
   "outputs": [
    {
     "data": {
      "image/png": "[encoded data removed]",
      "text/plain": [
       "<Figure size 640x480 with 1 Axes>"
      ]
     },
     "metadata": {},
     "output_type": "display_data"
    }
   ],
   "source": [
    "import matplotlib.pyplot as plt\n",
    "plt.scatter(x=df_final['Bedrooms']+df_final['bathrooms'],y=df['price'])\n",
    "plt.show()\n",
    "            \n"
   ]
  },
  {
   "cell_type": "code",
   "execution_count": 75,
   "id": "05c108b6",
   "metadata": {},
   "outputs": [
    {
     "data": {
      "text/plain": [
       "<seaborn.axisgrid.PairGrid at 0x21baf3e0320>"
      ]
     },
     "execution_count": 75,
     "metadata": {},
     "output_type": "execute_result"
    },
    {
     "data": {
      "image/png": "[encoded data removed]",
      "text/plain": [
       "<Figure size 1000x1000 with 20 Axes>"
      ]
     },
     "metadata": {},
     "output_type": "display_data"
    }
   ],
   "source": [
    "sns.pairplot(df_final)"
   ]
  },
  {
   "cell_type": "code",
   "execution_count": 76,
   "id": "215f6cfa",
   "metadata": {},
   "outputs": [
    {
     "data": {
      "text/plain": [
       "<Axes: xlabel='Bedrooms'>"
      ]
     },
     "execution_count": 76,
     "metadata": {},
     "output_type": "execute_result"
    },
    {
     "data": {
      "image/png": "[encoded data removed]",
      "text/plain": [
       "<Figure size 640x480 with 1 Axes>"
      ]
     },
     "metadata": {},
     "output_type": "display_data"
    }
   ],
   "source": [
    "sns.boxplot(data=df_final,x=df_final['Bedrooms'])"
   ]
  },
  {
   "cell_type": "code",
   "execution_count": 77,
   "id": "9f983e04",
   "metadata": {},
   "outputs": [
    {
     "data": {
      "text/plain": [
       "<Axes: xlabel='bathrooms'>"
      ]
     },
     "execution_count": 77,
     "metadata": {},
     "output_type": "execute_result"
    },
    {
     "data": {
      "image/png": "[encoded data removed]",
      "text/plain": [
       "<Figure size 640x480 with 1 Axes>"
      ]
     },
     "metadata": {},
     "output_type": "display_data"
    }
   ],
   "source": [
    "sns.boxplot(data=df_final,x=df_final['bathrooms'])"
   ]
  },
  {
   "cell_type": "code",
   "execution_count": 78,
   "id": "ceb377b3",
   "metadata": {},
   "outputs": [
    {
     "data": {
      "text/plain": [
       "<Axes: xlabel='balcony'>"
      ]
     },
     "execution_count": 78,
     "metadata": {},
     "output_type": "execute_result"
    },
    {
     "data": {
      "image/png": "[encoded data removed]",
      "text/plain": [
       "<Figure size 640x480 with 1 Axes>"
      ]
     },
     "metadata": {},
     "output_type": "display_data"
    }
   ],
   "source": [
    "sns.boxplot(data=df_final,x=df_final['balcony'])"
   ]
  },
  {
   "cell_type": "markdown",
   "id": "5177cb42",
   "metadata": {},
   "source": [
    "Lets remove the outliers from bathrooms and bedrooms using IQR"
   ]
  },
  {
   "cell_type": "code",
   "execution_count": 79,
   "id": "1bd60488",
   "metadata": {},
   "outputs": [
    {
     "data": {
      "text/plain": [
       "(12775, 4)"
      ]
     },
     "execution_count": 79,
     "metadata": {},
     "output_type": "execute_result"
    }
   ],
   "source": [
    "df_final.shape"
   ]
  },
  {
   "cell_type": "code",
   "execution_count": 80,
   "id": "e5a21518",
   "metadata": {},
   "outputs": [
    {
     "data": {
      "text/plain": [
       "(12534, 4)"
      ]
     },
     "execution_count": 80,
     "metadata": {},
     "output_type": "execute_result"
    }
   ],
   "source": [
    "percent15= df_final['bathrooms'].quantile(0.15)\n",
    "percent85= df_final['bathrooms'].quantile(0.85)\n",
    "iqr=percent85-percent15\n",
    "upperlimit=percent85+(1.5*iqr)\n",
    "lowerlimit=percent15-(1.5*iqr)\n",
    "\n",
    "df_final=df_final[df_final['bathrooms']<upperlimit]\n",
    "df_final=df_final[df_final['bathrooms']>lowerlimit]\n",
    "\n",
    "df_final.shape\n"
   ]
  },
  {
   "cell_type": "code",
   "execution_count": 81,
   "id": "bec1d917",
   "metadata": {},
   "outputs": [
    {
     "data": {
      "text/plain": [
       "(12460, 4)"
      ]
     },
     "execution_count": 81,
     "metadata": {},
     "output_type": "execute_result"
    }
   ],
   "source": [
    "percent15= df_final['Bedrooms'].quantile(0.15)\n",
    "percent85= df_final['Bedrooms'].quantile(0.85)\n",
    "iqr=percent85-percent15\n",
    "upperlimit=percent85+(1.5*iqr)\n",
    "lowerlimit=percent15-(1.5*iqr)\n",
    "\n",
    "df_final=df_final[df_final['Bedrooms']<upperlimit]\n",
    "df_final=df_final[df_final['Bedrooms']>lowerlimit]\n",
    "\n",
    "df_final.shape"
   ]
  },
  {
   "cell_type": "code",
   "execution_count": 82,
   "id": "934f1499",
   "metadata": {},
   "outputs": [
    {
     "data": {
      "text/plain": [
       "<seaborn.axisgrid.PairGrid at 0x21bb2e64a40>"
      ]
     },
     "execution_count": 82,
     "metadata": {},
     "output_type": "execute_result"
    },
    {
     "data": {
      "image/png": "[encoded data removed]",
      "text/plain": [
       "<Figure size 1000x1000 with 20 Axes>"
      ]
     },
     "metadata": {},
     "output_type": "display_data"
    }
   ],
   "source": [
    "sns.pairplot(df_final)"
   ]
  },
  {
   "cell_type": "code",
   "execution_count": 89,
   "id": "701873b5",
   "metadata": {},
   "outputs": [
    {
     "data": {
      "text/html": [
       "<div>\n",
       "<style scoped>\n",
       "    .dataframe tbody tr th:only-of-type {\n",
       "        vertical-align: middle;\n",
       "    }\n",
       "\n",
       "    .dataframe tbody tr th {\n",
       "        vertical-align: top;\n",
       "    }\n",
       "\n",
       "    .dataframe thead th {\n",
       "        text-align: right;\n",
       "    }\n",
       "</style>\n",
       "<table border=\"1\" class=\"dataframe\">\n",
       "  <thead>\n",
       "    <tr style=\"text-align: right;\">\n",
       "      <th></th>\n",
       "      <th>Bedrooms</th>\n",
       "      <th>bathrooms</th>\n",
       "      <th>balcony</th>\n",
       "      <th>price</th>\n",
       "    </tr>\n",
       "  </thead>\n",
       "  <tbody>\n",
       "    <tr>\n",
       "      <th>0</th>\n",
       "      <td>2</td>\n",
       "      <td>2.0</td>\n",
       "      <td>1.0</td>\n",
       "      <td>39.07</td>\n",
       "    </tr>\n",
       "    <tr>\n",
       "      <th>1</th>\n",
       "      <td>4</td>\n",
       "      <td>5.0</td>\n",
       "      <td>3.0</td>\n",
       "      <td>120.00</td>\n",
       "    </tr>\n",
       "    <tr>\n",
       "      <th>2</th>\n",
       "      <td>3</td>\n",
       "      <td>2.0</td>\n",
       "      <td>3.0</td>\n",
       "      <td>62.00</td>\n",
       "    </tr>\n",
       "    <tr>\n",
       "      <th>3</th>\n",
       "      <td>3</td>\n",
       "      <td>3.0</td>\n",
       "      <td>1.0</td>\n",
       "      <td>95.00</td>\n",
       "    </tr>\n",
       "    <tr>\n",
       "      <th>4</th>\n",
       "      <td>2</td>\n",
       "      <td>2.0</td>\n",
       "      <td>1.0</td>\n",
       "      <td>51.00</td>\n",
       "    </tr>\n",
       "  </tbody>\n",
       "</table>\n",
       "</div>"
      ],
      "text/plain": [
       "   Bedrooms  bathrooms  balcony   price\n",
       "0         2        2.0      1.0   39.07\n",
       "1         4        5.0      3.0  120.00\n",
       "2         3        2.0      3.0   62.00\n",
       "3         3        3.0      1.0   95.00\n",
       "4         2        2.0      1.0   51.00"
      ]
     },
     "execution_count": 89,
     "metadata": {},
     "output_type": "execute_result"
    }
   ],
   "source": [
    "df_final.head()"
   ]
  },
  {
   "cell_type": "markdown",
   "id": "f47d169e",
   "metadata": {},
   "source": [
    "Looking at the graph it can be easily guessed that Random forest reg or DT regressor would work better than linear regression "
   ]
  },
  {
   "cell_type": "markdown",
   "id": "19f38300",
   "metadata": {},
   "source": [
    "Now the next steps are :\n",
    "1.Regression using multiple Regression models \n",
    "2. comparing the R2 scores\n",
    "3. cross val scores\n",
    "4. Predicting using an array "
   ]
  },
  {
   "cell_type": "code",
   "execution_count": 93,
   "id": "8218b5fd",
   "metadata": {},
   "outputs": [],
   "source": [
    "from sklearn.model_selection import train_test_split\n",
    "X=df_final.iloc[:,:3]\n",
    "y=df_final.iloc[:,3:]\n",
    "\n",
    "X_train,X_test,y_train,y_test=train_test_split(X,y,test_size=0.2,random_state=2)"
   ]
  },
  {
   "cell_type": "code",
   "execution_count": 84,
   "id": "05af62d9",
   "metadata": {},
   "outputs": [],
   "source": [
    "# The regression models which are on focus are :\n",
    "# 1. Linear Regression \n",
    "# 2. SVRegression\n",
    "# 3. Decision tree regression \n",
    "# 4.Random forest regression\n",
    "# 5. Bayesian Regression\n",
    "# 6. Lasso Regression\n",
    "# 7. Elastic net regression\n",
    "# 8. XG boost regression \n",
    "# 9. Gradient boosting regression\n",
    "# 10.Bagging regression\n",
    "# 11.Adaboost regression\n"
   ]
  },
  {
   "cell_type": "code",
   "execution_count": 85,
   "id": "84a8e365",
   "metadata": {},
   "outputs": [],
   "source": [
    "from sklearn.linear_model import LinearRegression\n",
    "from sklearn.svm import SVR\n",
    "from sklearn.tree import DecisionTreeRegressor\n",
    "from sklearn.ensemble import RandomForestRegressor\n",
    "from sklearn.linear_model import BayesianRidge\n",
    "from sklearn.linear_model import Lasso\n",
    "from sklearn.linear_model import ElasticNet\n",
    "from xgboost import XGBRegressor\n",
    "from sklearn.ensemble import GradientBoostingRegressor\n",
    "from sklearn.ensemble import BaggingRegressor\n",
    "from sklearn.ensemble import AdaBoostRegressor\n"
   ]
  },
  {
   "cell_type": "code",
   "execution_count": 94,
   "id": "680c6a50",
   "metadata": {},
   "outputs": [],
   "source": [
    "lr=LinearRegression()\n",
    "svr=SVR()\n",
    "dtr=DecisionTreeRegressor()\n",
    "rfr=RandomForestRegressor()\n",
    "brr=BayesianRidge()\n",
    "lasr=Lasso()\n",
    "elner=ElasticNet()\n",
    "xgbr=XGBRegressor()\n",
    "gbr=GradientBoostingRegressor()\n",
    "bagr=BaggingRegressor()\n",
    "abr=AdaBoostRegressor()\n"
   ]
  },
  {
   "cell_type": "code",
   "execution_count": 95,
   "id": "99ca1bf5",
   "metadata": {},
   "outputs": [],
   "source": [
    "my_model_list=[\n",
    "    ['LinearRegression',lr],\n",
    "    ['SVR',svr],\n",
    "    ['DecisionTreeRegressor',dtr],\n",
    "    ['BayesianRidge',brr],\n",
    "    ['Lasso',lasr],\n",
    "    ['ElasticNet',elner],\n",
    "    ['XGBRegressor',xgbr],\n",
    "    ['GradientBoostingRegressor',gbr],\n",
    "    ['BaggingRegressor',bagr],\n",
    "    ['AdaBoostRegressor',abr]\n",
    "]"
   ]
  },
  {
   "cell_type": "code",
   "execution_count": 96,
   "id": "8aa00215",
   "metadata": {},
   "outputs": [
    {
     "name": "stderr",
     "output_type": "stream",
     "text": [
      "C:\\Users\\mrchi\\AppData\\Local\\Packages\\PythonSoftwareFoundation.Python.3.12_qbz5n2kfra8p0\\LocalCache\\local-packages\\Python312\\site-packages\\sklearn\\utils\\validation.py:1408: DataConversionWarning: A column-vector y was passed when a 1d array was expected. Please change the shape of y to (n_samples, ), for example using ravel().\n",
      "  y = column_or_1d(y, warn=True)\n",
      "C:\\Users\\mrchi\\AppData\\Local\\Packages\\PythonSoftwareFoundation.Python.3.12_qbz5n2kfra8p0\\LocalCache\\local-packages\\Python312\\site-packages\\sklearn\\utils\\validation.py:1408: DataConversionWarning: A column-vector y was passed when a 1d array was expected. Please change the shape of y to (n_samples, ), for example using ravel().\n",
      "  y = column_or_1d(y, warn=True)\n",
      "C:\\Users\\mrchi\\AppData\\Local\\Packages\\PythonSoftwareFoundation.Python.3.12_qbz5n2kfra8p0\\LocalCache\\local-packages\\Python312\\site-packages\\sklearn\\ensemble\\_gb.py:672: DataConversionWarning: A column-vector y was passed when a 1d array was expected. Please change the shape of y to (n_samples, ), for example using ravel().\n",
      "  y = column_or_1d(y, warn=True)  # TODO: Is this still required?\n"
     ]
    },
    {
     "name": "stdout",
     "output_type": "stream",
     "text": [
      "                       Model  Model_R2score  Model_Train_Time\n",
      "0           LinearRegression       0.277370          0.008069\n",
      "1                        SVR       0.254082          9.942774\n",
      "2      DecisionTreeRegressor       0.303844          0.016450\n",
      "3              BayesianRidge       0.277370          0.000000\n",
      "4                      Lasso       0.277397          0.008328\n",
      "5                 ElasticNet       0.260306          0.004009\n",
      "6               XGBRegressor       0.303659          0.340258\n",
      "7  GradientBoostingRegressor       0.330139          0.390343\n",
      "8           BaggingRegressor       0.302078          0.075239\n",
      "9          AdaBoostRegressor      -0.874407          0.058002\n"
     ]
    },
    {
     "name": "stderr",
     "output_type": "stream",
     "text": [
      "C:\\Users\\mrchi\\AppData\\Local\\Packages\\PythonSoftwareFoundation.Python.3.12_qbz5n2kfra8p0\\LocalCache\\local-packages\\Python312\\site-packages\\sklearn\\ensemble\\_bagging.py:568: DataConversionWarning: A column-vector y was passed when a 1d array was expected. Please change the shape of y to (n_samples, ), for example using ravel().\n",
      "  return column_or_1d(y, warn=True)\n",
      "C:\\Users\\mrchi\\AppData\\Local\\Packages\\PythonSoftwareFoundation.Python.3.12_qbz5n2kfra8p0\\LocalCache\\local-packages\\Python312\\site-packages\\sklearn\\utils\\validation.py:1408: DataConversionWarning: A column-vector y was passed when a 1d array was expected. Please change the shape of y to (n_samples, ), for example using ravel().\n",
      "  y = column_or_1d(y, warn=True)\n"
     ]
    }
   ],
   "source": [
    "from sklearn.metrics import r2_score\n",
    "model=[]\n",
    "model_r2score=[]\n",
    "model_train_time=[]\n",
    "import time\n",
    "\n",
    "for i in my_model_list:\n",
    "    start_time=time.time()\n",
    "    i[1].fit(X_train,y_train)\n",
    "    y_pred=i[1].predict(X_test)\n",
    "    end_time=time.time()\n",
    "\n",
    "    model.append(i[0])\n",
    "    model_r2score.append(r2_score(y_test,y_pred))   \n",
    "    model_train_time.append(end_time-start_time)\n",
    "\n",
    "comparision_table = pd.DataFrame(list(zip(model,model_r2score,model_train_time)),columns =['Model', 'Model_R2score','Model_Train_Time'])\n",
    "print(comparision_table)"
   ]
  },
  {
   "cell_type": "code",
   "execution_count": null,
   "id": "d9c6ab23",
   "metadata": {},
   "outputs": [],
   "source": []
  }
 ],
 "metadata": {
  "kernelspec": {
   "display_name": "Python 3",
   "language": "python",
   "name": "python3"
  },
  "language_info": {
   "codemirror_mode": {
    "name": "ipython",
    "version": 3
   },
   "file_extension": ".py",
   "mimetype": "text/x-python",
   "name": "python",
   "nbconvert_exporter": "python",
   "pygments_lexer": "ipython3",
   "version": "3.12.8"
  }
 },
 "nbformat": 4,
 "nbformat_minor": 5
}
