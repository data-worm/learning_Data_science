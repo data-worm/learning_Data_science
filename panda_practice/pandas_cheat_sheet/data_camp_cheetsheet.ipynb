{
 "cells": [
  {
   "cell_type": "markdown",
   "id": "cfe920e5",
   "metadata": {},
   "source": [
    "# Understanding some more methods using the cheat sheet by datacamp"
   ]
  },
  {
   "cell_type": "code",
   "execution_count": 1,
   "id": "07410083",
   "metadata": {},
   "outputs": [],
   "source": [
    "import pandas as pd"
   ]
  },
  {
   "cell_type": "code",
   "execution_count": 2,
   "id": "7946ceb6",
   "metadata": {},
   "outputs": [],
   "source": [
    "s=pd.Series(['pune','kolkata','bhubaneswar','visakhapatnam'])"
   ]
  },
  {
   "cell_type": "code",
   "execution_count": 3,
   "id": "e880e5aa",
   "metadata": {},
   "outputs": [
    {
     "data": {
      "text/plain": [
       "0             pune\n",
       "1          kolkata\n",
       "2      bhubaneswar\n",
       "3    visakhapatnam\n",
       "dtype: object"
      ]
     },
     "execution_count": 3,
     "metadata": {},
     "output_type": "execute_result"
    }
   ],
   "source": [
    "s"
   ]
  },
  {
   "cell_type": "code",
   "execution_count": 4,
   "id": "d65b8617",
   "metadata": {},
   "outputs": [
    {
     "data": {
      "text/plain": [
       "(4,)"
      ]
     },
     "execution_count": 4,
     "metadata": {},
     "output_type": "execute_result"
    }
   ],
   "source": [
    "s.shape"
   ]
  },
  {
   "cell_type": "code",
   "execution_count": 11,
   "id": "32780fb2",
   "metadata": {},
   "outputs": [],
   "source": [
    "data2={\"country\": [\"India\", \"pakistan\",\"srilanka\"],\n",
    "      \"population\": [13, 10,6],\n",
    "      \"capital\":['Delhi','islamabad','colombo']\n",
    "     }"
   ]
  },
  {
   "cell_type": "code",
   "execution_count": 7,
   "id": "a02f77fe",
   "metadata": {},
   "outputs": [],
   "source": [
    "data = {\"state\": [\"Ohio\", \"Ohio\", \"Ohio\", \"Nevada\", \"Nevada\", \"Nevada\"],\n",
    "\"year\": [2000, 2001, 2002, 2001, 2002, 2003],\n",
    "\"pop\": [1.5, 1.7, 3.6, 2.4, 2.9, 3.2]}"
   ]
  },
  {
   "cell_type": "code",
   "execution_count": 14,
   "id": "18b4ef72",
   "metadata": {},
   "outputs": [],
   "source": [
    "df=pd.DataFrame(data2)"
   ]
  },
  {
   "cell_type": "code",
   "execution_count": 15,
   "id": "1985f8c4",
   "metadata": {},
   "outputs": [
    {
     "data": {
      "text/html": [
       "<div>\n",
       "<style scoped>\n",
       "    .dataframe tbody tr th:only-of-type {\n",
       "        vertical-align: middle;\n",
       "    }\n",
       "\n",
       "    .dataframe tbody tr th {\n",
       "        vertical-align: top;\n",
       "    }\n",
       "\n",
       "    .dataframe thead th {\n",
       "        text-align: right;\n",
       "    }\n",
       "</style>\n",
       "<table border=\"1\" class=\"dataframe\">\n",
       "  <thead>\n",
       "    <tr style=\"text-align: right;\">\n",
       "      <th></th>\n",
       "      <th>country</th>\n",
       "      <th>population</th>\n",
       "      <th>capital</th>\n",
       "    </tr>\n",
       "  </thead>\n",
       "  <tbody>\n",
       "    <tr>\n",
       "      <th>0</th>\n",
       "      <td>India</td>\n",
       "      <td>13</td>\n",
       "      <td>Delhi</td>\n",
       "    </tr>\n",
       "    <tr>\n",
       "      <th>1</th>\n",
       "      <td>pakistan</td>\n",
       "      <td>10</td>\n",
       "      <td>islamabad</td>\n",
       "    </tr>\n",
       "    <tr>\n",
       "      <th>2</th>\n",
       "      <td>srilanka</td>\n",
       "      <td>6</td>\n",
       "      <td>colombo</td>\n",
       "    </tr>\n",
       "  </tbody>\n",
       "</table>\n",
       "</div>"
      ],
      "text/plain": [
       "    country  population    capital\n",
       "0     India          13      Delhi\n",
       "1  pakistan          10  islamabad\n",
       "2  srilanka           6    colombo"
      ]
     },
     "execution_count": 15,
     "metadata": {},
     "output_type": "execute_result"
    }
   ],
   "source": [
    "df"
   ]
  },
  {
   "cell_type": "code",
   "execution_count": 17,
   "id": "ba9f100c",
   "metadata": {},
   "outputs": [
    {
     "data": {
      "text/html": [
       "<div>\n",
       "<style scoped>\n",
       "    .dataframe tbody tr th:only-of-type {\n",
       "        vertical-align: middle;\n",
       "    }\n",
       "\n",
       "    .dataframe tbody tr th {\n",
       "        vertical-align: top;\n",
       "    }\n",
       "\n",
       "    .dataframe thead th {\n",
       "        text-align: right;\n",
       "    }\n",
       "</style>\n",
       "<table border=\"1\" class=\"dataframe\">\n",
       "  <thead>\n",
       "    <tr style=\"text-align: right;\">\n",
       "      <th></th>\n",
       "      <th>population</th>\n",
       "      <th>capital</th>\n",
       "    </tr>\n",
       "  </thead>\n",
       "  <tbody>\n",
       "    <tr>\n",
       "      <th>0</th>\n",
       "      <td>13</td>\n",
       "      <td>Delhi</td>\n",
       "    </tr>\n",
       "    <tr>\n",
       "      <th>1</th>\n",
       "      <td>10</td>\n",
       "      <td>islamabad</td>\n",
       "    </tr>\n",
       "    <tr>\n",
       "      <th>2</th>\n",
       "      <td>6</td>\n",
       "      <td>colombo</td>\n",
       "    </tr>\n",
       "  </tbody>\n",
       "</table>\n",
       "</div>"
      ],
      "text/plain": [
       "   population    capital\n",
       "0          13      Delhi\n",
       "1          10  islamabad\n",
       "2           6    colombo"
      ]
     },
     "execution_count": 17,
     "metadata": {},
     "output_type": "execute_result"
    }
   ],
   "source": [
    " df.drop('country',axis=1)"
   ]
  },
  {
   "cell_type": "code",
   "execution_count": 19,
   "id": "a6acdd72",
   "metadata": {},
   "outputs": [
    {
     "data": {
      "text/html": [
       "<div>\n",
       "<style scoped>\n",
       "    .dataframe tbody tr th:only-of-type {\n",
       "        vertical-align: middle;\n",
       "    }\n",
       "\n",
       "    .dataframe tbody tr th {\n",
       "        vertical-align: top;\n",
       "    }\n",
       "\n",
       "    .dataframe thead th {\n",
       "        text-align: right;\n",
       "    }\n",
       "</style>\n",
       "<table border=\"1\" class=\"dataframe\">\n",
       "  <thead>\n",
       "    <tr style=\"text-align: right;\">\n",
       "      <th></th>\n",
       "      <th>country</th>\n",
       "      <th>population</th>\n",
       "    </tr>\n",
       "  </thead>\n",
       "  <tbody>\n",
       "    <tr>\n",
       "      <th>0</th>\n",
       "      <td>India</td>\n",
       "      <td>13</td>\n",
       "    </tr>\n",
       "    <tr>\n",
       "      <th>1</th>\n",
       "      <td>pakistan</td>\n",
       "      <td>10</td>\n",
       "    </tr>\n",
       "    <tr>\n",
       "      <th>2</th>\n",
       "      <td>srilanka</td>\n",
       "      <td>6</td>\n",
       "    </tr>\n",
       "  </tbody>\n",
       "</table>\n",
       "</div>"
      ],
      "text/plain": [
       "    country  population\n",
       "0     India          13\n",
       "1  pakistan          10\n",
       "2  srilanka           6"
      ]
     },
     "execution_count": 19,
     "metadata": {},
     "output_type": "execute_result"
    }
   ],
   "source": [
    "df.drop(columns='capital')"
   ]
  },
  {
   "cell_type": "code",
   "execution_count": 20,
   "id": "57303143",
   "metadata": {},
   "outputs": [
    {
     "name": "stdout",
     "output_type": "stream",
     "text": [
      "Help on function rank in module pandas.core.generic:\n",
      "\n",
      "rank(self: 'NDFrameT', axis: 'Axis' = 0, method: 'str' = 'average', numeric_only: 'bool_t' = False, na_option: 'str' = 'keep', ascending: 'bool_t' = True, pct: 'bool_t' = False) -> 'NDFrameT'\n",
      "    Compute numerical data ranks (1 through n) along axis.\n",
      "    \n",
      "    By default, equal values are assigned a rank that is the average of the\n",
      "    ranks of those values.\n",
      "    \n",
      "    Parameters\n",
      "    ----------\n",
      "    axis : {0 or 'index', 1 or 'columns'}, default 0\n",
      "        Index to direct ranking.\n",
      "        For `Series` this parameter is unused and defaults to 0.\n",
      "    method : {'average', 'min', 'max', 'first', 'dense'}, default 'average'\n",
      "        How to rank the group of records that have the same value (i.e. ties):\n",
      "    \n",
      "        * average: average rank of the group\n",
      "        * min: lowest rank in the group\n",
      "        * max: highest rank in the group\n",
      "        * first: ranks assigned in order they appear in the array\n",
      "        * dense: like 'min', but rank always increases by 1 between groups.\n",
      "    \n",
      "    numeric_only : bool, default False\n",
      "        For DataFrame objects, rank only numeric columns if set to True.\n",
      "    \n",
      "        .. versionchanged:: 2.0.0\n",
      "            The default value of ``numeric_only`` is now ``False``.\n",
      "    \n",
      "    na_option : {'keep', 'top', 'bottom'}, default 'keep'\n",
      "        How to rank NaN values:\n",
      "    \n",
      "        * keep: assign NaN rank to NaN values\n",
      "        * top: assign lowest rank to NaN values\n",
      "        * bottom: assign highest rank to NaN values\n",
      "    \n",
      "    ascending : bool, default True\n",
      "        Whether or not the elements should be ranked in ascending order.\n",
      "    pct : bool, default False\n",
      "        Whether or not to display the returned rankings in percentile\n",
      "        form.\n",
      "    \n",
      "    Returns\n",
      "    -------\n",
      "    same type as caller\n",
      "        Return a Series or DataFrame with data ranks as values.\n",
      "    \n",
      "    See Also\n",
      "    --------\n",
      "    core.groupby.DataFrameGroupBy.rank : Rank of values within each group.\n",
      "    core.groupby.SeriesGroupBy.rank : Rank of values within each group.\n",
      "    \n",
      "    Examples\n",
      "    --------\n",
      "    >>> df = pd.DataFrame(data={'Animal': ['cat', 'penguin', 'dog',\n",
      "    ...                                    'spider', 'snake'],\n",
      "    ...                         'Number_legs': [4, 2, 4, 8, np.nan]})\n",
      "    >>> df\n",
      "        Animal  Number_legs\n",
      "    0      cat          4.0\n",
      "    1  penguin          2.0\n",
      "    2      dog          4.0\n",
      "    3   spider          8.0\n",
      "    4    snake          NaN\n",
      "    \n",
      "    Ties are assigned the mean of the ranks (by default) for the group.\n",
      "    \n",
      "    >>> s = pd.Series(range(5), index=list(\"abcde\"))\n",
      "    >>> s[\"d\"] = s[\"b\"]\n",
      "    >>> s.rank()\n",
      "    a    1.0\n",
      "    b    2.5\n",
      "    c    4.0\n",
      "    d    2.5\n",
      "    e    5.0\n",
      "    dtype: float64\n",
      "    \n",
      "    The following example shows how the method behaves with the above\n",
      "    parameters:\n",
      "    \n",
      "    * default_rank: this is the default behaviour obtained without using\n",
      "      any parameter.\n",
      "    * max_rank: setting ``method = 'max'`` the records that have the\n",
      "      same values are ranked using the highest rank (e.g.: since 'cat'\n",
      "      and 'dog' are both in the 2nd and 3rd position, rank 3 is assigned.)\n",
      "    * NA_bottom: choosing ``na_option = 'bottom'``, if there are records\n",
      "      with NaN values they are placed at the bottom of the ranking.\n",
      "    * pct_rank: when setting ``pct = True``, the ranking is expressed as\n",
      "      percentile rank.\n",
      "    \n",
      "    >>> df['default_rank'] = df['Number_legs'].rank()\n",
      "    >>> df['max_rank'] = df['Number_legs'].rank(method='max')\n",
      "    >>> df['NA_bottom'] = df['Number_legs'].rank(na_option='bottom')\n",
      "    >>> df['pct_rank'] = df['Number_legs'].rank(pct=True)\n",
      "    >>> df\n",
      "        Animal  Number_legs  default_rank  max_rank  NA_bottom  pct_rank\n",
      "    0      cat          4.0           2.5       3.0        2.5     0.625\n",
      "    1  penguin          2.0           1.0       1.0        1.0     0.250\n",
      "    2      dog          4.0           2.5       3.0        2.5     0.625\n",
      "    3   spider          8.0           4.0       4.0        4.0     1.000\n",
      "    4    snake          NaN           NaN       NaN        5.0       NaN\n",
      "\n"
     ]
    }
   ],
   "source": [
    "help(pd.Series.rank)"
   ]
  },
  {
   "cell_type": "code",
   "execution_count": 21,
   "id": "3d801727",
   "metadata": {},
   "outputs": [
    {
     "data": {
      "text/html": [
       "<div>\n",
       "<style scoped>\n",
       "    .dataframe tbody tr th:only-of-type {\n",
       "        vertical-align: middle;\n",
       "    }\n",
       "\n",
       "    .dataframe tbody tr th {\n",
       "        vertical-align: top;\n",
       "    }\n",
       "\n",
       "    .dataframe thead th {\n",
       "        text-align: right;\n",
       "    }\n",
       "</style>\n",
       "<table border=\"1\" class=\"dataframe\">\n",
       "  <thead>\n",
       "    <tr style=\"text-align: right;\">\n",
       "      <th></th>\n",
       "      <th>country</th>\n",
       "      <th>population</th>\n",
       "      <th>capital</th>\n",
       "    </tr>\n",
       "  </thead>\n",
       "  <tbody>\n",
       "    <tr>\n",
       "      <th>0</th>\n",
       "      <td>1.0</td>\n",
       "      <td>3.0</td>\n",
       "      <td>1.0</td>\n",
       "    </tr>\n",
       "    <tr>\n",
       "      <th>1</th>\n",
       "      <td>2.0</td>\n",
       "      <td>2.0</td>\n",
       "      <td>3.0</td>\n",
       "    </tr>\n",
       "    <tr>\n",
       "      <th>2</th>\n",
       "      <td>3.0</td>\n",
       "      <td>1.0</td>\n",
       "      <td>2.0</td>\n",
       "    </tr>\n",
       "  </tbody>\n",
       "</table>\n",
       "</div>"
      ],
      "text/plain": [
       "   country  population  capital\n",
       "0      1.0         3.0      1.0\n",
       "1      2.0         2.0      3.0\n",
       "2      3.0         1.0      2.0"
      ]
     },
     "execution_count": 21,
     "metadata": {},
     "output_type": "execute_result"
    }
   ],
   "source": [
    "df.rank()"
   ]
  },
  {
   "cell_type": "code",
   "execution_count": 22,
   "id": "9b822b90",
   "metadata": {
    "scrolled": false
   },
   "outputs": [
    {
     "data": {
      "text/html": [
       "<div>\n",
       "<style scoped>\n",
       "    .dataframe tbody tr th:only-of-type {\n",
       "        vertical-align: middle;\n",
       "    }\n",
       "\n",
       "    .dataframe tbody tr th {\n",
       "        vertical-align: top;\n",
       "    }\n",
       "\n",
       "    .dataframe thead th {\n",
       "        text-align: right;\n",
       "    }\n",
       "</style>\n",
       "<table border=\"1\" class=\"dataframe\">\n",
       "  <thead>\n",
       "    <tr style=\"text-align: right;\">\n",
       "      <th></th>\n",
       "      <th>country</th>\n",
       "      <th>population</th>\n",
       "      <th>capital</th>\n",
       "    </tr>\n",
       "  </thead>\n",
       "  <tbody>\n",
       "    <tr>\n",
       "      <th>0</th>\n",
       "      <td>India</td>\n",
       "      <td>13</td>\n",
       "      <td>Delhi</td>\n",
       "    </tr>\n",
       "    <tr>\n",
       "      <th>1</th>\n",
       "      <td>pakistan</td>\n",
       "      <td>10</td>\n",
       "      <td>islamabad</td>\n",
       "    </tr>\n",
       "    <tr>\n",
       "      <th>2</th>\n",
       "      <td>srilanka</td>\n",
       "      <td>6</td>\n",
       "      <td>colombo</td>\n",
       "    </tr>\n",
       "  </tbody>\n",
       "</table>\n",
       "</div>"
      ],
      "text/plain": [
       "    country  population    capital\n",
       "0     India          13      Delhi\n",
       "1  pakistan          10  islamabad\n",
       "2  srilanka           6    colombo"
      ]
     },
     "execution_count": 22,
     "metadata": {},
     "output_type": "execute_result"
    }
   ],
   "source": [
    "df"
   ]
  },
  {
   "cell_type": "markdown",
   "id": "42cbc9d0",
   "metadata": {},
   "source": [
    "# Dropping 2 columns at the same time"
   ]
  },
  {
   "cell_type": "code",
   "execution_count": 26,
   "id": "b8e6895a",
   "metadata": {},
   "outputs": [],
   "source": [
    "\n",
    "df2=df.drop(columns=['country','capital'])"
   ]
  },
  {
   "cell_type": "code",
   "execution_count": 27,
   "id": "cd06cd88",
   "metadata": {
    "scrolled": true
   },
   "outputs": [
    {
     "data": {
      "text/html": [
       "<div>\n",
       "<style scoped>\n",
       "    .dataframe tbody tr th:only-of-type {\n",
       "        vertical-align: middle;\n",
       "    }\n",
       "\n",
       "    .dataframe tbody tr th {\n",
       "        vertical-align: top;\n",
       "    }\n",
       "\n",
       "    .dataframe thead th {\n",
       "        text-align: right;\n",
       "    }\n",
       "</style>\n",
       "<table border=\"1\" class=\"dataframe\">\n",
       "  <thead>\n",
       "    <tr style=\"text-align: right;\">\n",
       "      <th></th>\n",
       "      <th>population</th>\n",
       "    </tr>\n",
       "  </thead>\n",
       "  <tbody>\n",
       "    <tr>\n",
       "      <th>0</th>\n",
       "      <td>13</td>\n",
       "    </tr>\n",
       "    <tr>\n",
       "      <th>1</th>\n",
       "      <td>10</td>\n",
       "    </tr>\n",
       "    <tr>\n",
       "      <th>2</th>\n",
       "      <td>6</td>\n",
       "    </tr>\n",
       "  </tbody>\n",
       "</table>\n",
       "</div>"
      ],
      "text/plain": [
       "   population\n",
       "0          13\n",
       "1          10\n",
       "2           6"
      ]
     },
     "execution_count": 27,
     "metadata": {},
     "output_type": "execute_result"
    }
   ],
   "source": [
    "df2"
   ]
  },
  {
   "cell_type": "markdown",
   "id": "ae556312",
   "metadata": {},
   "source": [
    "# using lambda function for numerical values inside the table"
   ]
  },
  {
   "cell_type": "code",
   "execution_count": 28,
   "id": "15c70a73",
   "metadata": {},
   "outputs": [
    {
     "data": {
      "text/html": [
       "<div>\n",
       "<style scoped>\n",
       "    .dataframe tbody tr th:only-of-type {\n",
       "        vertical-align: middle;\n",
       "    }\n",
       "\n",
       "    .dataframe tbody tr th {\n",
       "        vertical-align: top;\n",
       "    }\n",
       "\n",
       "    .dataframe thead th {\n",
       "        text-align: right;\n",
       "    }\n",
       "</style>\n",
       "<table border=\"1\" class=\"dataframe\">\n",
       "  <thead>\n",
       "    <tr style=\"text-align: right;\">\n",
       "      <th></th>\n",
       "      <th>population</th>\n",
       "    </tr>\n",
       "  </thead>\n",
       "  <tbody>\n",
       "    <tr>\n",
       "      <th>0</th>\n",
       "      <td>169</td>\n",
       "    </tr>\n",
       "    <tr>\n",
       "      <th>1</th>\n",
       "      <td>100</td>\n",
       "    </tr>\n",
       "    <tr>\n",
       "      <th>2</th>\n",
       "      <td>36</td>\n",
       "    </tr>\n",
       "  </tbody>\n",
       "</table>\n",
       "</div>"
      ],
      "text/plain": [
       "   population\n",
       "0         169\n",
       "1         100\n",
       "2          36"
      ]
     },
     "execution_count": 28,
     "metadata": {},
     "output_type": "execute_result"
    }
   ],
   "source": [
    "f= lambda x:x*x\n",
    "df2.apply(f)"
   ]
  },
  {
   "cell_type": "code",
   "execution_count": null,
   "id": "0a0e2843",
   "metadata": {},
   "outputs": [],
   "source": []
  }
 ],
 "metadata": {
  "kernelspec": {
   "display_name": "Python 3 (ipykernel)",
   "language": "python",
   "name": "python3"
  },
  "language_info": {
   "codemirror_mode": {
    "name": "ipython",
    "version": 3
   },
   "file_extension": ".py",
   "mimetype": "text/x-python",
   "name": "python",
   "nbconvert_exporter": "python",
   "pygments_lexer": "ipython3",
   "version": "3.11.4"
  }
 },
 "nbformat": 4,
 "nbformat_minor": 5
}
