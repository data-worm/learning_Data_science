{
 "cells": [
  {
   "cell_type": "markdown",
   "id": "443de0ed",
   "metadata": {},
   "source": [
    "# Phase-End Project: Creating a Shopping App Using Python"
   ]
  },
  {
   "cell_type": "markdown",
   "id": "261174e6",
   "metadata": {},
   "source": [
    "### Problem Scenario: You have to develop a shopping application or e-commerce application which has login and public login features on the Python platform. The applications that have been developed should also include categories, such as 3–4 for footwear, clothing, electronics, etc. It should be possible to add and update categories in the application. Additionally, it must contain a feature that allows you to add or remove items from your cart. Finally, the program needs to support a variety of payment options, including UPI and debit cards. This should be only backend implementation, and UX/UI and database connectivity are not required."
   ]
  },
  {
   "cell_type": "code",
   "execution_count": 105,
   "id": "86fb0382",
   "metadata": {},
   "outputs": [
    {
     "name": "stdout",
     "output_type": "stream",
     "text": [
      "Welcome to the Demo Marketplace\n"
     ]
    }
   ],
   "source": [
    "# • A welcome message should initially be displayed in the e-commerce application, such as \"Welcome to the Demo Marketplace\".\n",
    "\n",
    "print(\"Welcome to the Demo Marketplace\")\n",
    "\n",
    "# •\tUser login and admin login should be created once the code for the welcome message has been written. \n",
    "# For the creation of demo login and admin login, demo databases for those should be created for the user \n",
    "# and admin verification, and session id creation.\n",
    "\n",
    "\n",
    "Login_DB=         [{'username': 'User1', 'password': 'PW1',\"type\":\"user\"},\n",
    "                   {'username': 'User2', 'password': \"PW2\",\"type\":\"user\"},\n",
    "                   {'username': 'User3', 'password': \"PW3\",\"type\":\"admin\"},\n",
    "                   {'username': 'User4', 'password': \"PW4\",\"type\":\"admin\"}\n",
    "                  ]\n",
    "\n",
    "def new_user_registration(entered_username,entered_password):\n",
    "    match=0\n",
    "    for i in Login_DB:\n",
    "        if i['username']==entered_username:\n",
    "            match=1\n",
    "    if match==1:\n",
    "        print(\"Username already exists. Please enter another username.\")\n",
    "    else:\n",
    "        Login_DB.append({'username':entered_username,'password':entered_password,\"type\":\"user\"})\n",
    "            \n",
    "\n",
    "def existing_user_login():\n",
    "    entered_username=input(\"Enter your user name: \")\n",
    "    entered_password=input(\"Enter your password: \")\n",
    "    match=0\n",
    "\n",
    "    for i in Login_DB:\n",
    "        if i['username']==entered_username and i['password']==entered_password:\n",
    "            match=1\n",
    "            user_type=i['type']\n",
    "    if match==1:                   \n",
    "        print(\"welcome\")\n",
    "        return(user_type)\n",
    "    else:\n",
    "        print(\"Wrong credentials !\")\n",
    "        existing_user_login()                                 #again ask for the login details\n",
    "\n",
    "        \n",
    "        \n",
    "        \n",
    "# •\tAfter databases are created, create admin and user logins. \n",
    "# It is necessary to construct a sample product catalog with three\n",
    "# to four product categories, such as Boots, Coats, Jackets, and Caps.\n",
    "# The product id, name, category id, and price should all be present\n",
    "# for each item in the dummy database of the catalog. Both users and \n",
    "# administrators can view the catalog.\n",
    "Product_category=[\"boots\",\"coats\",\"jacket\",\"caps\"]\n",
    "#Products_DB        {  product_id: product name, category, price}\n",
    "Products_DB=    {101:[\"Puma_shoes\",Product_category[0],2500],\n",
    "                 102:[\"Twills_coat\",Product_category[1],6000],\n",
    "                 103:[\"Domiyos\",Product_category[2],900],\n",
    "                 104:[\"Lp\",Product_category[3],1500]   \n",
    "                }\n",
    "#initialize user cart\n",
    "user_cart=[]        \n",
    "\n",
    "# •\tUser login rights include the ability to view cart contents, \n",
    "# add items to carts, and remove items from carts.\n",
    "# The user should be able to add items or delete items in the cart\n",
    "# using session id, product id, and quantity.\n",
    "\n",
    "\n",
    "def add_to_cart(entered_username, product_id, quantity,Login_type):\n",
    "    if Login_type==\"user\":\n",
    "        match=0\n",
    "        for i in Login_DB:\n",
    "            if i['username']==entered_username:\n",
    "                match=1\n",
    "        if match==1:\n",
    "            for n in range(quantity):\n",
    "                user_cart.append(product_id)\n",
    "            print(\"products added\")\n",
    "    else:\n",
    "        print(\"You are not allowed to add to cart\")\n",
    "\n",
    "def remove_from_cart(entered_username, product_id, quantity,Login_type):\n",
    "    if Login_type==\"user\":\n",
    "        match=0\n",
    "        for i in Login_DB:\n",
    "            if i['username']==entered_username:\n",
    "                match=1\n",
    "        if match==1:\n",
    "            for n in range(quantity):\n",
    "                user_cart.remove(product_id)\n",
    "            print(\"products removed\")\n",
    "    else:\n",
    "        print(\"You are not allowed to remove from cart\") \n",
    "        \n",
    "        \n",
    "def view_cart(Login_type):\n",
    "    if Login_type==\"user\":\n",
    "        print(user_cart)\n",
    "    else:\n",
    "        print(\"You are not allowed to view user cart\") \n",
    "\n",
    "\n",
    "        \n",
    "        \n",
    "# •\tNext, the program should provide demo payment checkout options, \n",
    "# like Net banking, PayPal, UPI, etc. After selecting the payment option,\n",
    "# a checkout message like, \"Your order is successfully placed\" or \"You will \n",
    "# be shortly redirected to the portal for Unified Payment Interface to make\n",
    "# a payment of Rs. 2000\", etc., should be displayed. \n",
    "        \n",
    "def payment_option(user_cart,Login_type):\n",
    "    if Login_type==\"user\":\n",
    "        pay_method=int(input(\"which payment option do you want to select : 1. UPI 2. Netbanking 3. paypal ?\"))\n",
    "        print(\"you have selected payment method \"+str(pay_method))\n",
    "        total_bill=0\n",
    "        for i in user_cart:\n",
    "            total_bill += Products_DB[i][2]\n",
    "        print(f\"redirecting to the payment platform for a payment of \"+ str(total_bill))\n",
    "    else:\n",
    "        print(\"You are not allowed to view checkout options\") \n",
    "\n",
    "# •\tAdmin should not be able to interfere with any of the functions\n",
    "# that the user can perform, as discussed above. \n",
    "# An error should appear if the admin tries to carry out those tasks.\n",
    "#IMPLEMENTED IN ALL ABOVE FUNCTION\n",
    "\n",
    "\n",
    "# •\tFurthermore, using the previously selected attributes, \n",
    "# the admin should be able to add new products to the catalog. \n",
    "# Additionally, the program needs to make it possible for an \n",
    "# existing product to be modified using an admin session id.\n",
    "# •\tThe admin should then have the ability to remove any \n",
    "# existing products from the already-generated catalog.\n",
    "# •\tLastly, understanding the dynamic demands of the market,\n",
    "# the admin should be able to add a new category of product and \n",
    "# delete the prevailing category of product from the catalog. \n",
    "# •\tUsers should not be able to take advantage of any of the \n",
    "# admin's rights, as described above.\n",
    "\n",
    "\n",
    "# addition of category\n",
    "def add_product_category(new_category_name,Login_type):\n",
    "    if Login_type==\"admin\":\n",
    "        if new_category_name not in Product_category:\n",
    "            Product_category.append(new_category_name)\n",
    "    else:\n",
    "        print(\"As a user, you are not permitted to do this\")\n",
    "\n",
    "# addition of category\n",
    "def remove_product_category(category_name,Login_type):\n",
    "    if Login_type==\"admin\":\n",
    "        if category_name in Product_category:\n",
    "            Product_category.remove(category_name)\n",
    "    else:\n",
    "        print(\"As a user, you are not permitted to do this\")\n",
    "        \n",
    "# Change Category Name\n",
    "def update_category(old_name, new_name,Login_type):\n",
    "    if Login_type==\"admin\":\n",
    "        for i in range(len(Product_category)):\n",
    "            if Product_category[i]==old_name:\n",
    "                Product_category[i]=new_name\n",
    "    else:\n",
    "        print(\"As a user, you are not permitted to do this\")\n",
    "\n",
    "def add_new_product(Login_type,Products_DB,product_id,product_name,category,price):\n",
    "    if Login_type==\"admin\":\n",
    "        Products_DB[product_id]=[product_name,category,price]\n",
    "    else:\n",
    "        print(\"As a user, you are not permitted to do this\")\n",
    "        \n",
    "def remove_product(Login_type,Products_DB,product_id):\n",
    "    if Login_type==\"admin\":\n",
    "                del Products_DB[product_id]\n",
    "    else:\n",
    "        print(\"As a user, you are not permitted to do this\")\n",
    "\n",
    "def replace_product(Login_type,Products_DB,old_product_id,new_product_id,product_name,category,price):\n",
    "    remove_product(Login_type,Products_DB,old_product_id)\n",
    "    add_new_product(Login_type,Products_DB,new_product_id,product_name,category,price)\n"
   ]
  },
  {
   "cell_type": "markdown",
   "id": "80ec808b",
   "metadata": {},
   "source": [
    "# Test 1 : Create new user and test the user capabilities"
   ]
  },
  {
   "cell_type": "code",
   "execution_count": 106,
   "id": "e4b45850",
   "metadata": {},
   "outputs": [],
   "source": [
    "new_user_registration(\"User5\",\"PW5\")"
   ]
  },
  {
   "cell_type": "code",
   "execution_count": 107,
   "id": "5d76dae5",
   "metadata": {},
   "outputs": [
    {
     "name": "stdout",
     "output_type": "stream",
     "text": [
      "Enter your user name: User5\n",
      "Enter your password: PW5\n",
      "welcome\n"
     ]
    }
   ],
   "source": [
    "Login_type=existing_user_login()"
   ]
  },
  {
   "cell_type": "code",
   "execution_count": 108,
   "id": "93c28827",
   "metadata": {},
   "outputs": [
    {
     "name": "stdout",
     "output_type": "stream",
     "text": [
      "[]\n"
     ]
    }
   ],
   "source": [
    "view_cart(Login_type)"
   ]
  },
  {
   "cell_type": "code",
   "execution_count": 109,
   "id": "6b83f584",
   "metadata": {},
   "outputs": [
    {
     "name": "stdout",
     "output_type": "stream",
     "text": [
      "products added\n",
      "products added\n",
      "products removed\n"
     ]
    }
   ],
   "source": [
    "add_to_cart(\"User5\", 101, 5,Login_type)\n",
    "add_to_cart(\"User5\", 102, 3,Login_type)\n",
    "remove_from_cart(\"User5\", 101, 2,Login_type)"
   ]
  },
  {
   "cell_type": "code",
   "execution_count": 110,
   "id": "90cc684a",
   "metadata": {},
   "outputs": [
    {
     "name": "stdout",
     "output_type": "stream",
     "text": [
      "[101, 101, 101, 102, 102, 102]\n"
     ]
    }
   ],
   "source": [
    "view_cart(Login_type)"
   ]
  },
  {
   "cell_type": "code",
   "execution_count": 111,
   "id": "9a1714dd",
   "metadata": {},
   "outputs": [
    {
     "name": "stdout",
     "output_type": "stream",
     "text": [
      "which payment option do you want to select : 1. UPI 2. Netbanking 3. paypal ?2\n",
      "you have selected payment method 2\n",
      "redirecting to the payment platform for a payment of 25500\n"
     ]
    }
   ],
   "source": [
    "payment_option(user_cart,Login_type)"
   ]
  },
  {
   "cell_type": "code",
   "execution_count": 112,
   "id": "a02bb09b",
   "metadata": {},
   "outputs": [
    {
     "name": "stdout",
     "output_type": "stream",
     "text": [
      "As a user, you are not permitted to do this\n"
     ]
    }
   ],
   "source": [
    "add_product_category(\"trousers\",Login_type)         #checking if i am allowed to do so as a user"
   ]
  },
  {
   "cell_type": "markdown",
   "id": "aba82fec",
   "metadata": {},
   "source": [
    "# Test 2: test the admin capabilities"
   ]
  },
  {
   "cell_type": "code",
   "execution_count": 113,
   "id": "4df7dfec",
   "metadata": {},
   "outputs": [
    {
     "name": "stdout",
     "output_type": "stream",
     "text": [
      "Enter your user name: User3\n",
      "Enter your password: PW3\n",
      "welcome\n"
     ]
    }
   ],
   "source": [
    "Login_type=existing_user_login()"
   ]
  },
  {
   "cell_type": "code",
   "execution_count": 114,
   "id": "83845c6e",
   "metadata": {},
   "outputs": [
    {
     "name": "stdout",
     "output_type": "stream",
     "text": [
      "You are not allowed to view user cart\n"
     ]
    }
   ],
   "source": [
    "view_cart(Login_type)                   # admin cannotdo the function of the user"
   ]
  },
  {
   "cell_type": "code",
   "execution_count": 115,
   "id": "e9f302db",
   "metadata": {},
   "outputs": [],
   "source": [
    "add_product_category(\"trousers\",Login_type)"
   ]
  },
  {
   "cell_type": "code",
   "execution_count": 116,
   "id": "ac92adb4",
   "metadata": {},
   "outputs": [
    {
     "data": {
      "text/plain": [
       "['boots', 'coats', 'jacket', 'caps', 'trousers']"
      ]
     },
     "execution_count": 116,
     "metadata": {},
     "output_type": "execute_result"
    }
   ],
   "source": [
    "Product_category"
   ]
  },
  {
   "cell_type": "code",
   "execution_count": 117,
   "id": "f8a70818",
   "metadata": {},
   "outputs": [],
   "source": [
    "remove_product_category(\"jacket\",Login_type)"
   ]
  },
  {
   "cell_type": "code",
   "execution_count": 118,
   "id": "7916d51d",
   "metadata": {},
   "outputs": [
    {
     "data": {
      "text/plain": [
       "['boots', 'coats', 'caps', 'trousers']"
      ]
     },
     "execution_count": 118,
     "metadata": {},
     "output_type": "execute_result"
    }
   ],
   "source": [
    "Product_category"
   ]
  },
  {
   "cell_type": "code",
   "execution_count": 119,
   "id": "df3cd84e",
   "metadata": {},
   "outputs": [],
   "source": [
    "update_category(\"caps\", \"hats\",Login_type)"
   ]
  },
  {
   "cell_type": "code",
   "execution_count": 120,
   "id": "a270be48",
   "metadata": {},
   "outputs": [
    {
     "data": {
      "text/plain": [
       "['boots', 'coats', 'hats', 'trousers']"
      ]
     },
     "execution_count": 120,
     "metadata": {},
     "output_type": "execute_result"
    }
   ],
   "source": [
    "Product_category"
   ]
  },
  {
   "cell_type": "code",
   "execution_count": 121,
   "id": "0ce38742",
   "metadata": {},
   "outputs": [
    {
     "data": {
      "text/plain": [
       "{101: ['Puma_shoes', 'boots', 2500],\n",
       " 102: ['Twills_coat', 'coats', 6000],\n",
       " 103: ['Domiyos', 'jacket', 900],\n",
       " 104: ['Lp', 'caps', 1500]}"
      ]
     },
     "execution_count": 121,
     "metadata": {},
     "output_type": "execute_result"
    }
   ],
   "source": [
    "Products_DB"
   ]
  },
  {
   "cell_type": "code",
   "execution_count": 122,
   "id": "4745da72",
   "metadata": {},
   "outputs": [],
   "source": [
    "add_new_product(Login_type,Products_DB,105,\"allen_solly_trouser\",Product_category[3],3000)"
   ]
  },
  {
   "cell_type": "code",
   "execution_count": 123,
   "id": "870bc19e",
   "metadata": {},
   "outputs": [
    {
     "data": {
      "text/plain": [
       "{101: ['Puma_shoes', 'boots', 2500],\n",
       " 102: ['Twills_coat', 'coats', 6000],\n",
       " 103: ['Domiyos', 'jacket', 900],\n",
       " 104: ['Lp', 'caps', 1500],\n",
       " 105: ['allen_solly_trouser', 'trousers', 3000]}"
      ]
     },
     "execution_count": 123,
     "metadata": {},
     "output_type": "execute_result"
    }
   ],
   "source": [
    "Products_DB"
   ]
  },
  {
   "cell_type": "code",
   "execution_count": 125,
   "id": "9ce8913c",
   "metadata": {},
   "outputs": [],
   "source": [
    "remove_product(Login_type,Products_DB,102)"
   ]
  },
  {
   "cell_type": "code",
   "execution_count": 126,
   "id": "2ade999d",
   "metadata": {},
   "outputs": [
    {
     "data": {
      "text/plain": [
       "{101: ['Puma_shoes', 'boots', 2500],\n",
       " 103: ['Domiyos', 'jacket', 900],\n",
       " 104: ['Lp', 'caps', 1500],\n",
       " 105: ['allen_solly_trouser', 'trousers', 3000]}"
      ]
     },
     "execution_count": 126,
     "metadata": {},
     "output_type": "execute_result"
    }
   ],
   "source": [
    "Products_DB"
   ]
  },
  {
   "cell_type": "code",
   "execution_count": 128,
   "id": "da1e5f42",
   "metadata": {},
   "outputs": [],
   "source": [
    "replace_product(Login_type,Products_DB,105,107,\"LP\",Product_category[1],6000)"
   ]
  },
  {
   "cell_type": "code",
   "execution_count": 129,
   "id": "9133ea21",
   "metadata": {},
   "outputs": [
    {
     "data": {
      "text/plain": [
       "{101: ['Puma_shoes', 'boots', 2500],\n",
       " 103: ['Domiyos', 'jacket', 900],\n",
       " 104: ['Lp', 'caps', 1500],\n",
       " 107: ['LP', 'coats', 6000]}"
      ]
     },
     "execution_count": 129,
     "metadata": {},
     "output_type": "execute_result"
    }
   ],
   "source": [
    "Products_DB"
   ]
  },
  {
   "cell_type": "code",
   "execution_count": 130,
   "id": "ea4aea3e",
   "metadata": {},
   "outputs": [
    {
     "name": "stdout",
     "output_type": "stream",
     "text": [
      "As a user, you are not permitted to do this\n"
     ]
    }
   ],
   "source": [
    "remove_product(\"user\",Products_DB,101)                #user is not allowed to do this"
   ]
  },
  {
   "cell_type": "markdown",
   "id": "04a07bcc",
   "metadata": {},
   "source": [
    "# All tests done and end of program !"
   ]
  },
  {
   "cell_type": "code",
   "execution_count": null,
   "id": "d84729c8",
   "metadata": {},
   "outputs": [],
   "source": []
  }
 ],
 "metadata": {
  "kernelspec": {
   "display_name": "Python 3 (ipykernel)",
   "language": "python",
   "name": "python3"
  },
  "language_info": {
   "codemirror_mode": {
    "name": "ipython",
    "version": 3
   },
   "file_extension": ".py",
   "mimetype": "text/x-python",
   "name": "python",
   "nbconvert_exporter": "python",
   "pygments_lexer": "ipython3",
   "version": "3.11.4"
  }
 },
 "nbformat": 4,
 "nbformat_minor": 5
}
