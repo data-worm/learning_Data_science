{
 "cells": [
  {
   "cell_type": "markdown",
   "id": "9cf2cee2",
   "metadata": {},
   "source": [
    "# Problem Scenario:\n",
    "\n",
    "#### You have to develop a shopping application or e-commerce application which has a Login  platform. The applications that have been developed should also include categories, such as 3–4 for footwear, clothing, electronics, etc. It should be possible to add and update categories in the application. Additionally, it must contain a feature that allows you to add or remove items from your cart. Finally, the program needs to support a variety of payment options, including UPI and debit cards. This should be only backend implementation, and UX/UI and database connectivity are not required.\n",
    "\n",
    "\n"
   ]
  },
  {
   "cell_type": "code",
   "execution_count": 10,
   "id": "86d9f45d",
   "metadata": {},
   "outputs": [],
   "source": [
    "users = [{'username': 'U1', 'password': 'P1'}, {'username': 'U2', 'password': \"P2\"}] # database\n",
    "categories = {'footwear': [], 'clothing': [], 'Electronics': []}\n",
    "carts = {}\n",
    "payments = ['Credit_cards', 'Debit_Card', \"Cash\"]"
   ]
  },
  {
   "cell_type": "code",
   "execution_count": 11,
   "id": "6431930c",
   "metadata": {},
   "outputs": [
    {
     "name": "stdout",
     "output_type": "stream",
     "text": [
      "<class 'list'>\n",
      "<class 'dict'>\n",
      "<class 'dict'>\n",
      "<class 'list'>\n"
     ]
    }
   ],
   "source": [
    "print(type(users))\n",
    "print(type(categories))\n",
    "print(type(carts))\n",
    "print(type(payments))"
   ]
  },
  {
   "cell_type": "code",
   "execution_count": 13,
   "id": "a2d4334c",
   "metadata": {},
   "outputs": [],
   "source": [
    "def add_user(username, password):\n",
    "    # Check if the username already exists, Username will be unique\n",
    "    for user in users:\n",
    "        if user['username'] == username:\n",
    "            print(\"Username already exists. Please choose a different username.\")\n",
    "            return False\n",
    "    # If the username is unique, add the new user\n",
    "    users.append({'username': username, 'password': password})\n",
    "    print(f\"User {username} added successfully.\")\n",
    "    return True"
   ]
  },
  {
   "cell_type": "code",
   "execution_count": 14,
   "id": "8d13d1ed",
   "metadata": {},
   "outputs": [],
   "source": [
    "# User Authentication\n",
    "def login(username, password):\n",
    "    for user in users:\n",
    "        if user['username'] == username and user['password'] == password:\n",
    "            print(\"Access Granted\")\n",
    "            return True\n",
    "    print(\"Access Denied, Either Incorrect Username or Incorrect Password or Both \")\n",
    "    return False"
   ]
  },
  {
   "cell_type": "code",
   "execution_count": 15,
   "id": "60a463aa",
   "metadata": {},
   "outputs": [],
   "source": [
    "# Category Management\n",
    "def add_category(name):\n",
    "    if name not in categories:\n",
    "        categories[name] = []"
   ]
  },
  {
   "cell_type": "code",
   "execution_count": 16,
   "id": "ebbe4714",
   "metadata": {},
   "outputs": [],
   "source": [
    "# Update / Modify Category Name\n",
    "def update_category(old_name, new_name):\n",
    "    if old_name in categories:\n",
    "        categories[new_name] = categories.pop(old_name)"
   ]
  },
  {
   "cell_type": "code",
   "execution_count": 17,
   "id": "bf41a69b",
   "metadata": {},
   "outputs": [],
   "source": [
    "def add_to_cart(username, category, item):\n",
    "\n",
    "    user_exists = any(user['username'] == username for user in users)\n",
    "    if not user_exists:\n",
    "        print(f\"User {username} does not exist.\")\n",
    "        return False\n",
    "\n",
    "    if username not in carts:\n",
    "        carts[username] = []\n",
    "    carts[username].append({'category': category, 'item': item})\n",
    "    print(f\"Item {item} added to {username}'s cart.\")\n",
    "    return True"
   ]
  },
  {
   "cell_type": "code",
   "execution_count": 18,
   "id": "a4dc32c8",
   "metadata": {},
   "outputs": [],
   "source": [
    "def remove_from_cart(username, category, item):\n",
    "    if username in carts:\n",
    "        # Filter out the item to be removed based on category and item name\n",
    "        carts[username] = [cart_item for cart_item in carts[username] if not (cart_item['category'] == category and cart_item['item'] == item)]\n",
    "        print(f\"Item {item} removed from {username}'s cart.\")\n",
    "    else:\n",
    "        print(f\"No cart found for user {username}.\")"
   ]
  },
  {
   "cell_type": "code",
   "execution_count": 19,
   "id": "3321da04",
   "metadata": {},
   "outputs": [],
   "source": [
    "def process_payment(username, amount, payment_method):\n",
    "    # Check if the payment method is supported\n",
    "    if payment_method in payments:\n",
    "        print(f\"Payment of {amount} using {payment_method} for user {username} processed successfully. Expect the Order within today \")\n",
    "    else:\n",
    "        print(\"Unsupported payment method.\")"
   ]
  },
  {
   "cell_type": "code",
   "execution_count": 20,
   "id": "2e8de366",
   "metadata": {},
   "outputs": [],
   "source": [
    "# Example Usage\n",
    "# add_category(\"books\")\n",
    "# update_category(\"footwear\", \"shoes\")\n",
    "# add_to_cart(\"user1\", \"shoes\", \"sneakers\")\n",
    "# remove_from_cart(\"user1\", \"shoes\", \"sneakers\")\n",
    "# process_payment(\"user1\", 100, \"UPI\")"
   ]
  },
  {
   "cell_type": "code",
   "execution_count": 21,
   "id": "55064891",
   "metadata": {},
   "outputs": [
    {
     "data": {
      "text/plain": [
       "[{'username': 'U1', 'password': 'P1'}, {'username': 'U2', 'password': 'P2'}]"
      ]
     },
     "execution_count": 21,
     "metadata": {},
     "output_type": "execute_result"
    }
   ],
   "source": [
    "users"
   ]
  },
  {
   "cell_type": "code",
   "execution_count": 22,
   "id": "466cd0ac",
   "metadata": {},
   "outputs": [
    {
     "name": "stdout",
     "output_type": "stream",
     "text": [
      "Username already exists. Please choose a different username.\n"
     ]
    },
    {
     "data": {
      "text/plain": [
       "False"
      ]
     },
     "execution_count": 22,
     "metadata": {},
     "output_type": "execute_result"
    }
   ],
   "source": [
    "# A new User Comes and enter the Username : U1\n",
    "add_user(\"U1\",\"Password\")"
   ]
  },
  {
   "cell_type": "code",
   "execution_count": 12,
   "id": "625f1138",
   "metadata": {},
   "outputs": [
    {
     "data": {
      "text/plain": [
       "[{'username': 'U1', 'password': 'P1'}, {'username': 'U2', 'password': 'P2'}]"
      ]
     },
     "execution_count": 12,
     "metadata": {},
     "output_type": "execute_result"
    }
   ],
   "source": [
    "users"
   ]
  },
  {
   "cell_type": "code",
   "execution_count": 23,
   "id": "61cd7b98",
   "metadata": {},
   "outputs": [
    {
     "name": "stdout",
     "output_type": "stream",
     "text": [
      "User Raghav added successfully.\n"
     ]
    },
    {
     "data": {
      "text/plain": [
       "True"
      ]
     },
     "execution_count": 23,
     "metadata": {},
     "output_type": "execute_result"
    }
   ],
   "source": [
    "add_user(\"Raghav\",\"Password\")"
   ]
  },
  {
   "cell_type": "code",
   "execution_count": 24,
   "id": "8a367980",
   "metadata": {},
   "outputs": [
    {
     "data": {
      "text/plain": [
       "[{'username': 'U1', 'password': 'P1'},\n",
       " {'username': 'U2', 'password': 'P2'},\n",
       " {'username': 'Raghav', 'password': 'Password'}]"
      ]
     },
     "execution_count": 24,
     "metadata": {},
     "output_type": "execute_result"
    }
   ],
   "source": [
    "users"
   ]
  },
  {
   "cell_type": "code",
   "execution_count": 27,
   "id": "03b3f59b",
   "metadata": {},
   "outputs": [
    {
     "name": "stdout",
     "output_type": "stream",
     "text": [
      "Access Granted\n"
     ]
    },
    {
     "data": {
      "text/plain": [
       "True"
      ]
     },
     "execution_count": 27,
     "metadata": {},
     "output_type": "execute_result"
    }
   ],
   "source": [
    "# Now checking for the login of a new user: Authentication\n",
    "\n",
    "login(\"Raghav\", \"Password\")\n",
    "\n",
    "# This function will return me True when the user exists, and the credentials entered by the user are correct.\n"
   ]
  },
  {
   "cell_type": "code",
   "execution_count": 11,
   "id": "9d6ac7b4",
   "metadata": {},
   "outputs": [
    {
     "name": "stdout",
     "output_type": "stream",
     "text": [
      "Access Denied, Either Incorrect Username or Incorrect Password or Both \n"
     ]
    },
    {
     "data": {
      "text/plain": [
       "False"
      ]
     },
     "execution_count": 11,
     "metadata": {},
     "output_type": "execute_result"
    }
   ],
   "source": [
    "# If not then, it will throw the error\n",
    "\n",
    "login(\"Raghav\", \"pass\")"
   ]
  },
  {
   "cell_type": "code",
   "execution_count": 28,
   "id": "dd888135",
   "metadata": {},
   "outputs": [
    {
     "data": {
      "text/plain": [
       "{'footwear': [], 'clothing': [], 'Electronics': []}"
      ]
     },
     "execution_count": 28,
     "metadata": {},
     "output_type": "execute_result"
    }
   ],
   "source": [
    "# Checking existing category\n",
    "\n",
    "categories"
   ]
  },
  {
   "cell_type": "code",
   "execution_count": 29,
   "id": "029147d0",
   "metadata": {},
   "outputs": [],
   "source": [
    "# Adding new category : Beauty\n",
    "\n",
    "# add_category(\"\")\n",
    "\n",
    "add_category(\"Beauty\") # Women\n",
    "add_category(\"Beauty_Men\") # Men"
   ]
  },
  {
   "cell_type": "code",
   "execution_count": 30,
   "id": "3d4cf497",
   "metadata": {},
   "outputs": [
    {
     "data": {
      "text/plain": [
       "{'footwear': [],\n",
       " 'clothing': [],\n",
       " 'Electronics': [],\n",
       " 'Beauty': [],\n",
       " 'Beauty_Men': []}"
      ]
     },
     "execution_count": 30,
     "metadata": {},
     "output_type": "execute_result"
    }
   ],
   "source": [
    "categories"
   ]
  },
  {
   "cell_type": "code",
   "execution_count": 31,
   "id": "b1a308a7",
   "metadata": {},
   "outputs": [],
   "source": [
    "# Changing Category name\n",
    "\n",
    "update_category(\"Beauty_Men\", \"Beast\")"
   ]
  },
  {
   "cell_type": "code",
   "execution_count": 32,
   "id": "2af53b7a",
   "metadata": {},
   "outputs": [
    {
     "data": {
      "text/plain": [
       "{'footwear': [], 'clothing': [], 'Electronics': [], 'Beauty': [], 'Beast': []}"
      ]
     },
     "execution_count": 32,
     "metadata": {},
     "output_type": "execute_result"
    }
   ],
   "source": [
    "categories"
   ]
  },
  {
   "cell_type": "code",
   "execution_count": 33,
   "id": "99348a2d",
   "metadata": {},
   "outputs": [
    {
     "name": "stdout",
     "output_type": "stream",
     "text": [
      "Item I-Phone added to Raghav's cart.\n",
      "Item Beard-Oil added to U1's cart.\n"
     ]
    },
    {
     "data": {
      "text/plain": [
       "True"
      ]
     },
     "execution_count": 33,
     "metadata": {},
     "output_type": "execute_result"
    }
   ],
   "source": [
    "add_to_cart(\"Raghav\", \"electronics\", \"I-Phone\")\n",
    "add_to_cart(\"U1\", \"Beast\", \"Beard-Oil\")"
   ]
  },
  {
   "cell_type": "code",
   "execution_count": 34,
   "id": "a30e3822",
   "metadata": {},
   "outputs": [
    {
     "data": {
      "text/plain": [
       "{'Raghav': [{'category': 'electronics', 'item': 'I-Phone'}],\n",
       " 'U1': [{'category': 'Beast', 'item': 'Beard-Oil'}]}"
      ]
     },
     "execution_count": 34,
     "metadata": {},
     "output_type": "execute_result"
    }
   ],
   "source": [
    "carts"
   ]
  },
  {
   "cell_type": "code",
   "execution_count": 25,
   "id": "b74ee573",
   "metadata": {},
   "outputs": [
    {
     "name": "stdout",
     "output_type": "stream",
     "text": [
      "Item Beard-Oil removed from U1's cart.\n"
     ]
    }
   ],
   "source": [
    "# Now removal of some item\n",
    "\n",
    "remove_from_cart(\"U1\", \"Beast\", \"Beard-Oil\")  "
   ]
  },
  {
   "cell_type": "code",
   "execution_count": 26,
   "id": "85c16a50",
   "metadata": {},
   "outputs": [
    {
     "data": {
      "text/plain": [
       "{'Raghav': [{'category': 'electronics', 'item': 'I-Phone'}], 'U1': []}"
      ]
     },
     "execution_count": 26,
     "metadata": {},
     "output_type": "execute_result"
    }
   ],
   "source": [
    "carts"
   ]
  },
  {
   "cell_type": "code",
   "execution_count": 35,
   "id": "5980e11b",
   "metadata": {},
   "outputs": [
    {
     "name": "stdout",
     "output_type": "stream",
     "text": [
      "Unsupported payment method.\n"
     ]
    }
   ],
   "source": [
    "# Process the payment.\n",
    "process_payment(\"Raghav\", 70000, \"CC\")\n",
    "\n",
    "# Paytm is not a valid payment method in our database"
   ]
  },
  {
   "cell_type": "code",
   "execution_count": 36,
   "id": "e0f3c7ec",
   "metadata": {},
   "outputs": [
    {
     "name": "stdout",
     "output_type": "stream",
     "text": [
      "Payment of 70000 using Credit_cards for user Raghav processed successfully. Expect the Order within today \n"
     ]
    }
   ],
   "source": [
    "process_payment(\"Raghav\", 70000, \"Credit_cards\")\n"
   ]
  },
  {
   "cell_type": "code",
   "execution_count": null,
   "id": "d3b4c025",
   "metadata": {},
   "outputs": [],
   "source": []
  }
 ],
 "metadata": {
  "kernelspec": {
   "display_name": "Python 3 (ipykernel)",
   "language": "python",
   "name": "python3"
  },
  "language_info": {
   "codemirror_mode": {
    "name": "ipython",
    "version": 3
   },
   "file_extension": ".py",
   "mimetype": "text/x-python",
   "name": "python",
   "nbconvert_exporter": "python",
   "pygments_lexer": "ipython3",
   "version": "3.11.4"
  }
 },
 "nbformat": 4,
 "nbformat_minor": 5
}
