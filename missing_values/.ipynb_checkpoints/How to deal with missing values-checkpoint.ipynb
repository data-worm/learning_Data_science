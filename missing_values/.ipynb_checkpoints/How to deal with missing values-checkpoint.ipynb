{
 "cells": [
  {
   "cell_type": "markdown",
   "id": "4619d47f",
   "metadata": {},
   "source": [
    "### How to handle missing values?\n",
    "### 1. Remove them\n",
    "### 2.Fill them  : a.univariate or b. Multi variate\n"
   ]
  },
  {
   "cell_type": "markdown",
   "id": "9745b464",
   "metadata": {},
   "source": [
    "##  a.Univariate\n",
    "\n",
    "### Missing can be in numerical or categorical data\n",
    "### num: 1. mean/median or random or end of distribution can be used\n",
    "### categorical data : Mode or missing can be used"
   ]
  },
  {
   "cell_type": "markdown",
   "id": "dbe3c162",
   "metadata": {},
   "source": [
    "## b. Multi variate\n",
    "\n",
    "### KNN imputer\n",
    "### Iterative imputer (MICE)"
   ]
  },
  {
   "cell_type": "code",
   "execution_count": null,
   "id": "1a687d88",
   "metadata": {},
   "outputs": [],
   "source": []
  }
 ],
 "metadata": {
  "kernelspec": {
   "display_name": "Python 3 (ipykernel)",
   "language": "python",
   "name": "python3"
  },
  "language_info": {
   "codemirror_mode": {
    "name": "ipython",
    "version": 3
   },
   "file_extension": ".py",
   "mimetype": "text/x-python",
   "name": "python",
   "nbconvert_exporter": "python",
   "pygments_lexer": "ipython3",
   "version": "3.11.4"
  }
 },
 "nbformat": 4,
 "nbformat_minor": 5
}
