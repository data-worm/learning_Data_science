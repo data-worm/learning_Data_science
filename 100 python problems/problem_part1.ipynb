{
 "cells": [
  {
   "cell_type": "markdown",
   "id": "2440a063",
   "metadata": {},
   "source": [
    "# Problem 1: User will input (3ages).Find the oldest one"
   ]
  },
  {
   "cell_type": "code",
   "execution_count": 16,
   "id": "672a9fd1",
   "metadata": {},
   "outputs": [
    {
     "name": "stdout",
     "output_type": "stream",
     "text": [
      "Enter age of person 1 \n",
      "5\n",
      "Enter age of person 2 \n",
      "6\n",
      "Enter age of person 3 \n",
      "9\n",
      "The highest age is 9\n"
     ]
    },
    {
     "data": {
      "text/plain": [
       "()"
      ]
     },
     "execution_count": 16,
     "metadata": {},
     "output_type": "execute_result"
    }
   ],
   "source": [
    "#solution1\n",
    "def enter_age():\n",
    "    age1=input(\"Enter age of person 1 \\n\")\n",
    "    age2=input(\"Enter age of person 2 \\n\")\n",
    "    age3=input(\"Enter age of person 3 \\n\")\n",
    "    \n",
    "    if age1>age2:\n",
    "        if age1>age3:\n",
    "            high=age1\n",
    "        else:\n",
    "            high=age3\n",
    "    else:\n",
    "        if age2>age3:\n",
    "            high=age2\n",
    "        else:\n",
    "            high=age3\n",
    "    print(\"The highest age is \" + str(high))\n",
    "    return()\n",
    "\n",
    "enter_age()    "
   ]
  },
  {
   "cell_type": "markdown",
   "id": "88a01285",
   "metadata": {},
   "source": [
    "# Problem 1: User will input (3ages).Find the oldest one (revise this)"
   ]
  },
  {
   "cell_type": "code",
   "execution_count": 50,
   "id": "b6a9fca3",
   "metadata": {},
   "outputs": [
    {
     "name": "stdout",
     "output_type": "stream",
     "text": [
      "55\n"
     ]
    },
    {
     "ename": "NameError",
     "evalue": "name 'age_' is not defined",
     "output_type": "error",
     "traceback": [
      "\u001b[1;31m---------------------------------------------------------------------------\u001b[0m",
      "\u001b[1;31mNameError\u001b[0m                                 Traceback (most recent call last)",
      "Cell \u001b[1;32mIn[50], line 4\u001b[0m\n\u001b[0;32m      1\u001b[0m \u001b[38;5;66;03m#solution2\u001b[39;00m\n\u001b[0;32m      2\u001b[0m \u001b[38;5;28;01mfor\u001b[39;00m i \u001b[38;5;129;01min\u001b[39;00m \u001b[38;5;28mlist\u001b[39m(\u001b[38;5;28mrange\u001b[39m(\u001b[38;5;241m0\u001b[39m,\u001b[38;5;241m3\u001b[39m,\u001b[38;5;241m1\u001b[39m)):\n\u001b[1;32m----> 4\u001b[0m     age_[i]\u001b[38;5;241m=\u001b[39m\u001b[38;5;28minput\u001b[39m()     \u001b[38;5;66;03m#important and revise\u001b[39;00m\n\u001b[0;32m      6\u001b[0m \u001b[38;5;28mprint\u001b[39m(\u001b[38;5;124m\"\u001b[39m\u001b[38;5;124mage of oldest person:\u001b[39m\u001b[38;5;124m\"\u001b[39m \u001b[38;5;241m+\u001b[39m \u001b[38;5;28mstr\u001b[39m(\u001b[38;5;28mmax\u001b[39m(age[\u001b[38;5;241m0\u001b[39m],age[\u001b[38;5;241m1\u001b[39m],age[\u001b[38;5;241m2\u001b[39m])))\n",
      "\u001b[1;31mNameError\u001b[0m: name 'age_' is not defined"
     ]
    }
   ],
   "source": [
    "#solution2\n",
    "for i in list(range(0,3,1)):\n",
    "    \n",
    "    age[i]=input()     #important and revise WE HAVE TO USE APPEND METHOD HERE\n",
    "    \n",
    "print(\"age of oldest person:\" + str(max(age[0],age[1],age[2])))\n"
   ]
  },
  {
   "cell_type": "markdown",
   "id": "07dfe1c0",
   "metadata": {},
   "source": [
    "# 2. Write a program that will convert celsius value to fahrenheit"
   ]
  },
  {
   "cell_type": "code",
   "execution_count": 33,
   "id": "8dfe3fb3",
   "metadata": {},
   "outputs": [
    {
     "name": "stdout",
     "output_type": "stream",
     "text": [
      "enter temperature in deg C 98\n",
      "208.4\n"
     ]
    }
   ],
   "source": [
    "#(°C × 9/5) + 32 = °F\n",
    "x=input(\"enter temperature in deg C \")\n",
    "temp_in_F = lambda temp_in_C : temp_in_C * (9.0/5.0) + 32.0\n",
    "print(temp_in_F(float(x)))\n",
    "#print(\"temp_in_F:\" , temp_in_F)"
   ]
  },
  {
   "cell_type": "markdown",
   "id": "c9044398",
   "metadata": {},
   "source": [
    "LL: \n",
    "lambda function and its calling\n",
    "data types--> convert every data type before using as formula."
   ]
  },
  {
   "cell_type": "markdown",
   "id": "fbf43489",
   "metadata": {},
   "source": [
    "# 3. User will input (2numbers).Write a program to swap the numbers"
   ]
  },
  {
   "cell_type": "code",
   "execution_count": null,
   "id": "db50e113",
   "metadata": {},
   "outputs": [],
   "source": [
    "def swap_my_num(a,b):\n",
    "    \n",
    "    c=a\n",
    "    a=b\n",
    "    b=c\n",
    "    return a,b\n",
    "x=input(\"enter the 1st number \")\n",
    "y=input(\"enter the 2nd number \")\n",
    "print(\"The swapped numbers are \" + str(swap_my_num(x,y)))\n"
   ]
  },
  {
   "cell_type": "markdown",
   "id": "3d0411eb",
   "metadata": {},
   "source": [
    "# 4. Write a program that will give you the sum of 3 digits (Very important and a lot to learn)\n"
   ]
  },
  {
   "cell_type": "code",
   "execution_count": 7,
   "id": "6e6e16a7",
   "metadata": {
    "scrolled": true
   },
   "outputs": [
    {
     "name": "stdout",
     "output_type": "stream",
     "text": [
      "How many numbers do you want to enter2\n"
     ]
    },
    {
     "ename": "NameError",
     "evalue": "name 'my_num' is not defined",
     "output_type": "error",
     "traceback": [
      "\u001b[1;31m---------------------------------------------------------------------------\u001b[0m",
      "\u001b[1;31mNameError\u001b[0m                                 Traceback (most recent call last)",
      "Cell \u001b[1;32mIn[7], line 5\u001b[0m\n\u001b[0;32m      3\u001b[0m \u001b[38;5;66;03m#my_num =[]\u001b[39;00m\n\u001b[0;32m      4\u001b[0m \u001b[38;5;28;01mfor\u001b[39;00m n \u001b[38;5;129;01min\u001b[39;00m \u001b[38;5;28mlist\u001b[39m(\u001b[38;5;28mrange\u001b[39m(\u001b[38;5;241m0\u001b[39m,number_of_elements,\u001b[38;5;241m1\u001b[39m)):\n\u001b[1;32m----> 5\u001b[0m     my_num\u001b[38;5;241m.\u001b[39mappend(\u001b[38;5;28mint\u001b[39m(\u001b[38;5;28minput\u001b[39m()))\n\u001b[0;32m      7\u001b[0m \u001b[38;5;28mprint\u001b[39m(\u001b[38;5;124m\"\u001b[39m\u001b[38;5;124mThe sum of \u001b[39m\u001b[38;5;124m\"\u001b[39m\u001b[38;5;241m+\u001b[39m\u001b[38;5;28mstr\u001b[39m(number_of_elements) \u001b[38;5;241m+\u001b[39m\u001b[38;5;124m\"\u001b[39m\u001b[38;5;124m numbers are: \u001b[39m\u001b[38;5;124m\"\u001b[39m \u001b[38;5;241m+\u001b[39m \u001b[38;5;28mstr\u001b[39m(\u001b[38;5;28msum\u001b[39m(my_num)))\n",
      "\u001b[1;31mNameError\u001b[0m: name 'my_num' is not defined"
     ]
    }
   ],
   "source": [
    "%reset -f\n",
    "number_of_elements=int(input(\"How many numbers do you want to enter\"))\n",
    "my_num =[]\n",
    "for n in list(range(0,number_of_elements,1)):\n",
    "    my_num.append(int(input()))\n",
    "\n",
    "print(\"The sum of \"+str(number_of_elements) +\" numbers are: \" + str(sum(my_num)))\n",
    "#print(\"The sum of 3 numbers are: \" + sum(num[0], num[1], num[2]))"
   ]
  },
  {
   "cell_type": "code",
   "execution_count": null,
   "id": "a0125a33",
   "metadata": {},
   "outputs": [],
   "source": []
  },
  {
   "cell_type": "markdown",
   "id": "c5085641",
   "metadata": {},
   "source": [
    "# 5. Write a program that will reverse a four digit number.Also it checks whether the reverse is true.\n"
   ]
  },
  {
   "cell_type": "code",
   "execution_count": null,
   "id": "4a97c456",
   "metadata": {},
   "outputs": [],
   "source": []
  },
  {
   "cell_type": "markdown",
   "id": "73f30bde",
   "metadata": {},
   "source": [
    "# 6. Write a program that will tell whether the number entered by the user is odd or even\n"
   ]
  },
  {
   "cell_type": "code",
   "execution_count": 10,
   "id": "302b068b",
   "metadata": {},
   "outputs": [
    {
     "name": "stdout",
     "output_type": "stream",
     "text": [
      "insert your number \n",
      "5\n",
      "odd\n",
      "insert your number \n",
      "6\n",
      "even\n",
      "insert your number \n",
      "10\n",
      "even\n",
      "insert your number \n",
      "1000\n",
      "even\n",
      "insert your number \n",
      "0\n",
      "even\n"
     ]
    }
   ],
   "source": [
    "%reset -f\n",
    "\n",
    "for n in list(range(0,5,1)):\n",
    "    num=int(input(\"insert your number \\n\"))\n",
    "    if num%2==0:\n",
    "        print(\"even\")\n",
    "    else:\n",
    "        print(\"odd\")\n",
    "    \n"
   ]
  },
  {
   "cell_type": "code",
   "execution_count": null,
   "id": "91e2ffa6",
   "metadata": {},
   "outputs": [],
   "source": []
  },
  {
   "cell_type": "markdown",
   "id": "7d421f18",
   "metadata": {},
   "source": [
    "# 7.Write a program that will tell whether the given year is a leap year or not.\n",
    "\n"
   ]
  },
  {
   "cell_type": "code",
   "execution_count": 11,
   "id": "b016e604",
   "metadata": {},
   "outputs": [
    {
     "name": "stdout",
     "output_type": "stream",
     "text": [
      "insert your year \n",
      "2024\n",
      "leap year\n",
      "insert your year \n",
      "2000\n",
      "leap year\n",
      "insert your year \n",
      "19000\n",
      "non_leap year\n",
      "insert your year \n",
      "1900\n",
      "non_leap year\n",
      "insert your year \n",
      "1700\n",
      "non_leap year\n"
     ]
    }
   ],
   "source": [
    "%reset -f\n",
    "\n",
    "for n in list(range(0,5,1)):\n",
    "    year=int(input(\"insert your year \\n\"))\n",
    "    if year%4==0:\n",
    "        if year%100==0:\n",
    "            if year%400==0:\n",
    "                print(\"leap year\")\n",
    "            else:\n",
    "                print(\"non_leap year\")\n",
    "        else:\n",
    "            print(\"leap year\")\n",
    "    else:\n",
    "        print(\"non_leap year\")\n",
    "            "
   ]
  },
  {
   "cell_type": "markdown",
   "id": "06f6741b",
   "metadata": {},
   "source": [
    "# 8. Write a program to find the euclidean distance between two coordinates.\n",
    "\n"
   ]
  },
  {
   "cell_type": "code",
   "execution_count": 22,
   "id": "2b80fd94",
   "metadata": {
    "scrolled": true
   },
   "outputs": [
    {
     "name": "stdout",
     "output_type": "stream",
     "text": [
      "enter first x,y coordinates\n",
      "1,1\n",
      "enter second x,y coordinates\n",
      "2,2\n",
      "the Eucledian diatance is: 1.4142135623730951\n"
     ]
    }
   ],
   "source": [
    "%reset -f\n",
    "import math\n",
    "a= input(\"enter first x,y coordinates\\n\")\n",
    "b= input(\"enter second x,y coordinates\\n\")\n",
    "\n",
    "a_array=a.split(\",\")\n",
    "b_array=b.split(\",\")\n",
    "\n",
    "print(\"the Eucledian diatance is: \" + str(math.sqrt((int(b_array[0])-int(a_array[0]))**2+(int(a_array[1])-int(b_array[1]))**2)))\n"
   ]
  },
  {
   "cell_type": "markdown",
   "id": "021ddc92",
   "metadata": {},
   "source": [
    "# 9. Write a program that take a user inputr of three angles and will find out whether it can form a triangle or not."
   ]
  },
  {
   "cell_type": "code",
   "execution_count": 5,
   "id": "ed71c5fa",
   "metadata": {},
   "outputs": [
    {
     "name": "stdout",
     "output_type": "stream",
     "text": [
      "Enter the 3 angles in degrees\n",
      "40\n",
      "30\n",
      "25\n",
      "it can NOT form a triangle\n"
     ]
    }
   ],
   "source": [
    "%reset -f\n",
    "angles=[]\n",
    "print(\"Enter the 3 angles in degrees\")\n",
    "for i in list(range(0,3,1)):\n",
    "    a=input()\n",
    "    angles.append(float(a))\n",
    "    \n",
    "if sum(angles)==180.0:     #ALSO THE ANGLES SHOULD NOT BE EQUALS TO ZERO\n",
    "    print(\"it can form a triangle\")\n",
    "else:\n",
    "    print(\"it can NOT form a triangle\")"
   ]
  },
  {
   "cell_type": "code",
   "execution_count": null,
   "id": "c741cf0f",
   "metadata": {},
   "outputs": [],
   "source": []
  },
  {
   "cell_type": "markdown",
   "id": "6c8d65a2",
   "metadata": {},
   "source": [
    "# 14.Calculate the angle between the hour hand and minute hand."
   ]
  },
  {
   "cell_type": "code",
   "execution_count": 22,
   "id": "eedcc2ab",
   "metadata": {
    "scrolled": true
   },
   "outputs": [
    {
     "name": "stdout",
     "output_type": "stream",
     "text": [
      "Enter time in HH:MM format(12 hours)\n",
      "12:55\n",
      "angle difference :30.0\n"
     ]
    }
   ],
   "source": [
    "#in 1 min, minute hand moves 6 degrees and hour hand moves 0.5 degrees\n",
    "\n",
    "%reset -f\n",
    "HM_array=input(\"Enter time in HH:MM format(12 hours)\\n\").split(\":\")\n",
    "hour_hand=int(HM_array[0])\n",
    "min_hand=int(HM_array[1])\n",
    "angle_hour_hand=hour_hand*60*0.5\n",
    "angle_min_hand=min_hand*6\n",
    "\n",
    "angle_dif=abs(angle_hour_hand-angle_min_hand)\n",
    "if angle_dif<=180:\n",
    "    print(\"angle difference :\"+ str(angle_dif))\n",
    "elif angle_dif>180:\n",
    "    print(\"angle difference :\"+ str(360-angle_dif))\n",
    "else:\n",
    "    print(\"invalid\")"
   ]
  },
  {
   "cell_type": "markdown",
   "id": "07ae844e",
   "metadata": {},
   "source": [
    "# 15.Given two rectangles, find if the given two rectangles overlap or not. A rectangle is denoted by providing the x and y coordinates of two points: the left top corner and the right bottom corner of the rectangle. Two rectangles sharing a side are considered overlapping. (L1 and R1 are the extreme points of the first rectangle and L2 and R2 are the extreme points of the second rectangle)."
   ]
  },
  {
   "cell_type": "code",
   "execution_count": null,
   "id": "6cdb269b",
   "metadata": {},
   "outputs": [],
   "source": []
  },
  {
   "cell_type": "markdown",
   "id": "2a16fa44",
   "metadata": {},
   "source": [
    "# 17. Write a program that will take three digits from the user and add the square of each digit.\n"
   ]
  },
  {
   "cell_type": "code",
   "execution_count": 37,
   "id": "f74825df",
   "metadata": {},
   "outputs": [
    {
     "name": "stdout",
     "output_type": "stream",
     "text": [
      "enter a 3 digit number \n",
      "364\n",
      "364\n",
      "16\n",
      "36\n",
      "9\n"
     ]
    },
    {
     "ename": "KeyboardInterrupt",
     "evalue": "Interrupted by user",
     "output_type": "error",
     "traceback": [
      "\u001b[1;31m---------------------------------------------------------------------------\u001b[0m",
      "\u001b[1;31mKeyboardInterrupt\u001b[0m                         Traceback (most recent call last)",
      "Cell \u001b[1;32mIn[37], line 3\u001b[0m\n\u001b[0;32m      1\u001b[0m get_ipython()\u001b[38;5;241m.\u001b[39mrun_line_magic(\u001b[38;5;124m'\u001b[39m\u001b[38;5;124mreset\u001b[39m\u001b[38;5;124m'\u001b[39m, \u001b[38;5;124m'\u001b[39m\u001b[38;5;124m-f\u001b[39m\u001b[38;5;124m'\u001b[39m)\n\u001b[0;32m      2\u001b[0m \u001b[38;5;28;01mfor\u001b[39;00m i \u001b[38;5;129;01min\u001b[39;00m \u001b[38;5;28mlist\u001b[39m(\u001b[38;5;28mrange\u001b[39m(\u001b[38;5;241m0\u001b[39m,\u001b[38;5;241m3\u001b[39m,\u001b[38;5;241m1\u001b[39m)):    \n\u001b[1;32m----> 3\u001b[0m     num\u001b[38;5;241m=\u001b[39m\u001b[38;5;28mint\u001b[39m(\u001b[38;5;28minput\u001b[39m(\u001b[38;5;124m\"\u001b[39m\u001b[38;5;124menter a 3 digit number \u001b[39m\u001b[38;5;130;01m\\n\u001b[39;00m\u001b[38;5;124m\"\u001b[39m))\n\u001b[0;32m      4\u001b[0m     \u001b[38;5;28mprint\u001b[39m(num)\n\u001b[0;32m      5\u001b[0m     \u001b[38;5;28mprint\u001b[39m((num\u001b[38;5;241m%\u001b[39m\u001b[38;5;241m10\u001b[39m)\u001b[38;5;241m*\u001b[39m\u001b[38;5;241m*\u001b[39m\u001b[38;5;241m2\u001b[39m)\n",
      "File \u001b[1;32m~\\anaconda3\\Lib\\site-packages\\ipykernel\\kernelbase.py:1202\u001b[0m, in \u001b[0;36mKernel.raw_input\u001b[1;34m(self, prompt)\u001b[0m\n\u001b[0;32m   1200\u001b[0m     msg \u001b[38;5;241m=\u001b[39m \u001b[38;5;124m\"\u001b[39m\u001b[38;5;124mraw_input was called, but this frontend does not support input requests.\u001b[39m\u001b[38;5;124m\"\u001b[39m\n\u001b[0;32m   1201\u001b[0m     \u001b[38;5;28;01mraise\u001b[39;00m StdinNotImplementedError(msg)\n\u001b[1;32m-> 1202\u001b[0m \u001b[38;5;28;01mreturn\u001b[39;00m \u001b[38;5;28mself\u001b[39m\u001b[38;5;241m.\u001b[39m_input_request(\n\u001b[0;32m   1203\u001b[0m     \u001b[38;5;28mstr\u001b[39m(prompt),\n\u001b[0;32m   1204\u001b[0m     \u001b[38;5;28mself\u001b[39m\u001b[38;5;241m.\u001b[39m_parent_ident[\u001b[38;5;124m\"\u001b[39m\u001b[38;5;124mshell\u001b[39m\u001b[38;5;124m\"\u001b[39m],\n\u001b[0;32m   1205\u001b[0m     \u001b[38;5;28mself\u001b[39m\u001b[38;5;241m.\u001b[39mget_parent(\u001b[38;5;124m\"\u001b[39m\u001b[38;5;124mshell\u001b[39m\u001b[38;5;124m\"\u001b[39m),\n\u001b[0;32m   1206\u001b[0m     password\u001b[38;5;241m=\u001b[39m\u001b[38;5;28;01mFalse\u001b[39;00m,\n\u001b[0;32m   1207\u001b[0m )\n",
      "File \u001b[1;32m~\\anaconda3\\Lib\\site-packages\\ipykernel\\kernelbase.py:1245\u001b[0m, in \u001b[0;36mKernel._input_request\u001b[1;34m(self, prompt, ident, parent, password)\u001b[0m\n\u001b[0;32m   1242\u001b[0m \u001b[38;5;28;01mexcept\u001b[39;00m \u001b[38;5;167;01mKeyboardInterrupt\u001b[39;00m:\n\u001b[0;32m   1243\u001b[0m     \u001b[38;5;66;03m# re-raise KeyboardInterrupt, to truncate traceback\u001b[39;00m\n\u001b[0;32m   1244\u001b[0m     msg \u001b[38;5;241m=\u001b[39m \u001b[38;5;124m\"\u001b[39m\u001b[38;5;124mInterrupted by user\u001b[39m\u001b[38;5;124m\"\u001b[39m\n\u001b[1;32m-> 1245\u001b[0m     \u001b[38;5;28;01mraise\u001b[39;00m \u001b[38;5;167;01mKeyboardInterrupt\u001b[39;00m(msg) \u001b[38;5;28;01mfrom\u001b[39;00m \u001b[38;5;28;01mNone\u001b[39;00m\n\u001b[0;32m   1246\u001b[0m \u001b[38;5;28;01mexcept\u001b[39;00m \u001b[38;5;167;01mException\u001b[39;00m:\n\u001b[0;32m   1247\u001b[0m     \u001b[38;5;28mself\u001b[39m\u001b[38;5;241m.\u001b[39mlog\u001b[38;5;241m.\u001b[39mwarning(\u001b[38;5;124m\"\u001b[39m\u001b[38;5;124mInvalid Message:\u001b[39m\u001b[38;5;124m\"\u001b[39m, exc_info\u001b[38;5;241m=\u001b[39m\u001b[38;5;28;01mTrue\u001b[39;00m)\n",
      "\u001b[1;31mKeyboardInterrupt\u001b[0m: Interrupted by user"
     ]
    }
   ],
   "source": [
    "%reset -f\n",
    "for i in list(range(0,3,1)):    \n",
    "    num=int(input(\"enter a 3 digit number \\n\"))\n",
    "    print(num)\n",
    "    print((num%10)**2)\n",
    "    print(int((num%100)/10)**2)\n",
    "    print(int((num/100))**2)\n",
    "    # + (num/100)**2"
   ]
  },
  {
   "cell_type": "code",
   "execution_count": null,
   "id": "1d34d5f4",
   "metadata": {},
   "outputs": [],
   "source": []
  },
  {
   "cell_type": "code",
   "execution_count": null,
   "id": "bde4f566",
   "metadata": {},
   "outputs": [],
   "source": []
  }
 ],
 "metadata": {
  "kernelspec": {
   "display_name": "Python 3 (ipykernel)",
   "language": "python",
   "name": "python3"
  },
  "language_info": {
   "codemirror_mode": {
    "name": "ipython",
    "version": 3
   },
   "file_extension": ".py",
   "mimetype": "text/x-python",
   "name": "python",
   "nbconvert_exporter": "python",
   "pygments_lexer": "ipython3",
   "version": "3.11.4"
  }
 },
 "nbformat": 4,
 "nbformat_minor": 5
}
