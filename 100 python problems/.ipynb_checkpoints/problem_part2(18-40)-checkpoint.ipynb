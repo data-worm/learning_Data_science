{
 "cells": [
  {
   "cell_type": "markdown",
   "id": "4413feb6",
   "metadata": {},
   "source": [
    "# Q. Finding all the digits of a entered number"
   ]
  },
  {
   "cell_type": "code",
   "execution_count": 2,
   "id": "c4e84be0",
   "metadata": {},
   "outputs": [
    {
     "name": "stdout",
     "output_type": "stream",
     "text": [
      "enter a 3 digit integer \n",
      "968\n",
      "8\n",
      "6\n",
      "9\n"
     ]
    }
   ],
   "source": [
    "#sol 1 : when number of digits are known\n",
    "%reset -f\n",
    "num=int(input(\"enter a 3 digit integer \\n\"))\n",
    "for i in list(range(0,3,1)):\n",
    "    digit=num%10\n",
    "    num=int(num/10)\n",
    "    print(digit)\n",
    "    "
   ]
  },
  {
   "cell_type": "code",
   "execution_count": 25,
   "id": "d41f0559",
   "metadata": {},
   "outputs": [
    {
     "name": "stdout",
     "output_type": "stream",
     "text": [
      "enter an integer \n",
      "153\n",
      "3\n",
      "None\n"
     ]
    }
   ],
   "source": [
    "#sol 2 : when number of digits are un known\n",
    "%reset -f\n",
    "num=int(input(\"enter an integer \\n\"))\n",
    "\n",
    "#finding all the digits and number of digits of a number\n",
    "def find_digits(int_num):\n",
    "    num_of_digits=0\n",
    "    all_digits=[]\n",
    "    while int_num>0:\n",
    "        digit=int_num%10\n",
    "        int_num=int(int_num/10)\n",
    "\n",
    "        num_of_digits += 1\n",
    "        all_digits.append(digit)\n",
    "    \n",
    "    print(num_of_digits)\n",
    "    print(all_digits)\n",
    "    \n",
    "\n",
    "    \n",
    "find_digits(num)\n"
   ]
  },
  {
   "cell_type": "markdown",
   "id": "30d8454f",
   "metadata": {},
   "source": [
    "# Q. return the list as an output of function and input of function"
   ]
  },
  {
   "cell_type": "code",
   "execution_count": null,
   "id": "deaeccf1",
   "metadata": {},
   "outputs": [],
   "source": [
    "%reset -f\n",
    "def inp_from_customer():\n",
    "    \n",
    "    input_nums=[]\n",
    "    for i in list(range(0,5,1)):\n",
    "        a=int(input(\"type your number :  \\t \"))\n",
    "        input_nums.append(a)\n",
    "    #print(input_nums)\n",
    "    return input_nums\n",
    "\n",
    "def sum_my_list(new_list):\n",
    "    print(\"i am here\")\n",
    "    print(new_list[2])\n",
    "\n",
    "my_returned_list=inp_from_customer()\n",
    "print(my_returned_list)\n",
    "sum_my_list(my_returned_list)"
   ]
  },
  {
   "cell_type": "code",
   "execution_count": null,
   "id": "cb0ed40e",
   "metadata": {},
   "outputs": [],
   "source": []
  },
  {
   "cell_type": "markdown",
   "id": "f487ff41",
   "metadata": {},
   "source": [
    "# 18. Write a program that will check whether the number is armstrong number or not."
   ]
  },
  {
   "cell_type": "code",
   "execution_count": 8,
   "id": "9d55deb2",
   "metadata": {},
   "outputs": [
    {
     "name": "stdout",
     "output_type": "stream",
     "text": [
      "enter an integer \n",
      "153\n"
     ]
    },
    {
     "ename": "TypeError",
     "evalue": "check_armstrong() missing 1 required positional argument: 'y'",
     "output_type": "error",
     "traceback": [
      "\u001b[1;31m---------------------------------------------------------------------------\u001b[0m",
      "\u001b[1;31mTypeError\u001b[0m                                 Traceback (most recent call last)",
      "Cell \u001b[1;32mIn[8], line 31\u001b[0m\n\u001b[0;32m     29\u001b[0m num\u001b[38;5;241m=\u001b[39m\u001b[38;5;28mint\u001b[39m(\u001b[38;5;28minput\u001b[39m(\u001b[38;5;124m\"\u001b[39m\u001b[38;5;124menter an integer \u001b[39m\u001b[38;5;130;01m\\n\u001b[39;00m\u001b[38;5;124m\"\u001b[39m))    \n\u001b[0;32m     30\u001b[0m \u001b[38;5;66;03m#a,b= find_digits(num)    #important step\u001b[39;00m\n\u001b[1;32m---> 31\u001b[0m check_armstrong(find_digits(num))\n",
      "\u001b[1;31mTypeError\u001b[0m: check_armstrong() missing 1 required positional argument: 'y'"
     ]
    }
   ],
   "source": [
    "%reset -f\n",
    "\n",
    "#finding all the digits and number of digits of a number\n",
    "def find_digits(int_num):\n",
    "    num_of_digits=0\n",
    "    all_digits=[]\n",
    "    while int_num>0:\n",
    "        digit=int_num%10\n",
    "        int_num=int(int_num/10)\n",
    "\n",
    "        num_of_digits += 1\n",
    "        all_digits.append(digit)\n",
    "    \n",
    "    #print(num_of_digits)\n",
    "    #print(all_digits)\n",
    "    return all_digits,num_of_digits   #important step\n",
    "    \n",
    "#to check if it is an armstrong number or not ? \n",
    "def check_armstrong(x,y):\n",
    "    internal_sum=0\n",
    "    for i in list(range(0,y,1)):\n",
    "        internal_sum=internal_sum+x[i]**y\n",
    "    if internal_sum==num:\n",
    "        print(\"Armstrong number\")\n",
    "    else:\n",
    "        print(\"NOT a Armstrong number\")\n",
    "        \n",
    "#function calls\n",
    "num=int(input(\"enter an integer \\n\"))    \n",
    "a,b= find_digits(num)    #important step\n",
    "check_armstrong(a,b)"
   ]
  },
  {
   "cell_type": "code",
   "execution_count": null,
   "id": "ab9c7874",
   "metadata": {},
   "outputs": [],
   "source": []
  },
  {
   "cell_type": "markdown",
   "id": "24d6b3cd",
   "metadata": {},
   "source": [
    "# 20. Write a program that will give you the in hand salary after deduction of HRA(10%),DA(5%),PF(3%), and tax(if salary is between5-10 lakh–10%),(11-20lakh–20%),(20< _ – 30%)"
   ]
  },
  {
   "cell_type": "code",
   "execution_count": 9,
   "id": "c1d0f163",
   "metadata": {},
   "outputs": [
    {
     "name": "stdout",
     "output_type": "stream",
     "text": [
      "Enter your net salary \n",
      "16\n",
      "Your inhand salary is equals to 9.919999999999998\n"
     ]
    }
   ],
   "source": [
    "#function calculate tax\n",
    "def cal_tax(sal):\n",
    "    if sal >=5.0 and sal <10.0:\n",
    "        return 0.1*sal\n",
    "    elif sal >=10.0 and sal <20.0:\n",
    "         return 0.2*sal\n",
    "    elif sal >=20.0:\n",
    "        return 0.3*sal\n",
    "    else:\n",
    "        return 0\n",
    "\n",
    "net_sal=float(input(\"Enter your net salary \\n\"))\n",
    "print(\"Your inhand salary is equals to \" + str(0.82*net_sal - cal_tax(net_sal)))\n",
    "\n",
    "    "
   ]
  },
  {
   "cell_type": "markdown",
   "id": "cc4419e4",
   "metadata": {},
   "source": [
    "# 21. Write a menu driven program - 1.cm to ft 2.kl to miles 3.usd to inr 4.exit\n"
   ]
  },
  {
   "cell_type": "code",
   "execution_count": 12,
   "id": "b3979662",
   "metadata": {},
   "outputs": [
    {
     "name": "stdout",
     "output_type": "stream",
     "text": [
      "Choose what you want to convert : \n",
      "1.cm to ft\n",
      "2.km to miles\n",
      "3.usd to inr\n",
      "4.exit\n",
      "1\n",
      "enter in cm65.789\n",
      "2.1584318276000003\n"
     ]
    }
   ],
   "source": [
    "def what_to_convert():\n",
    "    user_choice=int(input(\"Choose what you want to convert : \\n1.cm to ft\\n2.km to miles\\n3.usd to inr\\n4.exit\\n\"))\n",
    "    if user_choice==1:\n",
    "        cm_to_feet()\n",
    "    else:\n",
    "        print(\"NOT Possible today\")\n",
    "    \n",
    "def cm_to_feet():\n",
    "    in_cm=float(input(\"enter in cm\"))\n",
    "    print(0.0328084*in_cm)\n",
    "\n",
    "what_to_convert()\n",
    "\n",
    "    "
   ]
  },
  {
   "cell_type": "markdown",
   "id": "3c92b921",
   "metadata": {},
   "source": [
    "# 25.Write a program that can multiply 2 numbers provided by the user without using the * operator"
   ]
  },
  {
   "cell_type": "code",
   "execution_count": 17,
   "id": "c6cbd0d4",
   "metadata": {},
   "outputs": [
    {
     "name": "stdout",
     "output_type": "stream",
     "text": [
      "4\n",
      "6\n",
      "24\n"
     ]
    }
   ],
   "source": [
    "a,b = int(input()),int(input())\n",
    "sum=0\n",
    "for i in list(range(0,b,1)):\n",
    "    sum=sum+a\n",
    "\n",
    "print(sum)"
   ]
  },
  {
   "cell_type": "markdown",
   "id": "46884504",
   "metadata": {},
   "source": [
    "# 26.Write a program that can find the factorial of a given number provided by the user.\n",
    "\n",
    "# hint: factorial = n*  n-1*  n-2.....till n=1"
   ]
  },
  {
   "cell_type": "code",
   "execution_count": 18,
   "id": "6d281138",
   "metadata": {},
   "outputs": [
    {
     "name": "stdout",
     "output_type": "stream",
     "text": [
      "enter the numner \n",
      " 5\n"
     ]
    },
    {
     "data": {
      "text/plain": [
       "120"
      ]
     },
     "execution_count": 18,
     "metadata": {},
     "output_type": "execute_result"
    }
   ],
   "source": [
    "%reset -f\n",
    "def factorial(n):\n",
    "    total=1\n",
    "    while n>1:\n",
    "        total=total * n\n",
    "        n -= 1\n",
    "    return(total)\n",
    "\n",
    "num=int(input(\"enter the numner \\n \"))\n",
    "factorial(num)\n",
    "        "
   ]
  },
  {
   "cell_type": "markdown",
   "id": "3a9300ab",
   "metadata": {},
   "source": [
    "# 35.Print the first 20 numbers of a Fibonacci series.\n",
    "# 0, 1, 1, 2, 3, 5, 8, 13, 21, 34, 55, 89, 144 . . .  (Pending)"
   ]
  },
  {
   "cell_type": "code",
   "execution_count": null,
   "id": "e8c91b72",
   "metadata": {},
   "outputs": [],
   "source": [
    "%reset -f\n",
    "n=int(input(\"How many numbers do you need ? \\n\"))\n",
    "present_num=1\n",
    "previous_num=0\n",
    "print(previous_num)\n",
    "print(\"\\t\")\n",
    "print(present_num)\n",
    "print(\"\\t\")\n",
    "\n",
    "for i in list(range(0,n-2,1)):\n",
    "    present_num=\n",
    "    print(present_num + previous_num)\n",
    "    print(\"\\t\")\n",
    "    previous_num = present_num\n",
    "    \n",
    "    "
   ]
  },
  {
   "cell_type": "markdown",
   "id": "6c6a0bc0",
   "metadata": {},
   "source": [
    "# 39.Print all factors of a given number provided by the user."
   ]
  },
  {
   "cell_type": "code",
   "execution_count": 4,
   "id": "26a18970",
   "metadata": {},
   "outputs": [
    {
     "name": "stdout",
     "output_type": "stream",
     "text": [
      "write your number ? \n",
      "14\n",
      "1\n",
      "2\n",
      "7\n",
      "14\n"
     ]
    }
   ],
   "source": [
    "%reset -f\n",
    "n=int(input(\"write your number ? \\n\"))\n",
    "for i in list(range(1,n+1,1)):\n",
    "    if n%i == 0:\n",
    "        print(i)\n",
    "        "
   ]
  },
  {
   "cell_type": "markdown",
   "id": "bb703b10",
   "metadata": {},
   "source": [
    "# 40. reverse number entered by user"
   ]
  },
  {
   "cell_type": "code",
   "execution_count": 9,
   "id": "1d5a9828",
   "metadata": {
    "scrolled": true
   },
   "outputs": [
    {
     "name": "stdout",
     "output_type": "stream",
     "text": [
      "enter an integer \n",
      "69854\n",
      "45896\n"
     ]
    }
   ],
   "source": [
    "%reset -f\n",
    "#finding all the digits and number of digits of a number\n",
    "def find_digits(int_num):\n",
    "    num_of_digits=0\n",
    "    all_digits=[]\n",
    "    while int_num>0:\n",
    "        digit=int_num%10\n",
    "        int_num=int(int_num/10)\n",
    "\n",
    "        num_of_digits += 1\n",
    "        all_digits.append(digit)\n",
    "    \n",
    "    #print(num_of_digits)\n",
    "    #print(all_digits)\n",
    "    return all_digits,num_of_digits   #important step\n",
    "\n",
    "def reverse_digits(all_digits,num_of_digits):\n",
    "    new_r_num=0\n",
    "    for i in list(range(0,num_of_digits,1)):\n",
    "        new_r_num=new_r_num + all_digits[i]*(10**(num_of_digits-i-1))\n",
    "    print(new_r_num)\n",
    "\n",
    "#function calls\n",
    "num=int(input(\"enter an integer \\n\"))    \n",
    "a,b= find_digits(num)    #important step\n",
    "reverse_digits(a,b)"
   ]
  },
  {
   "cell_type": "markdown",
   "id": "78baef38",
   "metadata": {},
   "source": [
    "#  41 star pattern  (important to understand the range)"
   ]
  },
  {
   "cell_type": "code",
   "execution_count": 1,
   "id": "79e33615",
   "metadata": {},
   "outputs": [
    {
     "name": "stdout",
     "output_type": "stream",
     "text": [
      "number of stars at the end \n",
      "7\n",
      "\n",
      "\n",
      "*\n",
      "\n",
      "**\n",
      "\n",
      "***\n",
      "\n",
      "****\n",
      "\n",
      "*****\n",
      "\n",
      "******\n",
      "\n",
      "*******"
     ]
    }
   ],
   "source": [
    "num=int(input(\"number of stars at the end \\n\"))\n",
    "for i in list(range(0,num,1)):\n",
    "    #print(\"--\")\n",
    "    #print(i)\n",
    "    print(\"\\n\")\n",
    "    for j in list(range(0,i+1,1)):\n",
    "        #print(j)\n",
    "        print(\"*\",end=\"\")"
   ]
  },
  {
   "cell_type": "markdown",
   "id": "ee4736d2",
   "metadata": {},
   "source": [
    "# 42.star pattern (important to understand the range)"
   ]
  },
  {
   "cell_type": "code",
   "execution_count": 8,
   "id": "2e505a47",
   "metadata": {},
   "outputs": [
    {
     "name": "stdout",
     "output_type": "stream",
     "text": [
      "number of stars at the middle \n",
      "5\n",
      "\n",
      "\n",
      "*\n",
      "\n",
      "**\n",
      "\n",
      "***\n",
      "\n",
      "****\n",
      "\n",
      "*****\n",
      "\n",
      "****\n",
      "\n",
      "***\n",
      "\n",
      "**\n",
      "\n",
      "*\n",
      "\n"
     ]
    }
   ],
   "source": [
    "num=int(input(\"number of stars at the middle \\n\"))\n",
    "\n",
    "for i in list(range(0,num,1)):\n",
    "    #print(\"--\")\n",
    "    #print(i)\n",
    "    print(\"\\n\")\n",
    "    for j in list(range(0,i+1,1)):          \n",
    "        #print(j)\n",
    "        print(\"*\",end=\"\")\n",
    "for i in list(range(num,0,-1)):\n",
    "    #print(\"--\")\n",
    "    #print(i)\n",
    "    print(\"\\n\")\n",
    "    for j in list(range(i-1,0,-1)):\n",
    "        #print(j)\n",
    "        print(\"*\",end=\"\")"
   ]
  },
  {
   "cell_type": "markdown",
   "id": "140306f6",
   "metadata": {},
   "source": [
    "# 44. Write a program to print the following pattern (unfinished)\n",
    "# 1\n",
    "# 1 2 1\n",
    "# 1 2 3 2 1\n",
    "# 1 2 3 4 3 2 1\n",
    "# 1 2 3 4 5 4 3 2 1\n"
   ]
  },
  {
   "cell_type": "code",
   "execution_count": null,
   "id": "846bf7a2",
   "metadata": {},
   "outputs": [],
   "source": []
  },
  {
   "cell_type": "code",
   "execution_count": 8,
   "id": "d7ece09e",
   "metadata": {
    "scrolled": false
   },
   "outputs": [
    {
     "name": "stdout",
     "output_type": "stream",
     "text": [
      "maximum number in the pattern \n",
      "5\n",
      "\n",
      "\n",
      "1 \n",
      "\n",
      "1 2 1 \n",
      "\n",
      "1 2 3 2 1 \n",
      "\n",
      "1 2 3 4 3 2 1 \n",
      "\n",
      "1 2 3 4 5 4 3 2 1 "
     ]
    }
   ],
   "source": [
    "%reset -f\n",
    "num=int(input(\"maximum number in the pattern \\n\"))\n",
    "\n",
    "for i in list(range(1,num+1,1)):\n",
    "    #print(\"--\")\n",
    "    #print(i)\n",
    "    print(\"\\n\")\n",
    "    for j in list(range(1,i+1,1)):          \n",
    "        print(j,end=\" \")\n",
    "    for k in list(range(i-1,0,-1)):          \n",
    "        print(k,end=\" \")"
   ]
  },
  {
   "cell_type": "markdown",
   "id": "cca38f08",
   "metadata": {},
   "source": [
    "#  45. Write a program to print the following pattern\n",
    "# 1\n",
    "# 2 3\n",
    "# 4 5 6\n",
    "# 7 8 9 10"
   ]
  },
  {
   "cell_type": "code",
   "execution_count": 12,
   "id": "9d1d8203",
   "metadata": {},
   "outputs": [
    {
     "name": "stdout",
     "output_type": "stream",
     "text": [
      "maximum number in the pattern \n",
      "4\n",
      "\n",
      "\n",
      "1 \n",
      "\n",
      "2 3 \n",
      "\n",
      "4 5 6 \n",
      "\n",
      "7 8 9 10 "
     ]
    }
   ],
   "source": [
    "%reset -f\n",
    "num=int(input(\"maximum number in the pattern \\n\"))\n",
    "sum=0\n",
    "for i in list(range(1,num+1,1)):\n",
    "    print(\"\\n\")\n",
    "    for j in list(range(1,i+1,1)):          \n",
    "        sum += 1\n",
    "        print(sum,end=\" \")"
   ]
  },
  {
   "cell_type": "markdown",
   "id": "c3070053",
   "metadata": {},
   "source": [
    "# 46. Write a program to calculate the sum of the following series till the nth term\n",
    "\n",
    "# 1/1! + 2/2! + 3/3! + 4/4! +…….+ n/n!\n"
   ]
  },
  {
   "cell_type": "code",
   "execution_count": null,
   "id": "ac75c143",
   "metadata": {},
   "outputs": [],
   "source": []
  },
  {
   "cell_type": "code",
   "execution_count": 12,
   "id": "af5671af",
   "metadata": {},
   "outputs": [
    {
     "name": "stdout",
     "output_type": "stream",
     "text": [
      "enter n \n",
      " 10\n",
      "2.7182815255731922\n"
     ]
    }
   ],
   "source": [
    "%reset -f\n",
    "def factorial(n):\n",
    "    total=1\n",
    "    while n>1:\n",
    "        total=total * n\n",
    "        n -= 1\n",
    "    return(total)\n",
    "\n",
    "n=int(input(\"enter n \\n \"))\n",
    "sum=0\n",
    "for i in range(1,n+1,1):\n",
    "    sum= sum + (i/factorial(i))\n",
    "\n",
    "print(sum)"
   ]
  },
  {
   "cell_type": "code",
   "execution_count": null,
   "id": "2f2a4bbb",
   "metadata": {},
   "outputs": [],
   "source": []
  },
  {
   "cell_type": "markdown",
   "id": "47a0b815",
   "metadata": {},
   "source": [
    "# 46. Write a program to calculate the sum of the following series till the nth term\n",
    "\n",
    "# 1 + x^2/2 + x^3/3 + … x^n/n\n"
   ]
  },
  {
   "cell_type": "code",
   "execution_count": 13,
   "id": "640cddb9",
   "metadata": {},
   "outputs": [
    {
     "name": "stdout",
     "output_type": "stream",
     "text": [
      "enter x \n",
      " 2\n",
      "enter n \n",
      " 3\n",
      "5.666666666666666\n"
     ]
    }
   ],
   "source": [
    "%reset -f\n",
    "x=int(input(\"enter x \\n \"))\n",
    "n=int(input(\"enter n \\n \"))\n",
    "sum=1\n",
    "for i in range(2,n+1,1):\n",
    "    sum= sum + (x**i)/i\n",
    "\n",
    "print(sum)"
   ]
  },
  {
   "cell_type": "code",
   "execution_count": null,
   "id": "50bccf2a",
   "metadata": {},
   "outputs": [],
   "source": []
  },
  {
   "cell_type": "markdown",
   "id": "1ff16c1c",
   "metadata": {},
   "source": [
    "# 49. Write a program that keeps on accepting a number from the user until the user enters Zero. Display the sum and average of all the numbers.\n",
    "\n"
   ]
  },
  {
   "cell_type": "code",
   "execution_count": 26,
   "id": "654ae25b",
   "metadata": {},
   "outputs": [
    {
     "name": "stdout",
     "output_type": "stream",
     "text": [
      "enter a number \n",
      " 1\n",
      "enter a number \n",
      " 2\n",
      "enter a number \n",
      " 3\n",
      "enter a number \n",
      " 4\n",
      "enter a number \n",
      " 0\n",
      "[1, 2, 3, 4]\n",
      "10\n",
      "2.5\n"
     ]
    }
   ],
   "source": [
    "%reset -f\n",
    "num=1\n",
    "input_list=[]\n",
    "while num!=0:\n",
    "    num=int(input(\"enter a number \\n \"))\n",
    "    if num==0:\n",
    "        break\n",
    "    input_list.append(num)\n",
    "    \n",
    "print(input_list)\n",
    "print(sum(input_list))\n",
    "type(input_list[1])\n",
    "print(sum(input_list)/len(input_list))\n",
    "    "
   ]
  },
  {
   "cell_type": "code",
   "execution_count": null,
   "id": "2864c025",
   "metadata": {},
   "outputs": [],
   "source": []
  },
  {
   "cell_type": "markdown",
   "id": "b8f91c93",
   "metadata": {},
   "source": [
    "# 50. Write a program that accepts 2 numbers from the user a numerator\n",
    "# and a denominator and then simplifies it\n",
    "# Eg if the num = 5, den = 15 the answer should be ⅓\n",
    "# Eg if the num = 6, den = 9 the answer should be ⅔\n",
    "\n"
   ]
  },
  {
   "cell_type": "code",
   "execution_count": 8,
   "id": "4ec81903",
   "metadata": {},
   "outputs": [
    {
     "name": "stdout",
     "output_type": "stream",
     "text": [
      "Enter the numerator \n",
      "5\n",
      "Enter the denominator \n",
      "15\n",
      "The simplified version is 1.0/3.0\n"
     ]
    }
   ],
   "source": [
    "%reset -f\n",
    "def find_HCF(a,b):\n",
    "    factors=[]\n",
    "    larger_num=max(a,b)\n",
    "    for i in range(larger_num,0,-1):\n",
    "        if a%i==0 and b%i==0:\n",
    "            factors.append(i)\n",
    "    return max(factors)\n",
    "\n",
    "num=int(input(\"Enter the numerator \\n\"))\n",
    "den=int(input(\"Enter the denominator \\n\"))\n",
    "a=find_HCF(num,den)\n",
    "print(\"The simplified version is \" + str(num/a) + \"/\" + str(den/a))"
   ]
  },
  {
   "cell_type": "markdown",
   "id": "4b9ae4b6",
   "metadata": {},
   "source": [
    "# 51. Find the length of a given string without using the len() function"
   ]
  },
  {
   "cell_type": "code",
   "execution_count": 12,
   "id": "751c4ed4",
   "metadata": {
    "scrolled": true
   },
   "outputs": [
    {
     "name": "stdout",
     "output_type": "stream",
     "text": [
      "12\n"
     ]
    }
   ],
   "source": [
    "%reset -f\n",
    "my_name=\"Whats up bro\"\n",
    "length=0\n",
    "for i in my_name:\n",
    "    length += 1\n",
    "\n",
    "print(length)"
   ]
  },
  {
   "cell_type": "markdown",
   "id": "b9659067",
   "metadata": {},
   "source": [
    "# 52.Extract username from a given email. Eg if the email is nitish24singh@gmail.com then the username should be nitish24singh"
   ]
  },
  {
   "cell_type": "code",
   "execution_count": 13,
   "id": "c16c3863",
   "metadata": {
    "scrolled": true
   },
   "outputs": [
    {
     "name": "stdout",
     "output_type": "stream",
     "text": [
      "chinmaya\n"
     ]
    }
   ],
   "source": [
    "%reset -f\n",
    "my_id=\"chinmaya@gmail.com\"\n",
    "a=my_id.split(\"@\")\n",
    "print(a[0])"
   ]
  },
  {
   "cell_type": "markdown",
   "id": "0ee65d36",
   "metadata": {},
   "source": [
    "# 54.Find the index position of a particular character in another string"
   ]
  },
  {
   "cell_type": "code",
   "execution_count": 19,
   "id": "fa0e5cf8",
   "metadata": {},
   "outputs": [
    {
     "name": "stdout",
     "output_type": "stream",
     "text": [
      "Which character you want to search ?s\n",
      "4\n",
      "40\n",
      "46\n"
     ]
    }
   ],
   "source": [
    "%reset -f\n",
    "my_string=\"whats up brother, where were you all these days\"\n",
    "search_char=input(\"Which character you want to search ?\")\n",
    "for i in range(0,len(my_string),1):\n",
    "    if my_string[i]==search_char:\n",
    "        print(i)"
   ]
  },
  {
   "cell_type": "markdown",
   "id": "1d12bcf1",
   "metadata": {},
   "source": [
    "# 56.Write a program which can remove a particular character from a string"
   ]
  },
  {
   "cell_type": "code",
   "execution_count": 24,
   "id": "04a1bb6f",
   "metadata": {},
   "outputs": [
    {
     "name": "stdout",
     "output_type": "stream",
     "text": [
      "Which character you want to remove ?w\n",
      "hats up brother, here ere you all these days\n"
     ]
    }
   ],
   "source": [
    "%reset -f\n",
    "my_string=\"whats up brother, where were you all these days\"\n",
    "search_char=input(\"Which character you want to remove ?\")\n",
    "new_string=my_string.replace(search_char,\"\")\n",
    "print(new_string)\n",
    "#for i in range(0,len(my_string),1):\n",
    " #   if my_string[i]==search_char:\n",
    "  #      print(i)"
   ]
  },
  {
   "cell_type": "markdown",
   "id": "707ba982",
   "metadata": {},
   "source": [
    "# 57.Write a program that can check whether a given string is palindrome or not. e.g. madam\n"
   ]
  },
  {
   "cell_type": "code",
   "execution_count": 29,
   "id": "939eded4",
   "metadata": {},
   "outputs": [
    {
     "name": "stdout",
     "output_type": "stream",
     "text": [
      "input your string \n",
      "reviver\n",
      "Pallindrome\n"
     ]
    }
   ],
   "source": [
    "%reset -f\n",
    "count=0\n",
    "inp_str=input(\"input your string \\n\")\n",
    "total_length= len(inp_str)\n",
    "for i in range(0,total_length):\n",
    "    if inp_str[i]==inp_str[total_length-i-1]:\n",
    "        count += 1\n",
    "    \n",
    "if count==total_length:\n",
    "    print(\"Pallindrome\")\n",
    "else:\n",
    "    print(\"NON Pallindrome\")\n"
   ]
  },
  {
   "cell_type": "markdown",
   "id": "635cb9ea",
   "metadata": {},
   "source": [
    "# 58.Write a python program to remove all the duplicates from a list \n",
    "# (not solved yet)\n"
   ]
  },
  {
   "cell_type": "code",
   "execution_count": 21,
   "id": "3386a798",
   "metadata": {},
   "outputs": [
    {
     "ename": "IndexError",
     "evalue": "list index out of range",
     "output_type": "error",
     "traceback": [
      "\u001b[1;31m---------------------------------------------------------------------------\u001b[0m",
      "\u001b[1;31mIndexError\u001b[0m                                Traceback (most recent call last)",
      "Cell \u001b[1;32mIn[21], line 7\u001b[0m\n\u001b[0;32m      5\u001b[0m \u001b[38;5;28;01mfor\u001b[39;00m i \u001b[38;5;129;01min\u001b[39;00m \u001b[38;5;28mrange\u001b[39m(\u001b[38;5;241m0\u001b[39m,length,\u001b[38;5;241m1\u001b[39m):\n\u001b[0;32m      6\u001b[0m     \u001b[38;5;28;01mfor\u001b[39;00m j \u001b[38;5;129;01min\u001b[39;00m \u001b[38;5;28mrange\u001b[39m (\u001b[38;5;241m0\u001b[39m,length,\u001b[38;5;241m1\u001b[39m):\n\u001b[1;32m----> 7\u001b[0m         \u001b[38;5;28;01mif\u001b[39;00m my_list[i]\u001b[38;5;241m==\u001b[39mmy_list[j] \u001b[38;5;129;01mand\u001b[39;00m i\u001b[38;5;241m!=\u001b[39mj:\n\u001b[0;32m      8\u001b[0m             \u001b[38;5;28;01mdel\u001b[39;00m my_list[j]\n",
      "\u001b[1;31mIndexError\u001b[0m: list index out of range"
     ]
    }
   ],
   "source": [
    "#use del list[i] to delete an item\n",
    "%reset -f\n",
    "my_list=[20,30,5,0,20,40,30,10]\n",
    "length= len(my_list)\n",
    "for i in range(0,length,1):\n",
    "    for j in range (0,length,1):\n",
    "        if my_list[i]==my_list[j] and i!=j:\n",
    "            del my_list[j]\n",
    "        \n",
    "       # if i!=j and my_list[i]==my_list[j]:\n",
    "        #    del my_list[i]\n",
    "    "
   ]
  },
  {
   "cell_type": "code",
   "execution_count": null,
   "id": "bef6f3f6",
   "metadata": {},
   "outputs": [],
   "source": []
  }
 ],
 "metadata": {
  "kernelspec": {
   "display_name": "Python 3 (ipykernel)",
   "language": "python",
   "name": "python3"
  },
  "language_info": {
   "codemirror_mode": {
    "name": "ipython",
    "version": 3
   },
   "file_extension": ".py",
   "mimetype": "text/x-python",
   "name": "python",
   "nbconvert_exporter": "python",
   "pygments_lexer": "ipython3",
   "version": "3.11.4"
  }
 },
 "nbformat": 4,
 "nbformat_minor": 5
}
